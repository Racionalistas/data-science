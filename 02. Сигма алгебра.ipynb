{
 "cells": [
  {
   "cell_type": "markdown",
   "id": "0c481241",
   "metadata": {},
   "source": [
    "# Сигма-алгебра"
   ]
  },
  {
   "cell_type": "markdown",
   "id": "da41fdb0",
   "metadata": {},
   "source": [
    "Сигма-алгебра (σ-алгебра) - множество событий F, которое соблюдает следующие условия:\n",
    "\\\n",
    " 1. Ω ∈ F\n",
    " 2. Если A ∈ F, то ¬A ∈ F\n",
    " 3. Если A₁, A₂, ... ∈ F, то A₁ U A₂ U ... ∈ F (отличается от алгебры событий тем, количество событий может быть счетным, а не конечным)\n",
    "\n",
    "Наименьшая сигма-алгебра\n",
    "\n",
    "Полная система событий\n"
   ]
  }
 ],
 "metadata": {
  "kernelspec": {
   "display_name": "Python 3 (ipykernel)",
   "language": "python",
   "name": "python3"
  },
  "language_info": {
   "codemirror_mode": {
    "name": "ipython",
    "version": 3
   },
   "file_extension": ".py",
   "mimetype": "text/x-python",
   "name": "python",
   "nbconvert_exporter": "python",
   "pygments_lexer": "ipython3",
   "version": "3.8.2"
  }
 },
 "nbformat": 4,
 "nbformat_minor": 5
}
