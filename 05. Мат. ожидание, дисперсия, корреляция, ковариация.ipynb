{
 "cells": [
  {
   "cell_type": "markdown",
   "id": "c9b6b8f8",
   "metadata": {},
   "source": [
    "11.Мат.ожидание дискретной случайной величины. Примеры. Свойства\n",
    "\n",
    "12.Мат. ожидание абсолютно-непрерывной случайной величины.\n",
    "Интеграл по вероятностной мере. Свойства.\n",
    "13. Дисперсия и коварнация.\n",
    "14. Неравенства Коши-Буряковского-Шварца, Маркова и Чебышева."
   ]
  }
 ],
 "metadata": {
  "kernelspec": {
   "display_name": "Python 3 (ipykernel)",
   "language": "python",
   "name": "python3"
  },
  "language_info": {
   "codemirror_mode": {
    "name": "ipython",
    "version": 3
   },
   "file_extension": ".py",
   "mimetype": "text/x-python",
   "name": "python",
   "nbconvert_exporter": "python",
   "pygments_lexer": "ipython3",
   "version": "3.8.2"
  }
 },
 "nbformat": 4,
 "nbformat_minor": 5
}
