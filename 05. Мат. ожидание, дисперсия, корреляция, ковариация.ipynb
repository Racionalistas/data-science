{
 "cells": [
  {
   "cell_type": "markdown",
   "id": "5c6d754d",
   "metadata": {},
   "source": [
    "# Мат. ожидание, дисперсия, ковариация, моменты"
   ]
  },
  {
   "cell_type": "markdown",
   "id": "eb0fd4d6",
   "metadata": {},
   "source": [
    "<strong>Математическое ожидание (начальный момент)</strong> - среднее значение случайной величины, обозначается как $E{\\xi}$\n",
    "\n",
    "Пример 1: <i>дискретный случай</i> (брошенная кость):\n",
    "\n",
    "| i индекс               |  0  |  1  |  2  |  3  |  4  |  5  |\n",
    "| ---------------------- | --- | --- | --- | --- | --- | --- |\n",
    "| Xi случайная величина  |  1  |  2  |  3  |  4  |  5  |  6  |\n",
    "| Pi вероятность         | 1/6 | 1/6 | 1/6 | 1/6 | 1/6 | 1/6 |\n",
    "\n",
    "$E{\\xi} = P₁*X₁ + P₂*X₂ + P₃*X₃ + P₄*X₄ + P₅*X₅ + P₆*X₆$\n",
    "\n",
    "Формула:\n",
    "\n",
    "$E{\\xi}=\\sum {x}^{}_{i}*P(\\xi={x}^{}_{i})$\n",
    "\n",
    "Пример 2: <i>непрерывный случай</i>:\n",
    "\n",
    "$E{\\xi}=\\int_{-∞}^∞ {x}^{}_{i}*dP(\\xi={x}^{}_{i})$\n",
    "\n",
    "<strong>Свойства мат. ожидания:</strong>\n",
    "\n",
    "1. $E[c] = c$\n",
    "2. Если ξ ≥ 0, то $E$<sub>ξ</sub> ≥ 0\n",
    "3. Если P(ξ = 0) = 1, то $E$<sub>ξ</sub> = 0\n",
    "4. Мат. ожидание линейно: $E[aX+bY] = a*E[X] + b*E[Y]$\n",
    "5. Если случайные величины X, Y - независимы, то $E[X*Y] = E[X] * E[Y]$\n",
    "6. Мат. ожидание сохраняет неравенства: X ≤ Y => $E[X] ≤ E[Y]$"
   ]
  },
  {
   "cell_type": "markdown",
   "id": "4c5c3a61",
   "metadata": {},
   "source": [
    "<strong>Дисперсия (центральный момент)</strong> - мат. ожидание квадрата отклонения случайной величины от её математического ожидания или же $D[X] = E[(X - E[X])^2]$\n",
    "\n",
    "<strong>Ковариация</strong> - мера зависимости двух случайных величин, 0 - случайные величины могут быть независимыми, но не обязаны, но если X, Y независимы, то $cov(X, Y) = 0$ "
   ]
  },
  {
   "cell_type": "markdown",
   "id": "61dcb965",
   "metadata": {},
   "source": [
    "<strong>Момент случайной величины</strong> - числовая характеристика распределения случайно величины."
   ]
  },
  {
   "cell_type": "code",
   "execution_count": 1,
   "id": "62fd89a1",
   "metadata": {},
   "outputs": [],
   "source": [
    "import numpy as np\n",
    "import scipy.stats as sps\n",
    "import matplotlib.pyplot as plt\n",
    "import random\n",
    "from collections import Counter\n",
    "from collections import OrderedDict\n",
    "\n",
    "%matplotlib inline"
   ]
  },
  {
   "cell_type": "code",
   "execution_count": 2,
   "id": "dac70863",
   "metadata": {},
   "outputs": [],
   "source": [
    "def draw(p, x_min, x_max, y_max, grid_size = 100, **kwargs):\n",
    "    \n",
    "    grid = np.linspace(x_min, x_max, grid_size)\n",
    "    \n",
    "    plt.figure(figsize = (14, 5))\n",
    "    plt.plot(grid, p(grid, **kwargs), lw = 3)\n",
    "    plt.grid(ls = ':')\n",
    "    plt.xlim((x_min, x_max))\n",
    "    plt.ylim((None, y_max))\n",
    "    plt.show()"
   ]
  },
  {
   "cell_type": "markdown",
   "id": "e9566950",
   "metadata": {},
   "source": [
    "<strong>Плотность распределения</strong> это первая производная функции распределения случайной величины.\n",
    "Площадь между осью значений случайных величин и кривой плотности распределения равна <i>единице</i>.\n",
    "\n",
    "\n",
    "<strong>Плотность нормального распределения</strong>"
   ]
  },
  {
   "cell_type": "code",
   "execution_count": 3,
   "id": "1233a50e",
   "metadata": {},
   "outputs": [],
   "source": [
    "draw(sps.norm.pdf, -20, 20, 0.1, scale=5.0)"
   ]
  },
  {
   "cell_type": "markdown",
   "id": "62d54ce9",
   "metadata": {},
   "source": [
    "<strong>Плотность равномерного распределения<strong>"
   ]
  },
  {
   "cell_type": "code",
   "execution_count": 4,
   "id": "9bec0fcb",
   "metadata": {},
   "outputs": [],
   "source": [
    "draw(sps.uniform.pdf, -2, 5, 0.5, scale = 3)"
   ]
  },
  {
   "cell_type": "markdown",
   "id": "d4d3c117",
   "metadata": {},
   "source": [
    "<strong>Плотность экспоненциального распределения<strong>"
   ]
  },
  {
   "cell_type": "code",
   "execution_count": 5,
   "id": "7bb8055e",
   "metadata": {},
   "outputs": [],
   "source": [
    "draw(sps.expon.pdf, -5, 10, 0.75, scale = 2)"
   ]
  },
  {
   "cell_type": "markdown",
   "id": "135429ab",
   "metadata": {},
   "source": [
    "## Плотность биномиального распределения (дискретное)"
   ]
  },
  {
   "cell_type": "markdown",
   "id": "4cb5280d",
   "metadata": {},
   "source": [
    "Биномиальное распределение - распределение количества «успехов» в последовательности из \n",
    "N независимых случайных экспериментов, таких, что вероятность «успеха» в каждом из них постоянна и равна p. Где $p$ - вероятность одного благоприятного события, а $p - 1$ вероятность одного неудачного эксперимента.\n",
    "\n",
    "Пример: независимо подбрасываем N монет, может выпасть исключительно одно из следующих событий { 'Орел', 'Решка' }. Нас интересует количество событий { 'Орел' } из всех проведенных экспериментов."
   ]
  },
  {
   "cell_type": "code",
   "execution_count": 6,
   "id": "ea4636e4",
   "metadata": {},
   "outputs": [],
   "source": [
    "Ω = [ 'Орел', 'Решка' ] # множество элементарных событий\n",
    "A = [ 'Орел' ] # благоприятное событие\n",
    "\n",
    "N = 100 # количество экспериментов\n",
    "D = 2000 # количество индервалов для деления\n",
    "flips = 100 # количество подбрасываний монеток в каждом эксперименте\n",
    "P = len(A) / len(Ω) # вероятность события { 'Орел' }\n",
    "\n",
    "o = 10 ** -5 # маленькое число, нужно для отрисовки интервалов "
   ]
  },
  {
   "cell_type": "markdown",
   "id": "1eb6b09f",
   "metadata": {},
   "source": [
    "#### Искусственный пример"
   ]
  },
  {
   "cell_type": "code",
   "execution_count": 7,
   "id": "ec08d371",
   "metadata": {},
   "outputs": [],
   "source": [
    "def experimental(n = N, dist = D, color = 'yellow'):\n",
    "    interval = np.arange(dist)\n",
    "    binomial = sps.binom.pmf(interval, n, P)\n",
    "    \n",
    "    plt.bar(interval, binomial)"
   ]
  },
  {
   "cell_type": "code",
   "execution_count": 8,
   "id": "b63748a2",
   "metadata": {
    "scrolled": true
   },
   "outputs": [],
   "source": [
    "experimental(N, D)\n",
    "plt.xlim([\n",
    "    sps.binom.ppf(o, N, P), \n",
    "    sps.binom.ppf(1 - o, N, P)\n",
    "])\n",
    "plt.show()"
   ]
  },
  {
   "cell_type": "markdown",
   "id": "40c238f6",
   "metadata": {},
   "source": [
    "#### Практический пример"
   ]
  },
  {
   "cell_type": "code",
   "execution_count": 17,
   "id": "d6265e69",
   "metadata": {},
   "outputs": [],
   "source": [
    "def generate(N):\n",
    "    values = []\n",
    "\n",
    "    for i in range(N):\n",
    "        value = random.choices(Ω, k = flips).count(A[0])\n",
    "        values.append(value)\n",
    "    \n",
    "    return np.array(values)\n",
    "\n",
    "def practical(repeats):\n",
    "    \n",
    "    values = np.arange(repeats)\n",
    "    probabilities = generate(repeats)\n",
    "    \n",
    "    dictionary = dict.fromkeys(values, 0)\n",
    "    \n",
    "    for i in probabilities:\n",
    "        dictionary[int(i)] += dictionary.get(int(i), 0) + 1 / repeats\n",
    "    \n",
    "    return dictionary.keys(), np.array(list(dictionary.values()))\n",
    "\n",
    "def add_graph(repeats, color):\n",
    "    \n",
    "    values, probabilities = practical(repeats)\n",
    "    \n",
    "    plt.plot(values, probabilities, color = color)\n",
    "    \n",
    "    return values, probabilities\n"
   ]
  },
  {
   "cell_type": "markdown",
   "id": "5cd904e2",
   "metadata": {},
   "source": [
    "Покажем на одном графике искусственный и практические примеры. "
   ]
  },
  {
   "cell_type": "code",
   "execution_count": 18,
   "id": "ebee3396",
   "metadata": {},
   "outputs": [],
   "source": [
    "add_graph(100, color = 'red')\n",
    "add_graph(2_000, color = 'green')\n",
    "add_graph(50_000, color = 'blue')\n",
    "\n",
    "experimental(N, D)\n",
    "\n",
    "# устанавливаем интервал отрисовки по крайним значениями\n",
    "# теоретического биномиального распределения\n",
    "plt.xlim([\n",
    "    sps.binom.ppf(o, N, P), \n",
    "    sps.binom.ppf(1 - o, N, P)\n",
    "])\n",
    "plt.show()"
   ]
  },
  {
   "cell_type": "markdown",
   "id": "a37bb8bd",
   "metadata": {},
   "source": [
    "Как мы видим, чем больше выборка в практическом варианте, тем ближе она к теоретическому примеру."
   ]
  },
  {
   "cell_type": "markdown",
   "id": "0122d55c",
   "metadata": {},
   "source": [
    "#### Биномиальный тест\n",
    "\n",
    "Проведем проверку, что вероятность успеха равна $P$"
   ]
  },
  {
   "cell_type": "markdown",
   "id": "91e5929b",
   "metadata": {},
   "source": [
    "1. Количество всех благоприятных исходов\n",
    "2. Количество экспериментов\n",
    "3. Ожидаемая вероятность"
   ]
  },
  {
   "cell_type": "code",
   "execution_count": 11,
   "id": "78697295",
   "metadata": {},
   "outputs": [],
   "source": [
    "sps.binomtest(50, flips, 0.5)"
   ]
  },
  {
   "cell_type": "markdown",
   "id": "96619a78",
   "metadata": {},
   "source": [
    "То есть, вероятность того, что из flips подбрасываний, выпадет 50 орлов равна 0.5 с вероятностью $p-value = 1$ "
   ]
  },
  {
   "cell_type": "code",
   "execution_count": 12,
   "id": "a4b253ec",
   "metadata": {},
   "outputs": [],
   "source": [
    "sps.binomtest(sum(generate(N)), N * flips, P)"
   ]
  },
  {
   "cell_type": "markdown",
   "id": "acb5db41",
   "metadata": {},
   "source": [
    "$p-value > 0.05$, следовательно у нас хорошие шансы на то, что у нас правильно задана $P$"
   ]
  },
  {
   "cell_type": "markdown",
   "id": "f4edb1c0",
   "metadata": {},
   "source": [
    "#### Важная идея (<a href=\"https://habr.com/ru/articles/730936/\">источник</a>)\n",
    "\n",
    "Графики, которые мы получили очень похожи на нормальное распределение, по сути, биномиальное распределение это предельный случай нормального распределения.\n",
    "\n",
    "Предположим, у нас есть последовательность испытаний Бернулли, каждое с вероятностью успеха p, и мы повторяем этот эксперимент n раз. Пусть X — количество успехов в n испытаниях. Тогда X  имеет биномиальное распределение с параметрами n, p. Функция массы вероятности X  определяется как:\n",
    "\n",
    "\\begin{equation} P(X=k) = \\binom{n}{k}p^k(1-p)^{n-k} \\end{equation}\n",
    "Самая тяжелая часть — факториал. Давайте воспользуемся приближением Cтирлинга, чтобы вычислить факториалы быстрее:\n",
    "\n",
    "\\begin{equation} n! \\approx n^n e^{-n} \\sqrt{2\\pi n}= \\sqrt{2\\pi n}(\\frac{n}{e})^n \\end{equation}\n",
    "Подставив это в Биномиальный коэффициент мы получаем:\n",
    "\n",
    "\\begin{align} \\frac{n!}{k!(n-k)!} \\approx \\frac{\\sqrt{2\\pi n}(\\frac{n}{e})^n}{\\sqrt{2\\pi k}(\\frac{k}{e})^k \\sqrt{2\\pi (n-k)}(\\frac{n-k}{e})^{n-k}}   \\end{align}\n",
    "Это может выглядеть пугающе, но на самом деле это просто замена и некоторая перестановка терминов.\n",
    "\n",
    "Подставляя это приближение в PMF Биномиального распределения, мы получаем:\n",
    "\n",
    "\\begin{align} P(X=k) = \\binom{n}{k}p^k(1-p)^{n-k} \\approx \\frac{1}{\\sqrt{2\\pi n p (1-p)}} \\cdot \\exp\\left(-\\frac{(k-np)^2}{2np(1-p)}\\right) \\end{align}\n",
    "Это функция плотности вероятности нормального распределения при $\\mu = np$, и квадратом $\\sigma^2 = np(1-p)$:\n",
    "\n",
    "\\begin{equation} f(x) = \\frac{1}{\\sqrt{2\\pi\\sigma^2}}\\exp\\left(-\\frac{(x-\\mu)^2}{2\\sigma^2}\\right) \\end{equation}"
   ]
  }
 ],
 "metadata": {
  "kernelspec": {
   "display_name": "Python 3 (ipykernel)",
   "language": "python",
   "name": "python3"
  },
  "language_info": {
   "codemirror_mode": {
    "name": "ipython",
    "version": 3
   },
   "file_extension": ".py",
   "mimetype": "text/x-python",
   "name": "python",
   "nbconvert_exporter": "python",
   "pygments_lexer": "ipython3",
   "version": "3.11.3"
  }
 },
 "nbformat": 4,
 "nbformat_minor": 5
}
