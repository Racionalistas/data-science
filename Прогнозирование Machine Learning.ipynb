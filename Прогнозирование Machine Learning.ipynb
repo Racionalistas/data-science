{
 "cells": [
  {
   "cell_type": "markdown",
   "id": "9f36b2b5",
   "metadata": {},
   "source": [
    "# Изучаю Machine Learning"
   ]
  },
  {
   "cell_type": "markdown",
   "id": "8f5af515",
   "metadata": {},
   "source": [
    "<strong>Цель:</strong> хочу уметь прогнозировать поведение субъектов для повышения количества продаж продуктов, для повышения вовлеченности пользователей.\n",
    "\n",
    "Созданию понимание на базе открытых <a href=\"https://www.youtube.com/watch?v=7eh4d6sabA0&ab_channel=ProgrammingwithMosh\">курсов</a>. "
   ]
  },
  {
   "cell_type": "markdown",
   "id": "a24b436a",
   "metadata": {},
   "source": [
    "### Обучение и прогнозирование"
   ]
  },
  {
   "cell_type": "markdown",
   "id": "d920a6d6",
   "metadata": {},
   "source": [
    "У нас есть конечный набор входных и выходных данных. Мы хотим предсказать результат выходных данных и их точноть по новым, полученным из вне, опираясь на готовую модель."
   ]
  },
  {
   "cell_type": "code",
   "execution_count": 1,
   "id": "9d629f7d",
   "metadata": {},
   "outputs": [],
   "source": [
    "import pandas as pd\n",
    "from sklearn.tree import DecisionTreeClassifier"
   ]
  },
  {
   "cell_type": "markdown",
   "id": "354df1bb",
   "metadata": {},
   "source": [
    "Считываем данные из .csv файла и выводим парочку для понимания"
   ]
  },
  {
   "cell_type": "code",
   "execution_count": 2,
   "id": "36ae3ce1",
   "metadata": {},
   "outputs": [
    {
     "data": {
      "text/html": [
       "<div>\n",
       "<style scoped>\n",
       "    .dataframe tbody tr th:only-of-type {\n",
       "        vertical-align: middle;\n",
       "    }\n",
       "\n",
       "    .dataframe tbody tr th {\n",
       "        vertical-align: top;\n",
       "    }\n",
       "\n",
       "    .dataframe thead th {\n",
       "        text-align: right;\n",
       "    }\n",
       "</style>\n",
       "<table border=\"1\" class=\"dataframe\">\n",
       "  <thead>\n",
       "    <tr style=\"text-align: right;\">\n",
       "      <th></th>\n",
       "      <th>age</th>\n",
       "      <th>gender</th>\n",
       "      <th>genre</th>\n",
       "    </tr>\n",
       "  </thead>\n",
       "  <tbody>\n",
       "    <tr>\n",
       "      <th>0</th>\n",
       "      <td>20</td>\n",
       "      <td>1</td>\n",
       "      <td>HipHop</td>\n",
       "    </tr>\n",
       "    <tr>\n",
       "      <th>1</th>\n",
       "      <td>23</td>\n",
       "      <td>1</td>\n",
       "      <td>HipHop</td>\n",
       "    </tr>\n",
       "    <tr>\n",
       "      <th>2</th>\n",
       "      <td>25</td>\n",
       "      <td>1</td>\n",
       "      <td>HipHop</td>\n",
       "    </tr>\n",
       "    <tr>\n",
       "      <th>3</th>\n",
       "      <td>26</td>\n",
       "      <td>1</td>\n",
       "      <td>Jazz</td>\n",
       "    </tr>\n",
       "    <tr>\n",
       "      <th>4</th>\n",
       "      <td>29</td>\n",
       "      <td>1</td>\n",
       "      <td>Jazz</td>\n",
       "    </tr>\n",
       "  </tbody>\n",
       "</table>\n",
       "</div>"
      ],
      "text/plain": [
       "   age  gender   genre\n",
       "0   20       1  HipHop\n",
       "1   23       1  HipHop\n",
       "2   25       1  HipHop\n",
       "3   26       1    Jazz\n",
       "4   29       1    Jazz"
      ]
     },
     "execution_count": 2,
     "metadata": {},
     "output_type": "execute_result"
    }
   ],
   "source": [
    "music_data = pd.read_csv('datasets/music.csv')\n",
    "music_data.head()"
   ]
  },
  {
   "cell_type": "markdown",
   "id": "9516379a",
   "metadata": {},
   "source": [
    "Создаем значения для вводных данных (возраст и пол) и для выходных данных (жанр музыки), строим по ним предсказательную модель."
   ]
  },
  {
   "cell_type": "code",
   "execution_count": 3,
   "id": "ab3ffbfb",
   "metadata": {},
   "outputs": [],
   "source": [
    "X = music_data.drop(columns = ['genre'])\n",
    "Y = music_data['genre']\n",
    "\n",
    "model = DecisionTreeClassifier().fit(X.values, Y)"
   ]
  },
  {
   "cell_type": "markdown",
   "id": "fbebc398",
   "metadata": {},
   "source": [
    "Подаем на вход 22 летнего человека с полом 0, которого нет в начальных данных, и просим предсказать его любимый жанр музыки"
   ]
  },
  {
   "cell_type": "code",
   "execution_count": 4,
   "id": "974e11e3",
   "metadata": {},
   "outputs": [
    {
     "data": {
      "text/plain": [
       "array(['Dance'], dtype=object)"
      ]
     },
     "execution_count": 4,
     "metadata": {},
     "output_type": "execute_result"
    }
   ],
   "source": [
    "model.predict([ [22, 0] ])"
   ]
  },
  {
   "cell_type": "markdown",
   "id": "927aac56",
   "metadata": {},
   "source": [
    "Тоже самое, только подаём на вход человека с возрастом 21 и полом 1"
   ]
  },
  {
   "cell_type": "code",
   "execution_count": 5,
   "id": "25dfb3cc",
   "metadata": {},
   "outputs": [
    {
     "data": {
      "text/plain": [
       "array(['HipHop'], dtype=object)"
      ]
     },
     "execution_count": 5,
     "metadata": {},
     "output_type": "execute_result"
    }
   ],
   "source": [
    "model.predict([ [21, 1] ])"
   ]
  },
  {
   "cell_type": "markdown",
   "id": "995b6fc5",
   "metadata": {},
   "source": [
    "### Вычисление точности"
   ]
  },
  {
   "cell_type": "code",
   "execution_count": 6,
   "id": "996f141f",
   "metadata": {},
   "outputs": [],
   "source": [
    "from sklearn.model_selection import train_test_split\n",
    "from sklearn.metrics import accuracy_score"
   ]
  },
  {
   "cell_type": "markdown",
   "id": "c8bcac7d",
   "metadata": {},
   "source": [
    "Разбиваем начальные данные на две категории: данные для обучения модели и для её тестирования"
   ]
  },
  {
   "cell_type": "code",
   "execution_count": 7,
   "id": "decd0338",
   "metadata": {},
   "outputs": [],
   "source": [
    "X_train, X_test, Y_train, Y_test = train_test_split(X.values, Y, test_size = 0.2)"
   ]
  },
  {
   "cell_type": "markdown",
   "id": "c7347374",
   "metadata": {},
   "source": [
    "Тренируем нашу модель и делаем предсказание "
   ]
  },
  {
   "cell_type": "code",
   "execution_count": 8,
   "id": "e066bd5a",
   "metadata": {},
   "outputs": [
    {
     "name": "stdout",
     "output_type": "stream",
     "text": [
      "['Dance' 'Classical' 'Acoustic' 'HipHop']\n"
     ]
    }
   ],
   "source": [
    "model = DecisionTreeClassifier().fit(X_train, Y_train)\n",
    "predictions = model.predict(X_test)\n",
    "\n",
    "print(predictions)"
   ]
  },
  {
   "cell_type": "markdown",
   "id": "d2e3c043",
   "metadata": {},
   "source": [
    "Опираясь на тестовые данные, оцениваем точность нашего предсказания"
   ]
  },
  {
   "cell_type": "code",
   "execution_count": 9,
   "id": "31a1dfdf",
   "metadata": {},
   "outputs": [
    {
     "data": {
      "text/plain": [
       "1.0"
      ]
     },
     "execution_count": 9,
     "metadata": {},
     "output_type": "execute_result"
    }
   ],
   "source": [
    "score = accuracy_score(Y_test, predictions)\n",
    "score"
   ]
  },
  {
   "cell_type": "markdown",
   "id": "471a0b65",
   "metadata": {},
   "source": [
    "### Сохранение и загрузка моделей"
   ]
  },
  {
   "cell_type": "markdown",
   "id": "ba8ed111",
   "metadata": {},
   "source": [
    "Данных может быть очень много и времени на обучение модели может уйти много, поэтому нужно понимать как сохранять и загружать модели"
   ]
  },
  {
   "cell_type": "code",
   "execution_count": 10,
   "id": "dc572658",
   "metadata": {},
   "outputs": [],
   "source": [
    "import joblib"
   ]
  },
  {
   "cell_type": "markdown",
   "id": "ca345e44",
   "metadata": {},
   "source": [
    "Сохранение"
   ]
  },
  {
   "cell_type": "code",
   "execution_count": 11,
   "id": "2f206f80",
   "metadata": {},
   "outputs": [
    {
     "data": {
      "text/plain": [
       "['models/music-recommender.joblib']"
      ]
     },
     "execution_count": 11,
     "metadata": {},
     "output_type": "execute_result"
    }
   ],
   "source": [
    "joblib.dump(model, 'models/music-recommender.joblib')"
   ]
  },
  {
   "cell_type": "markdown",
   "id": "5bc825e9",
   "metadata": {},
   "source": [
    "Загрузка и предсказание"
   ]
  },
  {
   "cell_type": "code",
   "execution_count": 12,
   "id": "b1bf5780",
   "metadata": {},
   "outputs": [
    {
     "data": {
      "text/plain": [
       "array(['Dance'], dtype=object)"
      ]
     },
     "execution_count": 12,
     "metadata": {},
     "output_type": "execute_result"
    }
   ],
   "source": [
    "loaded_model = joblib.load('models/music-recommender.joblib')\n",
    "loaded_model.predict([ [22, 0] ])"
   ]
  },
  {
   "cell_type": "markdown",
   "id": "d4c4fbba",
   "metadata": {},
   "source": [
    "### Визуализация древа выбора"
   ]
  },
  {
   "cell_type": "code",
   "execution_count": 13,
   "id": "1030c683",
   "metadata": {},
   "outputs": [],
   "source": [
    "from sklearn import tree\n",
    "import matplotlib.pyplot as plt"
   ]
  },
  {
   "cell_type": "code",
   "execution_count": 14,
   "id": "c5682a4e",
   "metadata": {},
   "outputs": [
    {
     "data": {
      "image/png": "[encoded data removed]",
      "text/plain": [
       "<Figure size 640x480 with 1 Axes>"
      ]
     },
     "metadata": {},
     "output_type": "display_data"
    }
   ],
   "source": [
    "plot = tree.plot_tree(\n",
    "    model, \n",
    "    feature_names = [ 'age', 'gender' ],\n",
    "    class_names = sorted(Y.unique()),\n",
    "    label = 'all',\n",
    "    rounded = True,\n",
    "    filled = True\n",
    ")"
   ]
  }
 ],
 "metadata": {
  "kernelspec": {
   "display_name": "Python 3 (ipykernel)",
   "language": "python",
   "name": "python3"
  },
  "language_info": {
   "codemirror_mode": {
    "name": "ipython",
    "version": 3
   },
   "file_extension": ".py",
   "mimetype": "text/x-python",
   "name": "python",
   "nbconvert_exporter": "python",
   "pygments_lexer": "ipython3",
   "version": "3.8.2"
  }
 },
 "nbformat": 4,
 "nbformat_minor": 5
}
