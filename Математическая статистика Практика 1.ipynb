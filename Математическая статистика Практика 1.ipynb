{
 "cells": [
  {
   "cell_type": "markdown",
   "metadata": {},
   "source": [
    "# Математическая статистика"
   ]
  },
  {
   "cell_type": "code",
   "execution_count": 1,
   "metadata": {},
   "outputs": [],
   "source": [
    "import numpy as np\n",
    "import scipy.stats as sps\n",
    "import ipywidgets as widgets\n",
    "import matplotlib.pyplot as plt\n",
    "\n",
    "%matplotlib inline"
   ]
  },
  {
   "cell_type": "markdown",
   "metadata": {},
   "source": [
    "**Задача.** Получение и визуализация выборки заданного дискретного и непрерывного распределения "
   ]
  },
  {
   "cell_type": "markdown",
   "metadata": {},
   "source": [
    "<i>Шаг 1.</i> \n",
    "\n",
    "Из списка дискретных случайных величин и непрерывных выберите случайные величины с номером $N$. "
   ]
  },
  {
   "cell_type": "code",
   "execution_count": 2,
   "metadata": {},
   "outputs": [
    {
     "name": "stdout",
     "output_type": "stream",
     "text": [
      "Сумма частот:  0.9999999999999997 , что не равно 1 из-за дискретности ЭВМ, поэтому далее будет выполнена нормализация\n"
     ]
    }
   ],
   "source": [
    "N = 14 # номер в группе\n",
    "variants = np.array([1, 4, 6, 7, 12, 27, 28, 29.5, 30, 31.9, 32, 39, 39.1, 39.2, 39.3, 39.4, 40, 41, 42, 50])\n",
    "freq = np.array([2, 3, 4, 5, 6, 7, 7, 5, 6, 7, 8, 10, 25, 1, 1, 1, 1, 1, 4, 1]) / 105\n",
    "\n",
    "print('Сумма частот: ', sum(freq), ', что не равно 1 из-за дискретности ЭВМ, поэтому далее будет выполнена нормализация')"
   ]
  },
  {
   "cell_type": "markdown",
   "metadata": {},
   "source": [
    "Визуализируем входные данные:"
   ]
  },
  {
   "cell_type": "code",
   "execution_count": 3,
   "metadata": {},
   "outputs": [
    {
     "data": {
      "image/png": "[encoded data removed]",
      "text/plain": [
       "<Figure size 640x480 with 1 Axes>"
      ]
     },
     "metadata": {},
     "output_type": "display_data"
    },
    {
     "data": {
      "text/plain": [
       "{1.0: 0.01904761904761905,\n",
       " 4.0: 0.02857142857142857,\n",
       " 6.0: 0.0380952380952381,\n",
       " 7.0: 0.047619047619047616,\n",
       " 12.0: 0.05714285714285714,\n",
       " 27.0: 0.06666666666666667,\n",
       " 28.0: 0.06666666666666667,\n",
       " 29.5: 0.047619047619047616,\n",
       " 30.0: 0.05714285714285714,\n",
       " 31.9: 0.06666666666666667,\n",
       " 32.0: 0.0761904761904762,\n",
       " 39.0: 0.09523809523809523,\n",
       " 39.1: 0.23809523809523808,\n",
       " 39.2: 0.009523809523809525,\n",
       " 39.3: 0.009523809523809525,\n",
       " 39.4: 0.009523809523809525,\n",
       " 40.0: 0.009523809523809525,\n",
       " 41.0: 0.009523809523809525,\n",
       " 42.0: 0.0380952380952381,\n",
       " 50.0: 0.009523809523809525}"
      ]
     },
     "execution_count": 3,
     "metadata": {},
     "output_type": "execute_result"
    }
   ],
   "source": [
    "table = dict(zip(variants, freq))\n",
    "plt.plot(variants, freq, '-o')\n",
    "plt.show()\n",
    "table"
   ]
  },
  {
   "cell_type": "markdown",
   "metadata": {},
   "source": [
    "<i>Шаг 2.</i>\n",
    "\n",
    "Для данных случайных величин, как в примере в конце практикума, создайте функцию распределения вашей случайной величины (если необходимо)."
   ]
  },
  {
   "cell_type": "code",
   "execution_count": 4,
   "metadata": {},
   "outputs": [],
   "source": [
    "freq_norm = tuple(p / sum(freq) for p in freq) # трюк, чтобы сумма все же была равна единице\n",
    "distribution = sps.rv_discrete(values = (variants, freq_norm))"
   ]
  },
  {
   "cell_type": "markdown",
   "metadata": {},
   "source": [
    "<i>Шаг 3.</i>\n",
    "\n",
    "Создайте выборку длины 100 для вашей случайной величины. Напечатайте массив частот и массив вариант (см. пример в конце этого документа)."
   ]
  },
  {
   "cell_type": "code",
   "execution_count": 5,
   "metadata": {},
   "outputs": [],
   "source": [
    "size = 100\n",
    "sample = distribution.rvs(size = size)"
   ]
  },
  {
   "cell_type": "code",
   "execution_count": 6,
   "metadata": {},
   "outputs": [
    {
     "data": {
      "text/plain": [
       "array([31.9, 31.9, 39.1, 39. , 39.1, 40. , 29.5, 39.1,  7. , 39. , 39. ,\n",
       "        4. , 31.9, 39.1, 39. , 40. ,  1. , 29.5, 39.1, 31.9, 39.1, 39. ,\n",
       "        6. , 30. ,  6. , 39.1, 29.5, 32. , 39. , 27. , 50. , 39.3, 28. ,\n",
       "       50. , 39.1,  6. , 32. , 30. , 42. , 31.9, 42. , 39.1, 39. , 28. ,\n",
       "       27. ,  6. , 41. ,  6. , 39.1,  1. , 12. , 39.1, 42. , 39. , 39.1,\n",
       "       31.9, 12. , 12. ,  1. , 39.1, 39.1, 31.9, 39.1,  7. , 39.1,  7. ,\n",
       "       39.1, 29.5, 42. , 27. , 39. ,  4. , 39.4, 39.1, 32. ,  1. , 30. ,\n",
       "        4. , 32. , 39.4, 32. , 31.9,  1. , 28. , 42. ,  6. , 39.1, 28. ,\n",
       "       42. , 32. , 32. , 30. ,  7. , 39.1, 39.1,  4. , 28. , 39.1, 12. ,\n",
       "       28. ])"
      ]
     },
     "execution_count": 6,
     "metadata": {},
     "output_type": "execute_result"
    }
   ],
   "source": [
    "sample"
   ]
  },
  {
   "cell_type": "code",
   "execution_count": 7,
   "metadata": {},
   "outputs": [
    {
     "data": {
      "text/plain": [
       "array([ 1. ,  4. ,  6. ,  7. , 12. , 27. , 28. , 29.5, 30. , 31.9, 32. ,\n",
       "       39. , 39.1, 39.2, 39.3, 39.4, 40. , 41. , 42. , 50. ])"
      ]
     },
     "execution_count": 7,
     "metadata": {},
     "output_type": "execute_result"
    }
   ],
   "source": [
    "variants"
   ]
  },
  {
   "cell_type": "markdown",
   "metadata": {},
   "source": [
    "<i>Шаг 4.</i>\n",
    "\n",
    "Опишите вашу выборку: объем, экстремальные статистики, медиана, мода, размах, среднее, дисперсия, эксцесс и асимметрия. Сравните с результатами калькуляции функциями из пакета Stats https://docs.scipy.org/doc/scipy/reference/stats.html"
   ]
  },
  {
   "cell_type": "code",
   "execution_count": 8,
   "metadata": {},
   "outputs": [],
   "source": [
    "from collections import Counter\n",
    "from collections import OrderedDict\n",
    "\n",
    "counter = Counter(sample)\n",
    "oredered = OrderedDict(sorted(counter.items(), key = lambda t: t[0]))\n",
    "\n",
    "variants = oredered.keys()\n",
    "freq = oredered.values()"
   ]
  },
  {
   "cell_type": "code",
   "execution_count": 9,
   "metadata": {},
   "outputs": [],
   "source": [
    "def find_median(array):\n",
    "    middle = len(array) / 2.\n",
    "    if (middle % 1 == 0):\n",
    "        return (array[int(middle) + 1] + array[int(middle)]) / 2\n",
    "    else:\n",
    "        return array[int(middle)]\n",
    "    \n",
    "def find_mode(array):\n",
    "    return max(set(array), key = array.count)"
   ]
  },
  {
   "cell_type": "code",
   "execution_count": 11,
   "metadata": {},
   "outputs": [
    {
     "name": "stdout",
     "output_type": "stream",
     "text": [
      "Объем выборки: 100\n",
      "Минимум, максимум: (1.0, 50.0)\n",
      "Среднее: 29.01499999999999\n",
      "Размах: 49.0\n",
      "Ассиметрия: -0.9347269109439258\n",
      "Эксцесс: -0.5209820746591656\n",
      "II момент: 185.878875\n",
      "III момент: -2368.8076627499945\n",
      "IV момент: 85652.439686233\n",
      "Медиана: 25.55\n",
      "Мода: 39.1\n"
     ]
    }
   ],
   "source": [
    "print('Объем выборки:', size)\n",
    "print('Минимум, максимум:', (min(sample), max(sample)))\n",
    "\n",
    "avg = sum(sample) / size\n",
    "\n",
    "print('Среднее:', avg)\n",
    "print('Размах:', max(sample) - min(sample))\n",
    "\n",
    "def moment(n):\n",
    "    return np.sum(list(map(lambda x: (x - avg) ** n, sample))) / size\n",
    "\n",
    "print('Ассиметрия:', moment(3) / moment(2) ** (3 / 2))\n",
    "print('Эксцесс:', moment(4) / (moment(2) ** 2) - 3)\n",
    "\n",
    "print('II момент:', moment(2))\n",
    "print('III момент:', moment(3))\n",
    "print('IV момент:', moment(4))\n",
    "\n",
    "print('Медиана:', find_median(list(sample)))\n",
    "print('Мода:', find_mode(list(sample)))"
   ]
  },
  {
   "cell_type": "markdown",
   "metadata": {},
   "source": [
    "Получаем значения через функции из пакета Stats"
   ]
  },
  {
   "cell_type": "code",
   "execution_count": 12,
   "metadata": {},
   "outputs": [
    {
     "name": "stdout",
     "output_type": "stream",
     "text": [
      "Объем выборки: 100\n",
      "Минимум, максимум: (1.0, 50.0)\n",
      "Среднее: 29.014999999999997\n",
      "Дисперсия: 187.75643939393933\n",
      "Ассиметрия: -0.9347269109439278\n",
      "Эксцесс: -0.5209820746591616\n",
      "II момент: 185.87887499999994\n",
      "III момент: -2368.807662749998\n",
      "IV момент: 85652.43968623309\n",
      "Мода: 39.1 количество: 22\n"
     ]
    }
   ],
   "source": [
    "obj = sps.describe(sample)\n",
    "print('Объем выборки:', obj.nobs)\n",
    "print('Минимум, максимум:', obj.minmax)\n",
    "print('Среднее:', obj.mean)\n",
    "print('Дисперсия:', obj.variance)\n",
    "\n",
    "print('Ассиметрия:', obj.skewness)\n",
    "print('Эксцесс:', obj.kurtosis)\n",
    "\n",
    "print('II момент:', sps.moment(sample, moment = 2))\n",
    "print('III момент:', sps.moment(sample, moment = 3))\n",
    "print('IV момент:', sps.moment(sample, moment = 4))\n",
    "\n",
    "mode = sps.mode(sample, keepdims = False)\n",
    "\n",
    "print('Мода:', mode.mode, 'количество:', mode.count)"
   ]
  },
  {
   "cell_type": "markdown",
   "metadata": {},
   "source": [
    "Как мы видим, все характеристики совпадают"
   ]
  },
  {
   "cell_type": "markdown",
   "metadata": {},
   "source": [
    "<i>Шаг 5.</i>\n",
    "\n",
    "Создайте полигон частот и гистограмму для каждой выборки\n"
   ]
  },
  {
   "cell_type": "markdown",
   "metadata": {},
   "source": [
    "Список количества каждой случайной величины в выборке"
   ]
  },
  {
   "cell_type": "code",
   "execution_count": 13,
   "metadata": {},
   "outputs": [
    {
     "data": {
      "text/plain": [
       "Counter({31.9: 8,\n",
       "         39.1: 22,\n",
       "         39.0: 9,\n",
       "         40.0: 2,\n",
       "         29.5: 4,\n",
       "         7.0: 4,\n",
       "         4.0: 4,\n",
       "         1.0: 5,\n",
       "         6.0: 6,\n",
       "         30.0: 4,\n",
       "         32.0: 7,\n",
       "         27.0: 3,\n",
       "         50.0: 2,\n",
       "         39.3: 1,\n",
       "         28.0: 6,\n",
       "         42.0: 6,\n",
       "         41.0: 1,\n",
       "         12.0: 4,\n",
       "         39.4: 2})"
      ]
     },
     "execution_count": 13,
     "metadata": {},
     "output_type": "execute_result"
    }
   ],
   "source": [
    "counter"
   ]
  },
  {
   "cell_type": "code",
   "execution_count": 14,
   "metadata": {},
   "outputs": [
    {
     "data": {
      "image/png": "[encoded data removed]",
      "text/plain": [
       "<Figure size 640x480 with 1 Axes>"
      ]
     },
     "metadata": {},
     "output_type": "display_data"
    }
   ],
   "source": [
    "plt.figure()\n",
    "plt.plot(variants, freq, color = 'blue', lw = 3, label = 'полигон частот')\n",
    "plt.hist(sample, 3 * size, color = 'red', label = 'гистограмма')\n",
    "plt.legend()\n",
    "\n",
    "plt.xlabel('Случайные величины')\n",
    "plt.ylabel('Частота')\n",
    "\n",
    "plt.show()"
   ]
  }
 ],
 "metadata": {
  "kernelspec": {
   "display_name": "Python 3 (ipykernel)",
   "language": "python",
   "name": "python3"
  },
  "language_info": {
   "codemirror_mode": {
    "name": "ipython",
    "version": 3
   },
   "file_extension": ".py",
   "mimetype": "text/x-python",
   "name": "python",
   "nbconvert_exporter": "python",
   "pygments_lexer": "ipython3",
   "version": "3.8.2"
  }
 },
 "nbformat": 4,
 "nbformat_minor": 2
}
