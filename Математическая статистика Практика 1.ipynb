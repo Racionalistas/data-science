{
 "cells": [
  {
   "cell_type": "markdown",
   "metadata": {},
   "source": [
    "# Математическая статистика"
   ]
  },
  {
   "cell_type": "code",
   "execution_count": 1,
   "metadata": {},
   "outputs": [],
   "source": [
    "from statistics import multimode\n",
    "\n",
    "import numpy as np\n",
    "import scipy.stats as sps\n",
    "import ipywidgets as widgets\n",
    "import matplotlib.pyplot as plt\n",
    "import PyPDF2\n",
    "import re\n",
    "\n",
    "%matplotlib inline"
   ]
  },
  {
   "cell_type": "code",
   "execution_count": 2,
   "metadata": {},
   "outputs": [
    {
     "name": "stdout",
     "output_type": "stream",
     "text": [
      "Номер в группе 14\n"
     ]
    }
   ],
   "source": [
    "N = 14\n",
    "print(f'Номер в группе {N}')"
   ]
  },
  {
   "cell_type": "markdown",
   "metadata": {},
   "source": [
    "**Задача.** Получение и визуализация выборки заданного <i><u>дискретного</u></i> распределения "
   ]
  },
  {
   "cell_type": "markdown",
   "metadata": {},
   "source": [
    "<i>Шаг 1.</i> \n",
    "\n",
    "Из списка дискретных случайных величин выберите случайные величины с номером $N$. "
   ]
  },
  {
   "cell_type": "code",
   "execution_count": 3,
   "metadata": {},
   "outputs": [],
   "source": [
    "variants = np.array([\n",
    "    1, 4, 6, 7, 12, 27, 28, 29.5, 30, 31.9, 32, \n",
    "    39, 39.1, 39.2, 39.3, 39.4, 40, 41, 42, 50\n",
    "])\n",
    "freq = np.array([2, 3, 4, 5, 6, 7, 7, 5, 6, 7, 8, 10, 25, 1, 1, 1, 1, 1, 4, 1]) / 105"
   ]
  },
  {
   "cell_type": "markdown",
   "metadata": {},
   "source": [
    "Визуализируем входные данные для наглядности распределения:"
   ]
  },
  {
   "cell_type": "code",
   "execution_count": 4,
   "metadata": {},
   "outputs": [
    {
     "data": {
      "image/png": "[encoded data removed]",
      "text/plain": [
       "<Figure size 640x480 with 1 Axes>"
      ]
     },
     "metadata": {},
     "output_type": "display_data"
    },
    {
     "name": "stdout",
     "output_type": "stream",
     "text": [
      "Случайная величина: Вероятностная мера\n"
     ]
    },
    {
     "data": {
      "text/plain": [
       "{1.0: 0.01904761904761905,\n",
       " 4.0: 0.02857142857142857,\n",
       " 6.0: 0.0380952380952381,\n",
       " 7.0: 0.047619047619047616,\n",
       " 12.0: 0.05714285714285714,\n",
       " 27.0: 0.06666666666666667,\n",
       " 28.0: 0.06666666666666667,\n",
       " 29.5: 0.047619047619047616,\n",
       " 30.0: 0.05714285714285714,\n",
       " 31.9: 0.06666666666666667,\n",
       " 32.0: 0.0761904761904762,\n",
       " 39.0: 0.09523809523809523,\n",
       " 39.1: 0.23809523809523808,\n",
       " 39.2: 0.009523809523809525,\n",
       " 39.3: 0.009523809523809525,\n",
       " 39.4: 0.009523809523809525,\n",
       " 40.0: 0.009523809523809525,\n",
       " 41.0: 0.009523809523809525,\n",
       " 42.0: 0.0380952380952381,\n",
       " 50.0: 0.009523809523809525}"
      ]
     },
     "execution_count": 4,
     "metadata": {},
     "output_type": "execute_result"
    }
   ],
   "source": [
    "table = dict(zip(variants, freq))\n",
    "plt.plot(variants, freq, '-o')\n",
    "plt.show()\n",
    "\n",
    "print('Случайная величина: Вероятностная мера')\n",
    "table"
   ]
  },
  {
   "cell_type": "markdown",
   "metadata": {},
   "source": [
    "<i>Шаг 2.</i>\n",
    "\n",
    "Для данных случайных величин, создайте функцию распределения вашей случайной величины (если необходимо)."
   ]
  },
  {
   "cell_type": "code",
   "execution_count": 5,
   "metadata": {},
   "outputs": [
    {
     "name": "stdout",
     "output_type": "stream",
     "text": [
      "Сумма частот -0.9999999999999997, что не равно 1 из-за дискретности ЭВМ, поэтому выполняем нормализацию.\n",
      "Снова суммируем и получаем: 1.0\n"
     ]
    }
   ],
   "source": [
    "summary = sum(freq)\n",
    "\n",
    "print(f'Сумма частот -{summary}, что не равно 1 из-за дискретности ЭВМ, поэтому выполняем нормализацию.')\n",
    "\n",
    "freq_norm = list(map(lambda p: p / summary, freq))\n",
    "\n",
    "print(f'Снова суммируем и получаем: {sum(freq_norm)}')\n",
    "\n",
    "distribution = sps.rv_discrete(values = (variants, freq_norm))"
   ]
  },
  {
   "cell_type": "markdown",
   "metadata": {},
   "source": [
    "<i>Шаг 3.</i>\n",
    "\n",
    "Создайте выборку длины 100 для вашей случайной величины. Напечатайте массив частот и массив вариант"
   ]
  },
  {
   "cell_type": "code",
   "execution_count": 6,
   "metadata": {},
   "outputs": [],
   "source": [
    "size = 100\n",
    "sample = distribution.rvs(size = size)"
   ]
  },
  {
   "cell_type": "code",
   "execution_count": 7,
   "metadata": {},
   "outputs": [
    {
     "data": {
      "text/plain": [
       "array([27. , 31.9, 28. , 30. , 40. , 39.1, 29.5,  1. , 39.1, 12. , 39.2,\n",
       "       32. , 29.5,  6. , 27. , 27. , 27. ,  7. , 29.5, 27. , 39. , 42. ,\n",
       "        7. , 39.1, 39.1,  6. , 39.1, 39.1, 39.2, 28. ,  1. , 39. ,  4. ,\n",
       "        4. , 29.5, 39.1, 27. , 12. , 39. , 39. , 39.1,  4. , 27. , 39. ,\n",
       "       31.9, 40. , 27. , 30. , 30. , 50. , 30. , 27. , 28. ,  7. , 12. ,\n",
       "       27. ,  7. , 28. , 40. , 32. , 39. , 39.1, 31.9, 12. ,  6. , 39.1,\n",
       "       39. , 27. , 32. , 30. ,  1. , 31.9, 31.9, 32. , 39.1, 27. , 39.1,\n",
       "       32. , 41. ,  6. , 39.1,  1. , 28. , 39.1, 28. , 30. , 39.1, 39. ,\n",
       "       42. ,  6. , 27. , 39. , 27. , 39.1, 39.1,  6. , 39.1, 42. ,  6. ,\n",
       "       30. ])"
      ]
     },
     "execution_count": 7,
     "metadata": {},
     "output_type": "execute_result"
    }
   ],
   "source": [
    "sample"
   ]
  },
  {
   "cell_type": "code",
   "execution_count": 8,
   "metadata": {},
   "outputs": [
    {
     "data": {
      "text/plain": [
       "array([ 1. ,  4. ,  6. ,  7. , 12. , 27. , 28. , 29.5, 30. , 31.9, 32. ,\n",
       "       39. , 39.1, 39.2, 39.3, 39.4, 40. , 41. , 42. , 50. ])"
      ]
     },
     "execution_count": 8,
     "metadata": {},
     "output_type": "execute_result"
    }
   ],
   "source": [
    "variants"
   ]
  },
  {
   "cell_type": "markdown",
   "metadata": {},
   "source": [
    "<i>Шаг 4.</i>\n",
    "\n",
    "Опишите вашу выборку: объем, экстремальные статистики, медиана, мода, размах, среднее, дисперсия, эксцесс и асимметрия. Сравните с результатами калькуляции функциями из пакета Stats https://docs.scipy.org/doc/scipy/reference/stats.html"
   ]
  },
  {
   "cell_type": "code",
   "execution_count": 9,
   "metadata": {},
   "outputs": [],
   "source": [
    "from collections import Counter\n",
    "from collections import OrderedDict\n",
    "\n",
    "counter = Counter(sample)\n",
    "oredered = OrderedDict(sorted(counter.items(), key = lambda t: t[0]))\n",
    "\n",
    "variants = oredered.keys()\n",
    "freq = oredered.values()"
   ]
  },
  {
   "cell_type": "code",
   "execution_count": 10,
   "metadata": {},
   "outputs": [],
   "source": [
    "def find_median(array):\n",
    "    middle = len(array) / 2.\n",
    "    if (middle % 1 == 0):\n",
    "        return (array[int(middle) + 1] + array[int(middle)]) / 2\n",
    "    else:\n",
    "        return array[int(middle)]"
   ]
  },
  {
   "cell_type": "code",
   "execution_count": 11,
   "metadata": {},
   "outputs": [
    {
     "name": "stdout",
     "output_type": "stream",
     "text": [
      "Объем выборки: 100\n",
      "Минимум, максимум: (1.0, 50.0)\n",
      "Среднее: 27.976999999999993\n",
      "Дисперсия: 164.2187585858586\n",
      "Размах: 49.0\n",
      "Ассиметрия: -0.8717417062454798\n",
      "Эксцесс: -0.4788741494888513\n",
      "II момент: 162.57657100000003\n",
      "III момент: -1807.0691144339964\n",
      "IV момент: 66636.23393815584\n",
      "Медиана: 28.5\n",
      "Мода: [39.1]\n"
     ]
    }
   ],
   "source": [
    "print('Объем выборки:', len(sample))\n",
    "print('Минимум, максимум:', (min(sample), max(sample)))\n",
    "\n",
    "avg = sum(sample) / size\n",
    "\n",
    "def moment(n, length = size, array = sample):\n",
    "    return np.sum(list(map(lambda x: (x - avg) ** n, array))) / length\n",
    "\n",
    "print('Среднее:', avg)\n",
    "print('Дисперсия:', moment(2, length = size - 1))\n",
    "print('Размах:', max(sample) - min(sample))\n",
    "\n",
    "print('Ассиметрия:', moment(3) / moment(2) ** (3 / 2))\n",
    "print('Эксцесс:', moment(4) / (moment(2) ** 2) - 3)\n",
    "\n",
    "print('II момент:', moment(2))\n",
    "print('III момент:', moment(3))\n",
    "print('IV момент:', moment(4))\n",
    "\n",
    "print('Медиана:', find_median(list(sample)))\n",
    "print('Мода:', multimode(list(sample)))"
   ]
  },
  {
   "cell_type": "markdown",
   "metadata": {},
   "source": [
    "Получаем значения через функции из пакета Stats"
   ]
  },
  {
   "cell_type": "code",
   "execution_count": 12,
   "metadata": {},
   "outputs": [
    {
     "name": "stdout",
     "output_type": "stream",
     "text": [
      "Объем выборки: 100\n",
      "Минимум, максимум: (1.0, 50.0)\n",
      "Среднее: 27.976999999999997\n",
      "Дисперсия: 164.21875858585858\n",
      "Ассиметрия: -0.8717417062454811\n",
      "Эксцесс: -0.4788741494888491\n",
      "II момент: 162.57657099999997\n",
      "III момент: -1807.0691144339985\n",
      "IV момент: 66636.23393815586\n",
      "Мода: 39.1 количество: 18\n"
     ]
    }
   ],
   "source": [
    "obj = sps.describe(sample)\n",
    "\n",
    "print('Объем выборки:', obj.nobs)\n",
    "print('Минимум, максимум:', obj.minmax)\n",
    "print('Среднее:', obj.mean)\n",
    "print('Дисперсия:', obj.variance)\n",
    "\n",
    "print('Ассиметрия:', obj.skewness)\n",
    "print('Эксцесс:', obj.kurtosis)\n",
    "\n",
    "print('II момент:', sps.moment(sample, moment = 2))\n",
    "print('III момент:', sps.moment(sample, moment = 3))\n",
    "print('IV момент:', sps.moment(sample, moment = 4))\n",
    "\n",
    "mode = sps.mode(sample, keepdims = False)\n",
    "\n",
    "print(f'Мода: {mode.mode} количество: {mode.count}')"
   ]
  },
  {
   "cell_type": "markdown",
   "metadata": {},
   "source": [
    "Как мы видим, все характеристики совпадают"
   ]
  },
  {
   "cell_type": "markdown",
   "metadata": {},
   "source": [
    "<i>Шаг 5.</i>\n",
    "\n",
    "Создайте полигон частот и гистограмму для каждой выборки\n"
   ]
  },
  {
   "cell_type": "markdown",
   "metadata": {},
   "source": [
    "Список количества каждой случайной величины в выборке"
   ]
  },
  {
   "cell_type": "code",
   "execution_count": 13,
   "metadata": {},
   "outputs": [
    {
     "data": {
      "text/plain": [
       "Counter({39.1: 18,\n",
       "         27.0: 14,\n",
       "         39.0: 9,\n",
       "         30.0: 7,\n",
       "         6.0: 7,\n",
       "         28.0: 6,\n",
       "         31.9: 5,\n",
       "         32.0: 5,\n",
       "         29.5: 4,\n",
       "         1.0: 4,\n",
       "         12.0: 4,\n",
       "         7.0: 4,\n",
       "         40.0: 3,\n",
       "         42.0: 3,\n",
       "         4.0: 3,\n",
       "         39.2: 2,\n",
       "         50.0: 1,\n",
       "         41.0: 1})"
      ]
     },
     "execution_count": 13,
     "metadata": {},
     "output_type": "execute_result"
    }
   ],
   "source": [
    "counter"
   ]
  },
  {
   "cell_type": "code",
   "execution_count": 14,
   "metadata": {},
   "outputs": [
    {
     "data": {
      "image/png": "[encoded data removed]",
      "text/plain": [
       "<Figure size 640x480 with 1 Axes>"
      ]
     },
     "metadata": {},
     "output_type": "display_data"
    }
   ],
   "source": [
    "plt.figure()\n",
    "plt.plot(variants, freq, color = 'blue', lw = 3, label = 'полигон частот')\n",
    "plt.hist(sample, 3 * size, color = 'red', label = 'гистограмма')\n",
    "plt.legend()\n",
    "\n",
    "plt.xlabel('Случайные величины')\n",
    "plt.ylabel('Частота')\n",
    "\n",
    "plt.show()"
   ]
  },
  {
   "cell_type": "markdown",
   "metadata": {},
   "source": [
    "**Задача.** Получение и визуализация выборки заданного <i><u>непрерывного</u></i> распределения."
   ]
  },
  {
   "cell_type": "markdown",
   "metadata": {},
   "source": [
    "<i>Шаг 1.</i> \n",
    "\n",
    "Из списка непрерывных случйных величин выберите с номером $N$. "
   ]
  },
  {
   "cell_type": "code",
   "execution_count": 15,
   "metadata": {},
   "outputs": [
    {
     "name": "stdout",
     "output_type": "stream",
     "text": [
      "Вариант 14\n",
      "X распределен по закону N(2, 5)\n",
      "\n"
     ]
    }
   ],
   "source": [
    "reader = PyPDF2.PdfReader('datasets/Непрерывные величны, практикум 1.pdf')\n",
    "\n",
    "message = 'Вариант '\n",
    "variant = f'Вариант {N}'\n",
    "\n",
    "for i in range(len(reader.pages)):\n",
    "    \n",
    "    text = reader.pages[i].extract_text()\n",
    "    \n",
    "    if variant in text:\n",
    "        index = text.index(str(N))\n",
    "        \n",
    "        end = index\n",
    "        while not end == len(text) and not text[end] == 'Вариант':\n",
    "            message += text[end]\n",
    "            end += 1\n",
    "        break\n",
    "\n",
    "print(message)"
   ]
  },
  {
   "cell_type": "code",
   "execution_count": 16,
   "metadata": {
    "scrolled": true
   },
   "outputs": [
    {
     "name": "stdout",
     "output_type": "stream",
     "text": [
      "μ = 2, σ_square = 5\n"
     ]
    }
   ],
   "source": [
    "parameters = re.findall(r'\\w+', message)\n",
    "\n",
    "μ = int(parameters[-2])\n",
    "σ_square = int(parameters[-1])\n",
    "\n",
    "print(f'μ = {μ}, σ_square = {σ_square}')"
   ]
  },
  {
   "cell_type": "markdown",
   "metadata": {},
   "source": [
    "<i>Шаг 2.</i>\n",
    "\n",
    "Для данных случайных величин, создайте функцию распределения вашей случайной величины (если необходимо)."
   ]
  },
  {
   "cell_type": "code",
   "execution_count": 17,
   "metadata": {},
   "outputs": [
    {
     "name": "stdout",
     "output_type": "stream",
     "text": [
      "Первые 12 значений выборки:\n",
      " [ 1.44908932 -1.67917623  3.8660427   5.97539299  4.78532522  2.72603682\n",
      "  2.84132035 -1.99345833  2.91835956  3.86013202 -1.7196143   2.77129673]\n"
     ]
    }
   ],
   "source": [
    "normal = sps.norm.rvs(size = size, loc = μ, scale = np.sqrt(σ_square))\n",
    "show_count = 12\n",
    "\n",
    "print(f'Первые {show_count} значений выборки:\\n', normal[:show_count])"
   ]
  },
  {
   "cell_type": "markdown",
   "metadata": {},
   "source": [
    "<i>Шаг 3.</i>\n",
    "\n",
    "Создайте выборку длины 100 для вашей случайной величины. Напечатайте массив частот и массив вариант"
   ]
  },
  {
   "cell_type": "code",
   "execution_count": 18,
   "metadata": {
    "scrolled": true
   },
   "outputs": [
    {
     "name": "stdout",
     "output_type": "stream",
     "text": [
      "Массив вариант: \n",
      "odict_keys([-3.6403740121400157, -3.155313127579663, -2.600573506288992, -2.4430794285579873, -1.9934583259422776, -1.9254739999602934, -1.8390134748519409, -1.7196142996564618, -1.6791762272920931, -1.2925581258469108, -1.0665593262840107, -1.0469751787963002, -0.8694255092105045, -0.358336373339998, -0.3563224974740842, -0.17888379318881142, 0.1799963266828184, 0.25311604151267497, 0.35225448512280266, 0.49309858753797453, 0.4969183648690918, 0.584445238547372, 0.6406266928468767, 0.7418210901908622, 0.7579876968662447, 0.8899975916155225, 0.899243834352591, 0.9639571824576345, 0.9702102683797431, 0.9879206674376959, 0.9944935101720818, 1.0816529630331067, 1.1340340227035597, 1.1546909756392698, 1.175239823982975, 1.3198152590898586, 1.361041706289369, 1.3839855346999947, 1.4490893191978205, 1.4932177796083994, 1.4963249831154524, 1.5112828561724414, 1.5595700528422416, 1.5657086047828157, 1.5684539486384868, 1.6084309003093322, 1.6169988712250793, 1.6327104132525103, 1.6770315677809453, 1.6853467040595649, 1.7333889756857972, 1.8882211580056025, 2.086628639134054, 2.134882135254026, 2.156423025154866, 2.15957221968014, 2.235241797552228, 2.2698916993386167, 2.4515491221341934, 2.486539533228697, 2.5506366626794614, 2.618332180172508, 2.7038990479471834, 2.7260368181093897, 2.7712967336381937, 2.8413203516006194, 2.918359561336345, 3.0587568102952627, 3.0714037821853317, 3.080030354227387, 3.263864101865583, 3.297003305322334, 3.3798822604613887, 3.407757906007264, 3.4603877058851484, 3.5029835354822176, 3.5769526773842966, 3.5918914959315575, 3.6473056191504494, 3.822940034348748, 3.860132016511048, 3.8660427017797394, 4.126999901151613, 4.140873387184367, 4.369327735578468, 4.434554091595128, 4.498322212289621, 4.518494623807404, 4.698038266924989, 4.782354391876895, 4.785325216334481, 5.074710663613921, 5.158067076311562, 5.233725177273133, 5.3766584532524675, 5.443675289510849, 5.864262693106415, 5.975392994828629, 6.280339278136829, 6.95223922876606]) \n",
      "\n",
      " Массив частот: \n",
      "odict_values([1, 1, 1, 1, 1, 1, 1, 1, 1, 1, 1, 1, 1, 1, 1, 1, 1, 1, 1, 1, 1, 1, 1, 1, 1, 1, 1, 1, 1, 1, 1, 1, 1, 1, 1, 1, 1, 1, 1, 1, 1, 1, 1, 1, 1, 1, 1, 1, 1, 1, 1, 1, 1, 1, 1, 1, 1, 1, 1, 1, 1, 1, 1, 1, 1, 1, 1, 1, 1, 1, 1, 1, 1, 1, 1, 1, 1, 1, 1, 1, 1, 1, 1, 1, 1, 1, 1, 1, 1, 1, 1, 1, 1, 1, 1, 1, 1, 1, 1, 1])\n"
     ]
    }
   ],
   "source": [
    "counter = Counter(normal)\n",
    "oredered = OrderedDict(sorted(counter.items(), key = lambda t: t[0]))\n",
    "\n",
    "variants = oredered.keys()\n",
    "freq = oredered.values()\n",
    "\n",
    "print(f'Массив вариант: \\n{variants}', '\\n\\n' , f'Массив частот: \\n{freq}')"
   ]
  },
  {
   "cell_type": "markdown",
   "metadata": {},
   "source": [
    "<i>Шаг 4.</i>\n",
    "\n",
    "Опишите вашу выборку: объем, экстремальные статистики, медиана, мода, размах, среднее, дисперсия, эксцесс и асимметрия. Сравните с результатами калькуляции функциями из пакета Stats https://docs.scipy.org/doc/scipy/reference/stats.html"
   ]
  },
  {
   "cell_type": "code",
   "execution_count": 19,
   "metadata": {
    "scrolled": false
   },
   "outputs": [
    {
     "name": "stdout",
     "output_type": "stream",
     "text": [
      "Объем выборки: 100\n",
      "Минимум, максимум: (-3.6403740121400157, 6.95223922876606)\n",
      "Среднее: 1.9584849130763744\n",
      "Дисперсия: 4.85077632154754\n",
      "Размах: 10.592613240906076\n",
      "Ассиметрия: -0.21851303194579105\n",
      "Эксцесс: -0.17070196309434227\n",
      "II момент: 4.802268558332065\n",
      "III момент: -2.299571981058092\n",
      "IV момент: 65.24865823618481\n",
      "Медиана: -0.3853915121605118\n",
      "Мода (ограничение на 3 значения): [1.4490893191978205, -1.6791762272920931, 3.8660427017797394]\n"
     ]
    }
   ],
   "source": [
    "print('Объем выборки:', len(normal))\n",
    "print('Минимум, максимум:', (min(normal), max(normal)))\n",
    "\n",
    "avg = sum(normal) / size\n",
    "\n",
    "print('Среднее:', avg)\n",
    "print('Дисперсия:', moment(2, length = size - 1, array = normal))\n",
    "print('Размах:', max(normal) - min(normal))\n",
    "\n",
    "print('Ассиметрия:', moment(3, array = normal) / moment(2, array = normal) ** (3 / 2))\n",
    "print('Эксцесс:', moment(4, array = normal) / (moment(2, array = normal) ** 2) - 3)\n",
    "\n",
    "print('II момент:', moment(2, array = normal))\n",
    "print('III момент:', moment(3, array = normal))\n",
    "print('IV момент:', moment(4, array = normal))\n",
    "\n",
    "print('Медиана:', find_median(list(normal)))\n",
    "print('Мода (ограничение на 3 значения):', multimode(list(normal))[:3])"
   ]
  },
  {
   "cell_type": "markdown",
   "metadata": {},
   "source": [
    "Получаем значения через функции из пакета Stats"
   ]
  },
  {
   "cell_type": "code",
   "execution_count": 20,
   "metadata": {},
   "outputs": [
    {
     "name": "stdout",
     "output_type": "stream",
     "text": [
      "Объем выборки: 100\n",
      "Минимум, максимум: (-3.6403740121400157, 6.95223922876606)\n",
      "Среднее: 1.958484913076374\n",
      "Дисперсия: 4.85077632154754\n",
      "Ассиметрия: -0.2185130319457904\n",
      "Эксцесс: -0.17070196309434227\n",
      "II момент: 4.802268558332065\n",
      "III момент: -2.299571981058085\n",
      "IV момент: 65.24865823618481\n",
      "Мода: -3.6403740121400157 количество: 1\n"
     ]
    }
   ],
   "source": [
    "obj = sps.describe(normal)\n",
    "\n",
    "print('Объем выборки:', obj.nobs)\n",
    "print('Минимум, максимум:', obj.minmax)\n",
    "print('Среднее:', obj.mean)\n",
    "print('Дисперсия:', obj.variance)\n",
    "\n",
    "print('Ассиметрия:', obj.skewness)\n",
    "print('Эксцесс:', obj.kurtosis)\n",
    "\n",
    "print('II момент:', sps.moment(normal, moment = 2))\n",
    "print('III момент:', sps.moment(normal, moment = 3))\n",
    "print('IV момент:', sps.moment(normal, moment = 4))\n",
    "\n",
    "mode = sps.mode(normal, keepdims = False)\n",
    "\n",
    "print(f'Мода: {mode.mode} количество: {mode.count}')"
   ]
  },
  {
   "cell_type": "markdown",
   "metadata": {},
   "source": [
    "Как мы видим, все характеристики совпадают"
   ]
  },
  {
   "cell_type": "markdown",
   "metadata": {},
   "source": [
    "<i>Шаг 5.</i>\n",
    "\n",
    "Создайте полигон частот и гистограмму для каждой выборки\n"
   ]
  },
  {
   "cell_type": "markdown",
   "metadata": {},
   "source": [
    "Список количества каждой случайной величины в выборке"
   ]
  },
  {
   "cell_type": "code",
   "execution_count": 21,
   "metadata": {},
   "outputs": [
    {
     "data": {
      "text/plain": [
       "{-3.6403740121400157: 2,\n",
       " -2.8837587806467244: 2,\n",
       " -2.127143549153433: 5,\n",
       " -1.3705283176601424: 4,\n",
       " -0.6139130861668511: 3,\n",
       " 0.1427021453264401: 11,\n",
       " 0.8993173768197309: 21,\n",
       " 1.6559326083130221: 10,\n",
       " 2.4125478398063134: 12,\n",
       " 3.1691630712996046: 12,\n",
       " 3.925778302792896: 6,\n",
       " 4.682393534286187: 7,\n",
       " 5.4390087657794775: 3,\n",
       " 6.19562399727277: 1,\n",
       " 6.95223922876606: 1}"
      ]
     },
     "execution_count": 21,
     "metadata": {},
     "output_type": "execute_result"
    }
   ],
   "source": [
    "bin_count = 15\n",
    "\n",
    "bins = np.linspace(min(normal), max(normal), num = bin_count)\n",
    "            \n",
    "counter = Counter(np.digitize(normal, bins))\n",
    "oredered = OrderedDict(sorted(counter.items(), key = lambda t: t[0]))\n",
    "\n",
    "data = dict.fromkeys(bins, 0)\n",
    "\n",
    "for key, count in oredered.items():\n",
    "    data[bins[key - 1]] = count\n",
    "    \n",
    "data"
   ]
  },
  {
   "cell_type": "code",
   "execution_count": 22,
   "metadata": {
    "scrolled": true
   },
   "outputs": [
    {
     "data": {
      "image/png": "[encoded data removed]",
      "text/plain": [
       "<Figure size 640x480 with 1 Axes>"
      ]
     },
     "metadata": {},
     "output_type": "display_data"
    }
   ],
   "source": [
    "plt.figure()\n",
    "plt.plot(data.keys(), data.values(), color = 'blue', lw = 3, label = 'полигон частот')\n",
    "plt.hist(normal, bin_count, color = 'yellow', label = 'гистограмма')\n",
    "plt.legend()\n",
    "plt.show()"
   ]
  }
 ],
 "metadata": {
  "kernelspec": {
   "display_name": "Python 3 (ipykernel)",
   "language": "python",
   "name": "python3"
  },
  "language_info": {
   "codemirror_mode": {
    "name": "ipython",
    "version": 3
   },
   "file_extension": ".py",
   "mimetype": "text/x-python",
   "name": "python",
   "nbconvert_exporter": "python",
   "pygments_lexer": "ipython3",
   "version": "3.11.3"
  }
 },
 "nbformat": 4,
 "nbformat_minor": 2
}
