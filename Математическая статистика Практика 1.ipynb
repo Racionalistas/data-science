{
 "cells": [
  {
   "cell_type": "markdown",
   "metadata": {},
   "source": [
    "# Математическая статистика"
   ]
  },
  {
   "cell_type": "code",
   "execution_count": 1,
   "metadata": {},
   "outputs": [],
   "source": [
    "from statistics import multimode\n",
    "\n",
    "import numpy as np\n",
    "import scipy.stats as sps\n",
    "import ipywidgets as widgets\n",
    "import matplotlib.pyplot as plt\n",
    "import PyPDF2\n",
    "import re\n",
    "\n",
    "%matplotlib inline"
   ]
  },
  {
   "cell_type": "code",
   "execution_count": 2,
   "metadata": {},
   "outputs": [
    {
     "name": "stdout",
     "output_type": "stream",
     "text": [
      "Номер в группе 14\n"
     ]
    }
   ],
   "source": [
    "N = 14\n",
    "print(f'Номер в группе {N}')"
   ]
  },
  {
   "cell_type": "markdown",
   "metadata": {},
   "source": [
    "**Задача.** Получение и визуализация выборки заданного <i><u>дискретного</u></i> распределения "
   ]
  },
  {
   "cell_type": "markdown",
   "metadata": {},
   "source": [
    "<i>Шаг 1.</i> \n",
    "\n",
    "Из списка дискретных случайных величин выберите случайные величины с номером $N$. "
   ]
  },
  {
   "cell_type": "code",
   "execution_count": 3,
   "metadata": {},
   "outputs": [],
   "source": [
    "variants = np.array([\n",
    "    1, 4, 6, 7, 12, 27, 28, 29.5, 30, 31.9, 32, \n",
    "    39, 39.1, 39.2, 39.3, 39.4, 40, 41, 42, 50\n",
    "])\n",
    "freq = np.array([2, 3, 4, 5, 6, 7, 7, 5, 6, 7, 8, 10, 25, 1, 1, 1, 1, 1, 4, 1]) / 105"
   ]
  },
  {
   "cell_type": "markdown",
   "metadata": {},
   "source": [
    "Визуализируем входные данные для наглядности распределения:"
   ]
  },
  {
   "cell_type": "code",
   "execution_count": 4,
   "metadata": {},
   "outputs": [
    {
     "data": {
      "image/png": "[encoded data removed]",
      "text/plain": [
       "<Figure size 640x480 with 1 Axes>"
      ]
     },
     "metadata": {},
     "output_type": "display_data"
    },
    {
     "name": "stdout",
     "output_type": "stream",
     "text": [
      "Случайная величина: Вероятностная мера\n"
     ]
    },
    {
     "data": {
      "text/plain": [
       "{1.0: 0.01904761904761905,\n",
       " 4.0: 0.02857142857142857,\n",
       " 6.0: 0.0380952380952381,\n",
       " 7.0: 0.047619047619047616,\n",
       " 12.0: 0.05714285714285714,\n",
       " 27.0: 0.06666666666666667,\n",
       " 28.0: 0.06666666666666667,\n",
       " 29.5: 0.047619047619047616,\n",
       " 30.0: 0.05714285714285714,\n",
       " 31.9: 0.06666666666666667,\n",
       " 32.0: 0.0761904761904762,\n",
       " 39.0: 0.09523809523809523,\n",
       " 39.1: 0.23809523809523808,\n",
       " 39.2: 0.009523809523809525,\n",
       " 39.3: 0.009523809523809525,\n",
       " 39.4: 0.009523809523809525,\n",
       " 40.0: 0.009523809523809525,\n",
       " 41.0: 0.009523809523809525,\n",
       " 42.0: 0.0380952380952381,\n",
       " 50.0: 0.009523809523809525}"
      ]
     },
     "execution_count": 4,
     "metadata": {},
     "output_type": "execute_result"
    }
   ],
   "source": [
    "table = dict(zip(variants, freq))\n",
    "plt.plot(variants, freq, '-o')\n",
    "plt.show()\n",
    "\n",
    "print('Случайная величина: Вероятностная мера')\n",
    "table"
   ]
  },
  {
   "cell_type": "markdown",
   "metadata": {},
   "source": [
    "<i>Шаг 2.</i>\n",
    "\n",
    "Для данных случайных величин, создайте функцию распределения вашей случайной величины (если необходимо)."
   ]
  },
  {
   "cell_type": "code",
   "execution_count": 5,
   "metadata": {},
   "outputs": [
    {
     "name": "stdout",
     "output_type": "stream",
     "text": [
      "Сумма частот -0.9999999999999997, что не равно 1 из-за дискретности ЭВМ, поэтому выполняем нормализацию.\n",
      "Снова суммируем и получаем: 1.0\n"
     ]
    }
   ],
   "source": [
    "summary = sum(freq)\n",
    "\n",
    "print(f'Сумма частот -{summary}, что не равно 1 из-за дискретности ЭВМ, поэтому выполняем нормализацию.')\n",
    "\n",
    "freq_norm = list(map(lambda p: p / summary, freq))\n",
    "\n",
    "print(f'Снова суммируем и получаем: {sum(freq_norm)}')\n",
    "\n",
    "distribution = sps.rv_discrete(values = (variants, freq_norm))"
   ]
  },
  {
   "cell_type": "markdown",
   "metadata": {},
   "source": [
    "<i>Шаг 3.</i>\n",
    "\n",
    "Создайте выборку длины 100 для вашей случайной величины. Напечатайте массив частот и массив вариант"
   ]
  },
  {
   "cell_type": "code",
   "execution_count": 6,
   "metadata": {},
   "outputs": [],
   "source": [
    "size = 100\n",
    "sample = distribution.rvs(size = size)"
   ]
  },
  {
   "cell_type": "code",
   "execution_count": 7,
   "metadata": {},
   "outputs": [
    {
     "data": {
      "text/plain": [
       "array([28. ,  1. , 28. , 28. , 42. , 27. , 30. , 39.1,  7. , 41. , 28. ,\n",
       "       28. , 39.1, 31.9, 39.4,  4. ,  6. , 50. ,  4. ,  6. , 39.1, 41. ,\n",
       "        1. , 39.1, 12. , 32. , 39.2, 39.1, 27. , 39. , 28. , 27. , 32. ,\n",
       "        7. , 39. , 12. , 39. , 42. , 39.1, 39.1,  4. , 39.1, 42. , 39.1,\n",
       "       39. , 27. ,  7. , 39.1, 27. ,  6. , 28. , 12. , 39.1, 39.2, 29.5,\n",
       "       39.1, 42. ,  1. , 39. , 39.1, 39.1, 12. , 39.2, 30. , 39.1, 31.9,\n",
       "       27. , 30. , 28. , 29.5,  1. ,  7. , 39. , 39.2, 28. , 30. , 12. ,\n",
       "       41. , 42. , 41. , 32. , 28. , 39.1, 39. , 39. ,  6. , 39.1, 39.1,\n",
       "       39. ,  1. , 39.1, 39. , 27. ,  4. , 42. , 28. , 27. , 39.2, 39. ,\n",
       "       30. ])"
      ]
     },
     "execution_count": 7,
     "metadata": {},
     "output_type": "execute_result"
    }
   ],
   "source": [
    "sample"
   ]
  },
  {
   "cell_type": "code",
   "execution_count": 8,
   "metadata": {},
   "outputs": [
    {
     "data": {
      "text/plain": [
       "array([ 1. ,  4. ,  6. ,  7. , 12. , 27. , 28. , 29.5, 30. , 31.9, 32. ,\n",
       "       39. , 39.1, 39.2, 39.3, 39.4, 40. , 41. , 42. , 50. ])"
      ]
     },
     "execution_count": 8,
     "metadata": {},
     "output_type": "execute_result"
    }
   ],
   "source": [
    "variants"
   ]
  },
  {
   "cell_type": "markdown",
   "metadata": {},
   "source": [
    "<i>Шаг 4.</i>\n",
    "\n",
    "Опишите вашу выборку: объем, экстремальные статистики, медиана, мода, размах, среднее, дисперсия, эксцесс и асимметрия. Сравните с результатами калькуляции функциями из пакета Stats https://docs.scipy.org/doc/scipy/reference/stats.html"
   ]
  },
  {
   "cell_type": "code",
   "execution_count": 9,
   "metadata": {},
   "outputs": [],
   "source": [
    "from collections import Counter\n",
    "from collections import OrderedDict\n",
    "\n",
    "counter = Counter(sample)\n",
    "oredered = OrderedDict(sorted(counter.items(), key = lambda t: t[0]))\n",
    "\n",
    "variants = oredered.keys()\n",
    "freq = oredered.values()"
   ]
  },
  {
   "cell_type": "code",
   "execution_count": 10,
   "metadata": {},
   "outputs": [],
   "source": [
    "def find_median(array):\n",
    "    middle = len(array) / 2.\n",
    "    if (middle % 1 == 0):\n",
    "        return (array[int(middle) + 1] + array[int(middle)]) / 2\n",
    "    else:\n",
    "        return array[int(middle)]"
   ]
  },
  {
   "cell_type": "code",
   "execution_count": 11,
   "metadata": {},
   "outputs": [
    {
     "name": "stdout",
     "output_type": "stream",
     "text": [
      "Объем выборки: 100\n",
      "Минимум, максимум: (1.0, 50.0)\n",
      "Среднее: 28.990999999999985\n",
      "Дисперсия: 178.85719090909086\n",
      "Размах: 49.0\n",
      "Ассиметрия: -0.9387366822430403\n",
      "Эксцесс: -0.4724646801131924\n",
      "II момент: 177.06861899999996\n",
      "III момент: -2211.8526365579924\n",
      "IV момент: 79246.56261672839\n",
      "Медиана: 20.0\n",
      "Мода: [39.1]\n"
     ]
    }
   ],
   "source": [
    "print('Объем выборки:', len(sample))\n",
    "print('Минимум, максимум:', (min(sample), max(sample)))\n",
    "\n",
    "avg = sum(sample) / size\n",
    "\n",
    "def moment(n, length = size, array = sample):\n",
    "    return np.sum(list(map(lambda x: (x - avg) ** n, array))) / length\n",
    "\n",
    "print('Среднее:', avg)\n",
    "print('Дисперсия:', moment(2, length = size - 1))\n",
    "print('Размах:', max(sample) - min(sample))\n",
    "\n",
    "print('Ассиметрия:', moment(3) / moment(2) ** (3 / 2))\n",
    "print('Эксцесс:', moment(4) / (moment(2) ** 2) - 3)\n",
    "\n",
    "print('II момент:', moment(2))\n",
    "print('III момент:', moment(3))\n",
    "print('IV момент:', moment(4))\n",
    "\n",
    "print('Медиана:', find_median(list(sample)))\n",
    "print('Мода:', multimode(list(sample)))"
   ]
  },
  {
   "cell_type": "markdown",
   "metadata": {},
   "source": [
    "Получаем значения через функции из пакета Stats"
   ]
  },
  {
   "cell_type": "code",
   "execution_count": 12,
   "metadata": {},
   "outputs": [
    {
     "name": "stdout",
     "output_type": "stream",
     "text": [
      "Объем выборки: 100\n",
      "Минимум, максимум: (1.0, 50.0)\n",
      "Среднее: 28.991\n",
      "Дисперсия: 178.8571909090909\n",
      "Ассиметрия: -0.9387366822430435\n",
      "Эксцесс: -0.472464680113188\n",
      "II момент: 177.06861899999996\n",
      "III момент: -2211.852636558\n",
      "IV момент: 79246.56261672852\n",
      "Мода: 39.1 количество: 19\n"
     ]
    }
   ],
   "source": [
    "obj = sps.describe(sample)\n",
    "\n",
    "print('Объем выборки:', obj.nobs)\n",
    "print('Минимум, максимум:', obj.minmax)\n",
    "print('Среднее:', obj.mean)\n",
    "print('Дисперсия:', obj.variance)\n",
    "\n",
    "print('Ассиметрия:', obj.skewness)\n",
    "print('Эксцесс:', obj.kurtosis)\n",
    "\n",
    "print('II момент:', sps.moment(sample, moment = 2))\n",
    "print('III момент:', sps.moment(sample, moment = 3))\n",
    "print('IV момент:', sps.moment(sample, moment = 4))\n",
    "\n",
    "mode = sps.mode(sample, keepdims = False)\n",
    "\n",
    "print(f'Мода: {mode.mode} количество: {mode.count}')"
   ]
  },
  {
   "cell_type": "markdown",
   "metadata": {},
   "source": [
    "Как мы видим, все характеристики совпадают"
   ]
  },
  {
   "cell_type": "markdown",
   "metadata": {},
   "source": [
    "<i>Шаг 5.</i>\n",
    "\n",
    "Создайте полигон частот и гистограмму для каждой выборки\n"
   ]
  },
  {
   "cell_type": "markdown",
   "metadata": {},
   "source": [
    "Список количества каждой случайной величины в выборке"
   ]
  },
  {
   "cell_type": "code",
   "execution_count": 13,
   "metadata": {},
   "outputs": [
    {
     "data": {
      "text/plain": [
       "Counter({39.1: 19,\n",
       "         28.0: 11,\n",
       "         39.0: 11,\n",
       "         27.0: 8,\n",
       "         42.0: 6,\n",
       "         1.0: 5,\n",
       "         30.0: 5,\n",
       "         12.0: 5,\n",
       "         39.2: 5,\n",
       "         7.0: 4,\n",
       "         41.0: 4,\n",
       "         4.0: 4,\n",
       "         6.0: 4,\n",
       "         32.0: 3,\n",
       "         31.9: 2,\n",
       "         29.5: 2,\n",
       "         39.4: 1,\n",
       "         50.0: 1})"
      ]
     },
     "execution_count": 13,
     "metadata": {},
     "output_type": "execute_result"
    }
   ],
   "source": [
    "counter"
   ]
  },
  {
   "cell_type": "code",
   "execution_count": 14,
   "metadata": {},
   "outputs": [
    {
     "data": {
      "image/png": "[encoded data removed]",
      "text/plain": [
       "<Figure size 640x480 with 1 Axes>"
      ]
     },
     "metadata": {},
     "output_type": "display_data"
    }
   ],
   "source": [
    "plt.figure()\n",
    "plt.plot(variants, freq, color = 'blue', lw = 3, label = 'полигон частот')\n",
    "plt.hist(sample, 3 * size, color = 'red', label = 'гистограмма')\n",
    "plt.legend()\n",
    "\n",
    "plt.xlabel('Случайные величины')\n",
    "plt.ylabel('Частота')\n",
    "\n",
    "plt.show()"
   ]
  },
  {
   "cell_type": "markdown",
   "metadata": {},
   "source": [
    "**Задача.** Получение и визуализация выборки заданного <i><u>непрерывного</u></i> распределения."
   ]
  },
  {
   "cell_type": "markdown",
   "metadata": {},
   "source": [
    "<i>Шаг 1.</i> \n",
    "\n",
    "Из списка непрерывных случйных величин выберите с номером $N$. "
   ]
  },
  {
   "cell_type": "code",
   "execution_count": 15,
   "metadata": {},
   "outputs": [
    {
     "name": "stdout",
     "output_type": "stream",
     "text": [
      "Вариант 14\n",
      "X распределен по закону N(2, 5)\n",
      "\n"
     ]
    }
   ],
   "source": [
    "reader = PyPDF2.PdfReader('datasets/Непрерывные величны, практикум 1.pdf')\n",
    "\n",
    "message = 'Вариант '\n",
    "variant = f'Вариант {N}'\n",
    "\n",
    "for i in range(len(reader.pages)):\n",
    "    \n",
    "    text = reader.pages[i].extract_text()\n",
    "    \n",
    "    if variant in text:\n",
    "        index = text.index(str(N))\n",
    "        \n",
    "        end = index\n",
    "        while not end == len(text) and not text[end] == 'Вариант':\n",
    "            message += text[end]\n",
    "            end += 1\n",
    "        break\n",
    "\n",
    "print(message)"
   ]
  },
  {
   "cell_type": "code",
   "execution_count": 16,
   "metadata": {
    "scrolled": true
   },
   "outputs": [
    {
     "name": "stdout",
     "output_type": "stream",
     "text": [
      "μ = 2, σ_square = 5\n"
     ]
    }
   ],
   "source": [
    "parameters = re.findall(r'\\w+', message)\n",
    "\n",
    "μ = int(parameters[-2])\n",
    "σ_square = int(parameters[-1])\n",
    "\n",
    "print(f'μ = {μ}, σ_square = {σ_square}')"
   ]
  },
  {
   "cell_type": "markdown",
   "metadata": {},
   "source": [
    "<i>Шаг 2.</i>\n",
    "\n",
    "Для данных случайных величин, создайте функцию распределения вашей случайной величины (если необходимо)."
   ]
  },
  {
   "cell_type": "code",
   "execution_count": 17,
   "metadata": {},
   "outputs": [
    {
     "name": "stdout",
     "output_type": "stream",
     "text": [
      "Первые 12 значений выборки:\n",
      " [-0.65550977  3.41287918  1.8107897  -2.01200263  5.02921281  3.32386626\n",
      "  2.74280717  5.24159076 -0.45387743  0.09774318  5.036375    2.37909349]\n"
     ]
    }
   ],
   "source": [
    "normal = sps.norm.rvs(size = size, loc = μ, scale = np.sqrt(σ_square))\n",
    "show_count = 12\n",
    "\n",
    "print(f'Первые {show_count} значений выборки:\\n', normal[:show_count])"
   ]
  },
  {
   "cell_type": "markdown",
   "metadata": {},
   "source": [
    "<i>Шаг 3.</i>\n",
    "\n",
    "Создайте выборку длины 100 для вашей случайной величины. Напечатайте массив частот и массив вариант"
   ]
  },
  {
   "cell_type": "code",
   "execution_count": 18,
   "metadata": {
    "scrolled": true
   },
   "outputs": [
    {
     "name": "stdout",
     "output_type": "stream",
     "text": [
      "Массив вариант: \n",
      "odict_keys([-2.6196990664042685, -2.012002634161539, -1.6550979207475587, -1.5399463239308462, -1.2867797379449586, -1.190532453071011, -1.0392944881651207, -0.6555097699675687, -0.4538774330052924, -0.322488754134751, -0.10925197465989456, 0.09774317738672322, 0.13486943059947842, 0.3309425304962532, 0.33851494884062383, 0.7382376729391302, 0.8551786109519581, 0.8611919896152396, 0.8694458467338322, 0.9650641158386131, 0.99950915042807, 1.0515849914124091, 1.0606308108936031, 1.0672738594565336, 1.0870532110936162, 1.2195095570711594, 1.3494147809620909, 1.4295595899679878, 1.430131333411536, 1.493656875877052, 1.546570353371191, 1.6052610395339748, 1.6304463928809807, 1.642330961345102, 1.6502419052045143, 1.6603906073781303, 1.7073622748230588, 1.7434615084156984, 1.8107897017750672, 1.8623966385108994, 1.8660444698233527, 1.8751825406729457, 1.8905814454073635, 1.9241983645633376, 1.9763088289422528, 1.9915994564595416, 2.114748682922163, 2.2043514233226467, 2.2407946068446507, 2.3790934900706238, 2.386135960460875, 2.3988234764375895, 2.4334883701499104, 2.4459223553043956, 2.453567119841294, 2.5099077074918537, 2.5139195473865246, 2.535269802494292, 2.5604480701596666, 2.5938033292832072, 2.606601725652241, 2.742807170851089, 2.7448396010106495, 2.864010181187933, 2.9377290135448684, 3.144312147075869, 3.1983919704529304, 3.2039247364574797, 3.264396696789127, 3.2916282413029876, 3.3238662560198287, 3.3282848177235422, 3.3297836703333403, 3.3399672839616903, 3.4128791810510535, 3.4314455682908758, 3.5624261774936885, 3.6150550043587213, 3.665397070996679, 3.7328542542475374, 3.8714741281452967, 3.9613085615710086, 4.02828297456692, 4.5998394646456795, 4.721048737452927, 5.029212814358774, 5.036375002876767, 5.126665434930196, 5.241590760296791, 5.286209064441811, 5.303398280915012, 5.4639350257973565, 5.667364156498851, 6.420579054425906, 6.8662398518508105, 7.196057289673476, 7.2624418916320295, 7.715747407109969, 7.8108511596422625, 9.645140639171519]) \n",
      "\n",
      " Массив частот: \n",
      "odict_values([1, 1, 1, 1, 1, 1, 1, 1, 1, 1, 1, 1, 1, 1, 1, 1, 1, 1, 1, 1, 1, 1, 1, 1, 1, 1, 1, 1, 1, 1, 1, 1, 1, 1, 1, 1, 1, 1, 1, 1, 1, 1, 1, 1, 1, 1, 1, 1, 1, 1, 1, 1, 1, 1, 1, 1, 1, 1, 1, 1, 1, 1, 1, 1, 1, 1, 1, 1, 1, 1, 1, 1, 1, 1, 1, 1, 1, 1, 1, 1, 1, 1, 1, 1, 1, 1, 1, 1, 1, 1, 1, 1, 1, 1, 1, 1, 1, 1, 1, 1])\n"
     ]
    }
   ],
   "source": [
    "counter = Counter(normal)\n",
    "oredered = OrderedDict(sorted(counter.items(), key = lambda t: t[0]))\n",
    "\n",
    "variants = oredered.keys()\n",
    "freq = oredered.values()\n",
    "\n",
    "print(f'Массив вариант: \\n{variants}', '\\n\\n' , f'Массив частот: \\n{freq}')"
   ]
  },
  {
   "cell_type": "markdown",
   "metadata": {},
   "source": [
    "<i>Шаг 4.</i>\n",
    "\n",
    "Опишите вашу выборку: объем, экстремальные статистики, медиана, мода, размах, среднее, дисперсия, эксцесс и асимметрия. Сравните с результатами калькуляции функциями из пакета Stats https://docs.scipy.org/doc/scipy/reference/stats.html"
   ]
  },
  {
   "cell_type": "code",
   "execution_count": 19,
   "metadata": {
    "scrolled": false
   },
   "outputs": [
    {
     "name": "stdout",
     "output_type": "stream",
     "text": [
      "Объем выборки: 100\n",
      "Минимум, максимум: (-2.6196990664042685, 9.645140639171519)\n",
      "Среднее: 2.4764283482786564\n",
      "Дисперсия: 4.9486723449139705\n",
      "Размах: 12.264839705575788\n",
      "Ассиметрия: 0.5085420340657816\n",
      "Эксцесс: 0.7613953822213921\n",
      "II момент: 4.899185621464831\n",
      "III момент: 5.5145832507913735\n",
      "IV момент: 90.28108626505633\n",
      "Медиана: 0.2663449284086036\n",
      "Мода (ограничение на 3 значения): [-0.6555097699675687, 3.4128791810510535, 1.8107897017750672]\n"
     ]
    }
   ],
   "source": [
    "print('Объем выборки:', len(normal))\n",
    "print('Минимум, максимум:', (min(normal), max(normal)))\n",
    "\n",
    "avg = sum(normal) / size\n",
    "\n",
    "print('Среднее:', avg)\n",
    "print('Дисперсия:', moment(2, length = size - 1, array = normal))\n",
    "print('Размах:', max(normal) - min(normal))\n",
    "\n",
    "print('Ассиметрия:', moment(3, array = normal) / moment(2, array = normal) ** (3 / 2))\n",
    "print('Эксцесс:', moment(4, array = normal) / (moment(2, array = normal) ** 2) - 3)\n",
    "\n",
    "print('II момент:', moment(2, array = normal))\n",
    "print('III момент:', moment(3, array = normal))\n",
    "print('IV момент:', moment(4, array = normal))\n",
    "\n",
    "print('Медиана:', find_median(list(normal)))\n",
    "print('Мода (ограничение на 3 значения):', multimode(list(normal))[:3])"
   ]
  },
  {
   "cell_type": "markdown",
   "metadata": {},
   "source": [
    "Получаем значения через функции из пакета Stats"
   ]
  },
  {
   "cell_type": "code",
   "execution_count": 20,
   "metadata": {},
   "outputs": [
    {
     "name": "stdout",
     "output_type": "stream",
     "text": [
      "Объем выборки: 100\n",
      "Минимум, максимум: (-2.6196990664042685, 9.645140639171519)\n",
      "Среднее: 2.476428348278657\n",
      "Дисперсия: 4.9486723449139705\n",
      "Ассиметрия: 0.5085420340657812\n",
      "Эксцесс: 0.7613953822213895\n",
      "II момент: 4.899185621464831\n",
      "III момент: 5.514583250791369\n",
      "IV момент: 90.28108626505627\n",
      "Мода: -2.6196990664042685 количество: 1\n"
     ]
    }
   ],
   "source": [
    "obj = sps.describe(normal)\n",
    "\n",
    "print('Объем выборки:', obj.nobs)\n",
    "print('Минимум, максимум:', obj.minmax)\n",
    "print('Среднее:', obj.mean)\n",
    "print('Дисперсия:', obj.variance)\n",
    "\n",
    "print('Ассиметрия:', obj.skewness)\n",
    "print('Эксцесс:', obj.kurtosis)\n",
    "\n",
    "print('II момент:', sps.moment(normal, moment = 2))\n",
    "print('III момент:', sps.moment(normal, moment = 3))\n",
    "print('IV момент:', sps.moment(normal, moment = 4))\n",
    "\n",
    "mode = sps.mode(normal, keepdims = False)\n",
    "\n",
    "print(f'Мода: {mode.mode} количество: {mode.count}')"
   ]
  },
  {
   "cell_type": "markdown",
   "metadata": {},
   "source": [
    "Как мы видим, все характеристики совпадают"
   ]
  },
  {
   "cell_type": "markdown",
   "metadata": {},
   "source": [
    "<i>Шаг 5.</i>\n",
    "\n",
    "Создайте полигон частот и гистограмму для каждой выборки\n"
   ]
  },
  {
   "cell_type": "markdown",
   "metadata": {},
   "source": [
    "Список количества каждой случайной величины в выборке"
   ]
  },
  {
   "cell_type": "code",
   "execution_count": 21,
   "metadata": {},
   "outputs": [
    {
     "data": {
      "text/plain": [
       "Counter({-0.6555097699675687: 1,\n",
       "         3.4128791810510535: 1,\n",
       "         1.8107897017750672: 1,\n",
       "         -2.012002634161539: 1,\n",
       "         5.029212814358774: 1,\n",
       "         3.3238662560198287: 1,\n",
       "         2.742807170851089: 1,\n",
       "         5.241590760296791: 1,\n",
       "         -0.4538774330052924: 1,\n",
       "         0.09774317738672322: 1,\n",
       "         5.036375002876767: 1,\n",
       "         2.3790934900706238: 1,\n",
       "         -1.190532453071011: 1,\n",
       "         2.386135960460875: 1,\n",
       "         7.196057289673476: 1,\n",
       "         4.02828297456692: 1,\n",
       "         2.5139195473865246: 1,\n",
       "         7.8108511596422625: 1,\n",
       "         2.2407946068446507: 1,\n",
       "         -1.2867797379449586: 1,\n",
       "         -1.0392944881651207: 1,\n",
       "         5.126665434930196: 1,\n",
       "         1.6052610395339748: 1,\n",
       "         2.5099077074918537: 1,\n",
       "         0.3309425304962532: 1,\n",
       "         1.6304463928809807: 1,\n",
       "         3.264396696789127: 1,\n",
       "         2.4334883701499104: 1,\n",
       "         0.8611919896152396: 1,\n",
       "         2.2043514233226467: 1,\n",
       "         2.3988234764375895: 1,\n",
       "         3.4314455682908758: 1,\n",
       "         -1.5399463239308462: 1,\n",
       "         7.715747407109969: 1,\n",
       "         3.7328542542475374: 1,\n",
       "         2.606601725652241: 1,\n",
       "         1.0515849914124091: 1,\n",
       "         3.8714741281452967: 1,\n",
       "         3.665397070996679: 1,\n",
       "         2.114748682922163: 1,\n",
       "         3.2916282413029876: 1,\n",
       "         5.667364156498851: 1,\n",
       "         2.864010181187933: 1,\n",
       "         4.5998394646456795: 1,\n",
       "         1.8905814454073635: 1,\n",
       "         0.7382376729391302: 1,\n",
       "         1.7434615084156984: 1,\n",
       "         1.9915994564595416: 1,\n",
       "         1.2195095570711594: 1,\n",
       "         2.453567119841294: 1,\n",
       "         -0.322488754134751: 1,\n",
       "         0.8551786109519581: 1,\n",
       "         1.8660444698233527: 1,\n",
       "         3.144312147075869: 1,\n",
       "         0.99950915042807: 1,\n",
       "         1.546570353371191: 1,\n",
       "         1.4295595899679878: 1,\n",
       "         3.3297836703333403: 1,\n",
       "         6.420579054425906: 1,\n",
       "         3.3399672839616903: 1,\n",
       "         0.33851494884062383: 1,\n",
       "         -0.10925197465989456: 1,\n",
       "         1.9241983645633376: 1,\n",
       "         0.8694458467338322: 1,\n",
       "         1.642330961345102: 1,\n",
       "         2.5604480701596666: 1,\n",
       "         2.535269802494292: 1,\n",
       "         1.6603906073781303: 1,\n",
       "         3.6150550043587213: 1,\n",
       "         3.3282848177235422: 1,\n",
       "         7.2624418916320295: 1,\n",
       "         1.493656875877052: 1,\n",
       "         1.0672738594565336: 1,\n",
       "         3.1983919704529304: 1,\n",
       "         3.5624261774936885: 1,\n",
       "         2.7448396010106495: 1,\n",
       "         0.13486943059947842: 1,\n",
       "         1.7073622748230588: 1,\n",
       "         5.286209064441811: 1,\n",
       "         1.8623966385108994: 1,\n",
       "         5.4639350257973565: 1,\n",
       "         -1.6550979207475587: 1,\n",
       "         2.9377290135448684: 1,\n",
       "         1.3494147809620909: 1,\n",
       "         5.303398280915012: 1,\n",
       "         1.8751825406729457: 1,\n",
       "         2.4459223553043956: 1,\n",
       "         -2.6196990664042685: 1,\n",
       "         1.0870532110936162: 1,\n",
       "         9.645140639171519: 1,\n",
       "         1.430131333411536: 1,\n",
       "         4.721048737452927: 1,\n",
       "         2.5938033292832072: 1,\n",
       "         3.9613085615710086: 1,\n",
       "         1.0606308108936031: 1,\n",
       "         1.6502419052045143: 1,\n",
       "         3.2039247364574797: 1,\n",
       "         6.8662398518508105: 1,\n",
       "         1.9763088289422528: 1,\n",
       "         0.9650641158386131: 1})"
      ]
     },
     "execution_count": 21,
     "metadata": {},
     "output_type": "execute_result"
    }
   ],
   "source": [
    "counter"
   ]
  },
  {
   "cell_type": "code",
   "execution_count": 22,
   "metadata": {
    "scrolled": true
   },
   "outputs": [
    {
     "data": {
      "image/png": "[encoded data removed]",
      "text/plain": [
       "<Figure size 640x480 with 1 Axes>"
      ]
     },
     "metadata": {},
     "output_type": "display_data"
    }
   ],
   "source": [
    "plt.figure()\n",
    "plt.plot(variants, freq, color = 'blue', lw = 3, label = 'полигон частот')\n",
    "plt.hist(normal, 10, color = 'yellow', label = 'гистограмма')\n",
    "plt.legend()\n",
    "plt.show()"
   ]
  }
 ],
 "metadata": {
  "kernelspec": {
   "display_name": "Python 3 (ipykernel)",
   "language": "python",
   "name": "python3"
  },
  "language_info": {
   "codemirror_mode": {
    "name": "ipython",
    "version": 3
   },
   "file_extension": ".py",
   "mimetype": "text/x-python",
   "name": "python",
   "nbconvert_exporter": "python",
   "pygments_lexer": "ipython3",
   "version": "3.11.3"
  }
 },
 "nbformat": 4,
 "nbformat_minor": 2
}
