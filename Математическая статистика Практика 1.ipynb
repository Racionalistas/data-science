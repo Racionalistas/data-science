{
 "cells": [
  {
   "cell_type": "markdown",
   "metadata": {},
   "source": [
    "# Математическая статистика"
   ]
  },
  {
   "cell_type": "code",
   "execution_count": 1,
   "metadata": {},
   "outputs": [],
   "source": [
    "from statistics import multimode\n",
    "\n",
    "import numpy as np\n",
    "import scipy.stats as sps\n",
    "import ipywidgets as widgets\n",
    "import matplotlib.pyplot as plt\n",
    "import PyPDF2\n",
    "import re\n",
    "\n",
    "%matplotlib inline"
   ]
  },
  {
   "cell_type": "code",
   "execution_count": 2,
   "metadata": {},
   "outputs": [
    {
     "name": "stdout",
     "output_type": "stream",
     "text": [
      "Номер в группе 14\n"
     ]
    }
   ],
   "source": [
    "N = 14\n",
    "print(f'Номер в группе {N}')"
   ]
  },
  {
   "cell_type": "markdown",
   "metadata": {},
   "source": [
    "**Задача.** Получение и визуализация выборки заданного <i><u>дискретного</u></i> распределения "
   ]
  },
  {
   "cell_type": "markdown",
   "metadata": {},
   "source": [
    "<i>Шаг 1.</i> \n",
    "\n",
    "Из списка дискретных случайных величин выберите случайные величины с номером $N$. "
   ]
  },
  {
   "cell_type": "code",
   "execution_count": 3,
   "metadata": {},
   "outputs": [],
   "source": [
    "variants = np.array([\n",
    "    1, 4, 6, 7, 12, 27, 28, 29.5, 30, 31.9, 32, \n",
    "    39, 39.1, 39.2, 39.3, 39.4, 40, 41, 42, 50\n",
    "])\n",
    "freq = np.array([2, 3, 4, 5, 6, 7, 7, 5, 6, 7, 8, 10, 25, 1, 1, 1, 1, 1, 4, 1]) / 105"
   ]
  },
  {
   "cell_type": "markdown",
   "metadata": {},
   "source": [
    "Визуализируем входные данные для наглядности распределения:"
   ]
  },
  {
   "cell_type": "code",
   "execution_count": 4,
   "metadata": {},
   "outputs": [
    {
     "data": {
      "image/png": "[encoded data removed]",
      "text/plain": [
       "<Figure size 640x480 with 1 Axes>"
      ]
     },
     "metadata": {},
     "output_type": "display_data"
    },
    {
     "name": "stdout",
     "output_type": "stream",
     "text": [
      "Случайная величина: Вероятностная мера\n"
     ]
    },
    {
     "data": {
      "text/plain": [
       "{1.0: 0.01904761904761905,\n",
       " 4.0: 0.02857142857142857,\n",
       " 6.0: 0.0380952380952381,\n",
       " 7.0: 0.047619047619047616,\n",
       " 12.0: 0.05714285714285714,\n",
       " 27.0: 0.06666666666666667,\n",
       " 28.0: 0.06666666666666667,\n",
       " 29.5: 0.047619047619047616,\n",
       " 30.0: 0.05714285714285714,\n",
       " 31.9: 0.06666666666666667,\n",
       " 32.0: 0.0761904761904762,\n",
       " 39.0: 0.09523809523809523,\n",
       " 39.1: 0.23809523809523808,\n",
       " 39.2: 0.009523809523809525,\n",
       " 39.3: 0.009523809523809525,\n",
       " 39.4: 0.009523809523809525,\n",
       " 40.0: 0.009523809523809525,\n",
       " 41.0: 0.009523809523809525,\n",
       " 42.0: 0.0380952380952381,\n",
       " 50.0: 0.009523809523809525}"
      ]
     },
     "execution_count": 4,
     "metadata": {},
     "output_type": "execute_result"
    }
   ],
   "source": [
    "table = dict(zip(variants, freq))\n",
    "plt.plot(variants, freq, '-o')\n",
    "plt.show()\n",
    "\n",
    "print('Случайная величина: Вероятностная мера')\n",
    "table"
   ]
  },
  {
   "cell_type": "markdown",
   "metadata": {},
   "source": [
    "<i>Шаг 2.</i>\n",
    "\n",
    "Для данных случайных величин, создайте функцию распределения вашей случайной величины (если необходимо)."
   ]
  },
  {
   "cell_type": "code",
   "execution_count": 5,
   "metadata": {},
   "outputs": [
    {
     "name": "stdout",
     "output_type": "stream",
     "text": [
      "Сумма частот -0.9999999999999997, что не равно 1 из-за дискретности ЭВМ, поэтому выполняем нормализацию.\n",
      "Снова суммируем и получаем: 1.0\n"
     ]
    }
   ],
   "source": [
    "summary = sum(freq)\n",
    "\n",
    "print(f'Сумма частот -{summary}, что не равно 1 из-за дискретности ЭВМ, поэтому выполняем нормализацию.')\n",
    "\n",
    "freq_norm = list(map(lambda p: p / summary, freq))\n",
    "\n",
    "print(f'Снова суммируем и получаем: {sum(freq_norm)}')\n",
    "\n",
    "distribution = sps.rv_discrete(values = (variants, freq_norm))"
   ]
  },
  {
   "cell_type": "markdown",
   "metadata": {},
   "source": [
    "<i>Шаг 3.</i>\n",
    "\n",
    "Создайте выборку длины 100 для вашей случайной величины. Напечатайте массив частот и массив вариант"
   ]
  },
  {
   "cell_type": "code",
   "execution_count": 6,
   "metadata": {},
   "outputs": [],
   "source": [
    "size = 100\n",
    "sample = distribution.rvs(size = size)"
   ]
  },
  {
   "cell_type": "code",
   "execution_count": 7,
   "metadata": {},
   "outputs": [
    {
     "data": {
      "text/plain": [
       "array([42. , 12. ,  7. , 30. , 28. ,  7. , 39.1, 39.1, 39.1, 31.9, 39.1,\n",
       "       31.9,  1. , 12. , 42. , 39.1, 39.1, 28. , 39.2, 42. , 29.5, 39.1,\n",
       "       39.2, 12. , 42. , 30. , 39.1,  4. , 39. , 39. , 39.1, 42. , 39.1,\n",
       "       39. , 39.4, 39.1, 12. ,  7. ,  7. , 42. , 32. , 12. , 31.9,  1. ,\n",
       "       12. , 27. , 31.9, 32. , 31.9, 29.5, 32. , 32. , 32. , 28. , 39.4,\n",
       "       39.1, 42. , 28. , 28. , 31.9, 12. , 31.9, 39.1,  6. , 27. , 39.1,\n",
       "       32. , 42. , 39. ,  1. , 29.5, 39. , 41. , 30. ,  7. , 32. , 29.5,\n",
       "       28. , 39. , 12. , 30. , 32. , 32. , 31.9, 32. , 39. ,  6. , 39.1,\n",
       "        4. , 32. ,  7. , 12. , 27. , 32. , 39.1, 31.9, 39.1, 29.5, 39.1,\n",
       "       39.1])"
      ]
     },
     "execution_count": 7,
     "metadata": {},
     "output_type": "execute_result"
    }
   ],
   "source": [
    "sample"
   ]
  },
  {
   "cell_type": "code",
   "execution_count": 8,
   "metadata": {},
   "outputs": [
    {
     "data": {
      "text/plain": [
       "array([ 1. ,  4. ,  6. ,  7. , 12. , 27. , 28. , 29.5, 30. , 31.9, 32. ,\n",
       "       39. , 39.1, 39.2, 39.3, 39.4, 40. , 41. , 42. , 50. ])"
      ]
     },
     "execution_count": 8,
     "metadata": {},
     "output_type": "execute_result"
    }
   ],
   "source": [
    "variants"
   ]
  },
  {
   "cell_type": "markdown",
   "metadata": {},
   "source": [
    "<i>Шаг 4.</i>\n",
    "\n",
    "Опишите вашу выборку: объем, экстремальные статистики, медиана, мода, размах, среднее, дисперсия, эксцесс и асимметрия. Сравните с результатами калькуляции функциями из пакета Stats https://docs.scipy.org/doc/scipy/reference/stats.html"
   ]
  },
  {
   "cell_type": "code",
   "execution_count": 9,
   "metadata": {},
   "outputs": [],
   "source": [
    "from collections import Counter\n",
    "from collections import OrderedDict\n",
    "\n",
    "counter = Counter(sample)\n",
    "oredered = OrderedDict(sorted(counter.items(), key = lambda t: t[0]))\n",
    "\n",
    "variants = oredered.keys()\n",
    "freq = oredered.values()"
   ]
  },
  {
   "cell_type": "code",
   "execution_count": 10,
   "metadata": {},
   "outputs": [],
   "source": [
    "def find_median(array):\n",
    "    middle = len(array) / 2.\n",
    "    if (middle % 1 == 0):\n",
    "        return (array[int(middle) + 1] + array[int(middle)]) / 2\n",
    "    else:\n",
    "        return array[int(middle)]"
   ]
  },
  {
   "cell_type": "code",
   "execution_count": 11,
   "metadata": {},
   "outputs": [
    {
     "name": "stdout",
     "output_type": "stream",
     "text": [
      "Объем выборки: 100\n",
      "Минимум, максимум: (1.0, 42.0)\n",
      "Среднее: 29.107000000000003\n",
      "Дисперсия: 150.80186969696973\n",
      "Размах: 41.0\n",
      "Ассиметрия: -1.0063124183220482\n",
      "Эксцесс: -0.31553203737742574\n",
      "II момент: 149.29385100000002\n",
      "III момент: -1835.6746612140016\n",
      "IV момент: 59833.1774491194\n",
      "Медиана: 32.0\n",
      "Мода: [39.1]\n"
     ]
    }
   ],
   "source": [
    "print('Объем выборки:', len(sample))\n",
    "print('Минимум, максимум:', (min(sample), max(sample)))\n",
    "\n",
    "avg = sum(sample) / size\n",
    "\n",
    "def moment(n, length = size, array = sample):\n",
    "    return np.sum(list(map(lambda x: (x - avg) ** n, array))) / length\n",
    "\n",
    "print('Среднее:', avg)\n",
    "print('Дисперсия:', moment(2, length = size - 1))\n",
    "print('Размах:', max(sample) - min(sample))\n",
    "\n",
    "print('Ассиметрия:', moment(3) / moment(2) ** (3 / 2))\n",
    "print('Эксцесс:', moment(4) / (moment(2) ** 2) - 3)\n",
    "\n",
    "print('II момент:', moment(2))\n",
    "print('III момент:', moment(3))\n",
    "print('IV момент:', moment(4))\n",
    "\n",
    "print('Медиана:', find_median(list(sample)))\n",
    "print('Мода:', multimode(list(sample)))"
   ]
  },
  {
   "cell_type": "markdown",
   "metadata": {},
   "source": [
    "Получаем значения через функции из пакета Stats"
   ]
  },
  {
   "cell_type": "code",
   "execution_count": 12,
   "metadata": {},
   "outputs": [
    {
     "name": "stdout",
     "output_type": "stream",
     "text": [
      "Объем выборки: 100\n",
      "Минимум, максимум: (1.0, 42.0)\n",
      "Среднее: 29.107\n",
      "Дисперсия: 150.80186969696973\n",
      "Ассиметрия: -1.0063124183220473\n",
      "Эксцесс: -0.3155320373774271\n",
      "II момент: 149.29385100000002\n",
      "III момент: -1835.6746612139998\n",
      "IV момент: 59833.17744911938\n",
      "Мода: 39.1 количество: 19\n"
     ]
    }
   ],
   "source": [
    "obj = sps.describe(sample)\n",
    "\n",
    "print('Объем выборки:', obj.nobs)\n",
    "print('Минимум, максимум:', obj.minmax)\n",
    "print('Среднее:', obj.mean)\n",
    "print('Дисперсия:', obj.variance)\n",
    "\n",
    "print('Ассиметрия:', obj.skewness)\n",
    "print('Эксцесс:', obj.kurtosis)\n",
    "\n",
    "print('II момент:', sps.moment(sample, moment = 2))\n",
    "print('III момент:', sps.moment(sample, moment = 3))\n",
    "print('IV момент:', sps.moment(sample, moment = 4))\n",
    "\n",
    "mode = sps.mode(sample, keepdims = False)\n",
    "\n",
    "print(f'Мода: {mode.mode} количество: {mode.count}')"
   ]
  },
  {
   "cell_type": "markdown",
   "metadata": {},
   "source": [
    "Как мы видим, все характеристики совпадают"
   ]
  },
  {
   "cell_type": "markdown",
   "metadata": {},
   "source": [
    "<i>Шаг 5.</i>\n",
    "\n",
    "Создайте полигон частот и гистограмму для каждой выборки\n"
   ]
  },
  {
   "cell_type": "markdown",
   "metadata": {},
   "source": [
    "Список количества каждой случайной величины в выборке"
   ]
  },
  {
   "cell_type": "code",
   "execution_count": 13,
   "metadata": {},
   "outputs": [
    {
     "data": {
      "text/plain": [
       "Counter({39.1: 19,\n",
       "         32.0: 12,\n",
       "         12.0: 9,\n",
       "         31.9: 9,\n",
       "         42.0: 8,\n",
       "         39.0: 7,\n",
       "         7.0: 6,\n",
       "         28.0: 6,\n",
       "         29.5: 5,\n",
       "         30.0: 4,\n",
       "         1.0: 3,\n",
       "         27.0: 3,\n",
       "         39.2: 2,\n",
       "         4.0: 2,\n",
       "         39.4: 2,\n",
       "         6.0: 2,\n",
       "         41.0: 1})"
      ]
     },
     "execution_count": 13,
     "metadata": {},
     "output_type": "execute_result"
    }
   ],
   "source": [
    "counter"
   ]
  },
  {
   "cell_type": "code",
   "execution_count": 14,
   "metadata": {},
   "outputs": [
    {
     "data": {
      "image/png": "[encoded data removed]",
      "text/plain": [
       "<Figure size 640x480 with 1 Axes>"
      ]
     },
     "metadata": {},
     "output_type": "display_data"
    }
   ],
   "source": [
    "plt.figure()\n",
    "plt.plot(variants, freq, color = 'blue', lw = 3, label = 'полигон частот')\n",
    "plt.hist(sample, 3 * size, color = 'red', label = 'гистограмма')\n",
    "plt.legend()\n",
    "\n",
    "plt.xlabel('Случайные величины')\n",
    "plt.ylabel('Частота')\n",
    "\n",
    "plt.show()"
   ]
  },
  {
   "cell_type": "markdown",
   "metadata": {},
   "source": [
    "**Задача.** Получение и визуализация выборки заданного <i><u>непрерывного</u></i> распределения."
   ]
  },
  {
   "cell_type": "markdown",
   "metadata": {},
   "source": [
    "<i>Шаг 1.</i> \n",
    "\n",
    "Из списка непрерывных случйных величин выберите с номером $N$. "
   ]
  },
  {
   "cell_type": "code",
   "execution_count": 15,
   "metadata": {},
   "outputs": [
    {
     "name": "stdout",
     "output_type": "stream",
     "text": [
      "Вариант 14\n",
      "X распределен по закону N(2, 5)\n",
      "\n"
     ]
    }
   ],
   "source": [
    "reader = PyPDF2.PdfReader('datasets/Непрерывные величны, практикум 1.pdf')\n",
    "\n",
    "message = 'Вариант '\n",
    "variant = f'Вариант {N}'\n",
    "\n",
    "for i in range(len(reader.pages)):\n",
    "    \n",
    "    text = reader.pages[i].extract_text()\n",
    "    \n",
    "    if variant in text:\n",
    "        index = text.index(str(N))\n",
    "        \n",
    "        end = index\n",
    "        while not end == len(text) and not text[end] == 'Вариант':\n",
    "            message += text[end]\n",
    "            end += 1\n",
    "        break\n",
    "\n",
    "print(message)"
   ]
  },
  {
   "cell_type": "code",
   "execution_count": 16,
   "metadata": {
    "scrolled": true
   },
   "outputs": [
    {
     "name": "stdout",
     "output_type": "stream",
     "text": [
      "μ = 2, σ_square = 5\n"
     ]
    }
   ],
   "source": [
    "parameters = re.findall(r'\\w+', message)\n",
    "\n",
    "μ = int(parameters[-2])\n",
    "σ_square = int(parameters[-1])\n",
    "\n",
    "print(f'μ = {μ}, σ_square = {σ_square}')"
   ]
  },
  {
   "cell_type": "markdown",
   "metadata": {},
   "source": [
    "<i>Шаг 2.</i>\n",
    "\n",
    "Для данных случайных величин, создайте функцию распределения вашей случайной величины (если необходимо)."
   ]
  },
  {
   "cell_type": "code",
   "execution_count": 17,
   "metadata": {},
   "outputs": [
    {
     "name": "stdout",
     "output_type": "stream",
     "text": [
      "Первые 12 значений выборки:\n",
      " [ 2.92356683 -0.34373191 -1.86564215  2.06915485 -2.29806052  3.12261022\n",
      "  0.76027313  1.79849731  1.60335364  1.12187707  1.08434017  3.63988709]\n"
     ]
    }
   ],
   "source": [
    "normal = sps.norm.rvs(size = size, loc = μ, scale = np.sqrt(σ_square))\n",
    "show_count = 12\n",
    "\n",
    "print(f'Первые {show_count} значений выборки:\\n', normal[:show_count])"
   ]
  },
  {
   "cell_type": "markdown",
   "metadata": {},
   "source": [
    "<i>Шаг 3.</i>\n",
    "\n",
    "Создайте выборку длины 100 для вашей случайной величины. Напечатайте массив частот и массив вариант"
   ]
  },
  {
   "cell_type": "code",
   "execution_count": 18,
   "metadata": {
    "scrolled": true
   },
   "outputs": [
    {
     "name": "stdout",
     "output_type": "stream",
     "text": [
      "Массив вариант: \n",
      "dict_keys([-2.29806052447773, -1.6320901267292809, -0.9661197289808316, -0.3001493312323824, 0.36582106651606683, 1.0317914642645158, 1.6977618620129653, 2.3637322597614148, 3.029702657509864, 3.695673055258313, 4.361643453006762, 5.027613850755212, 5.693584248503661, 6.359554646252111, 7.02552504400056]) \n",
      "\n",
      " Массив частот: \n",
      "dict_values([5, 4, 5, 4, 11, 10, 12, 15, 13, 7, 7, 5, 0, 1, 1])\n"
     ]
    }
   ],
   "source": [
    "bin_count = 15\n",
    "\n",
    "bins = np.linspace(min(normal), max(normal), num = bin_count)\n",
    "            \n",
    "counter = Counter(np.digitize(normal, bins))\n",
    "oredered = OrderedDict(sorted(counter.items(), key = lambda t: t[0]))\n",
    "\n",
    "data = dict.fromkeys(bins, 0)\n",
    "\n",
    "for key, count in oredered.items():\n",
    "    data[bins[key - 1]] = count\n",
    "\n",
    "print(f'Массив вариант: \\n{data.keys()}', '\\n\\n' , f'Массив частот: \\n{data.values()}')"
   ]
  },
  {
   "cell_type": "markdown",
   "metadata": {},
   "source": [
    "<i>Шаг 4.</i>\n",
    "\n",
    "Опишите вашу выборку: объем, экстремальные статистики, медиана, мода, размах, среднее, дисперсия, эксцесс и асимметрия. Сравните с результатами калькуляции функциями из пакета Stats https://docs.scipy.org/doc/scipy/reference/stats.html"
   ]
  },
  {
   "cell_type": "code",
   "execution_count": 19,
   "metadata": {
    "scrolled": false
   },
   "outputs": [
    {
     "name": "stdout",
     "output_type": "stream",
     "text": [
      "Объем выборки: 100\n",
      "Минимум, максимум: (-2.29806052447773, 7.02552504400056)\n",
      "Среднее: 2.1201014994672045\n",
      "Дисперсия: 4.101814091129749\n",
      "Размах: 9.32358556847829\n",
      "Ассиметрия: -0.1461860751364756\n",
      "Эксцесс: -0.2976120319518918\n",
      "II момент: 4.060795950218451\n",
      "III момент: -1.1962522209407356\n",
      "IV момент: 44.562549868483174\n",
      "Медиана: 2.789981890476227\n",
      "Мода (ограничение на 3 значения): [2.9235668277923743, -0.3437319139140902, -1.8656421504717802]\n"
     ]
    }
   ],
   "source": [
    "print('Объем выборки:', len(normal))\n",
    "print('Минимум, максимум:', (min(normal), max(normal)))\n",
    "\n",
    "avg = sum(normal) / size\n",
    "\n",
    "print('Среднее:', avg)\n",
    "print('Дисперсия:', moment(2, length = size - 1, array = normal))\n",
    "print('Размах:', max(normal) - min(normal))\n",
    "\n",
    "print('Ассиметрия:', moment(3, array = normal) / moment(2, array = normal) ** (3 / 2))\n",
    "print('Эксцесс:', moment(4, array = normal) / (moment(2, array = normal) ** 2) - 3)\n",
    "\n",
    "print('II момент:', moment(2, array = normal))\n",
    "print('III момент:', moment(3, array = normal))\n",
    "print('IV момент:', moment(4, array = normal))\n",
    "\n",
    "print('Медиана:', find_median(list(normal)))\n",
    "print('Мода (ограничение на 3 значения):', multimode(list(normal))[:3])"
   ]
  },
  {
   "cell_type": "markdown",
   "metadata": {},
   "source": [
    "Получаем значения через функции из пакета Stats"
   ]
  },
  {
   "cell_type": "code",
   "execution_count": 20,
   "metadata": {},
   "outputs": [
    {
     "name": "stdout",
     "output_type": "stream",
     "text": [
      "Объем выборки: 100\n",
      "Минимум, максимум: (-2.29806052447773, 7.02552504400056)\n",
      "Среднее: 2.120101499467205\n",
      "Дисперсия: 4.10181409112975\n",
      "Ассиметрия: -0.14618607513647625\n",
      "Эксцесс: -0.2976120319518931\n",
      "II момент: 4.060795950218452\n",
      "III момент: -1.1962522209407411\n",
      "IV момент: 44.562549868483174\n",
      "Мода: -2.29806052447773 количество: 1\n"
     ]
    }
   ],
   "source": [
    "obj = sps.describe(normal)\n",
    "\n",
    "print('Объем выборки:', obj.nobs)\n",
    "print('Минимум, максимум:', obj.minmax)\n",
    "print('Среднее:', obj.mean)\n",
    "print('Дисперсия:', obj.variance)\n",
    "\n",
    "print('Ассиметрия:', obj.skewness)\n",
    "print('Эксцесс:', obj.kurtosis)\n",
    "\n",
    "print('II момент:', sps.moment(normal, moment = 2))\n",
    "print('III момент:', sps.moment(normal, moment = 3))\n",
    "print('IV момент:', sps.moment(normal, moment = 4))\n",
    "\n",
    "mode = sps.mode(normal, keepdims = False)\n",
    "\n",
    "print(f'Мода: {mode.mode} количество: {mode.count}')"
   ]
  },
  {
   "cell_type": "markdown",
   "metadata": {},
   "source": [
    "Как мы видим, все характеристики совпадают"
   ]
  },
  {
   "cell_type": "markdown",
   "metadata": {},
   "source": [
    "<i>Шаг 5.</i>\n",
    "\n",
    "Создайте полигон частот и гистограмму для каждой выборки\n"
   ]
  },
  {
   "cell_type": "markdown",
   "metadata": {},
   "source": [
    "Список количества каждой случайной величины в выборке"
   ]
  },
  {
   "cell_type": "code",
   "execution_count": 21,
   "metadata": {
    "scrolled": true
   },
   "outputs": [
    {
     "data": {
      "image/png": "[encoded data removed]",
      "text/plain": [
       "<Figure size 640x480 with 1 Axes>"
      ]
     },
     "metadata": {},
     "output_type": "display_data"
    }
   ],
   "source": [
    "plt.figure()\n",
    "plt.plot(data.keys(), data.values(), color = 'blue', lw = 3, label = 'полигон частот')\n",
    "plt.hist(normal, bin_count, color = 'yellow', label = 'гистограмма')\n",
    "plt.legend()\n",
    "plt.show()"
   ]
  }
 ],
 "metadata": {
  "kernelspec": {
   "display_name": "Python 3 (ipykernel)",
   "language": "python",
   "name": "python3"
  },
  "language_info": {
   "codemirror_mode": {
    "name": "ipython",
    "version": 3
   },
   "file_extension": ".py",
   "mimetype": "text/x-python",
   "name": "python",
   "nbconvert_exporter": "python",
   "pygments_lexer": "ipython3",
   "version": "3.8.2"
  }
 },
 "nbformat": 4,
 "nbformat_minor": 2
}
