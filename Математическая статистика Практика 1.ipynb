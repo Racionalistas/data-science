{
 "cells": [
  {
   "cell_type": "markdown",
   "metadata": {},
   "source": [
    "# Математическая статистика"
   ]
  },
  {
   "cell_type": "code",
   "execution_count": 1,
   "metadata": {},
   "outputs": [],
   "source": [
    "from statistics import multimode\n",
    "\n",
    "import numpy as np\n",
    "import scipy.stats as sps\n",
    "import ipywidgets as widgets\n",
    "import matplotlib.pyplot as plt\n",
    "\n",
    "%matplotlib inline"
   ]
  },
  {
   "cell_type": "code",
   "execution_count": 2,
   "metadata": {},
   "outputs": [
    {
     "name": "stdout",
     "output_type": "stream",
     "text": [
      "Номер в группе 14\n"
     ]
    }
   ],
   "source": [
    "N = 14\n",
    "print(f'Номер в группе {N}')"
   ]
  },
  {
   "cell_type": "markdown",
   "metadata": {},
   "source": [
    "**Задача.** Получение и визуализация выборки заданного <i><u>дискретного</u></i> распределения "
   ]
  },
  {
   "cell_type": "markdown",
   "metadata": {},
   "source": [
    "<i>Шаг 1.</i> \n",
    "\n",
    "Из списка дискретных случайных величин выберите случайные величины с номером $N$. "
   ]
  },
  {
   "cell_type": "code",
   "execution_count": 3,
   "metadata": {},
   "outputs": [],
   "source": [
    "variants = np.array([\n",
    "    1, 4, 6, 7, 12, 27, 28, 29.5, 30, 31.9, 32, \n",
    "    39, 39.1, 39.2, 39.3, 39.4, 40, 41, 42, 50\n",
    "])\n",
    "freq = np.array([2, 3, 4, 5, 6, 7, 7, 5, 6, 7, 8, 10, 25, 1, 1, 1, 1, 1, 4, 1]) / 105"
   ]
  },
  {
   "cell_type": "markdown",
   "metadata": {},
   "source": [
    "Визуализируем входные данные для наглядности распределения:"
   ]
  },
  {
   "cell_type": "code",
   "execution_count": 4,
   "metadata": {},
   "outputs": [
    {
     "data": {
      "image/png": "[encoded data removed]",
      "text/plain": [
       "<Figure size 640x480 with 1 Axes>"
      ]
     },
     "metadata": {},
     "output_type": "display_data"
    },
    {
     "name": "stdout",
     "output_type": "stream",
     "text": [
      "Случайная величина: Вероятностная мера\n"
     ]
    },
    {
     "data": {
      "text/plain": [
       "{1.0: 0.01904761904761905,\n",
       " 4.0: 0.02857142857142857,\n",
       " 6.0: 0.0380952380952381,\n",
       " 7.0: 0.047619047619047616,\n",
       " 12.0: 0.05714285714285714,\n",
       " 27.0: 0.06666666666666667,\n",
       " 28.0: 0.06666666666666667,\n",
       " 29.5: 0.047619047619047616,\n",
       " 30.0: 0.05714285714285714,\n",
       " 31.9: 0.06666666666666667,\n",
       " 32.0: 0.0761904761904762,\n",
       " 39.0: 0.09523809523809523,\n",
       " 39.1: 0.23809523809523808,\n",
       " 39.2: 0.009523809523809525,\n",
       " 39.3: 0.009523809523809525,\n",
       " 39.4: 0.009523809523809525,\n",
       " 40.0: 0.009523809523809525,\n",
       " 41.0: 0.009523809523809525,\n",
       " 42.0: 0.0380952380952381,\n",
       " 50.0: 0.009523809523809525}"
      ]
     },
     "execution_count": 4,
     "metadata": {},
     "output_type": "execute_result"
    }
   ],
   "source": [
    "table = dict(zip(variants, freq))\n",
    "plt.plot(variants, freq, '-o')\n",
    "plt.show()\n",
    "\n",
    "print('Случайная величина: Вероятностная мера')\n",
    "table"
   ]
  },
  {
   "cell_type": "markdown",
   "metadata": {},
   "source": [
    "<i>Шаг 2.</i>\n",
    "\n",
    "Для данных случайных величин, создайте функцию распределения вашей случайной величины (если необходимо)."
   ]
  },
  {
   "cell_type": "code",
   "execution_count": 5,
   "metadata": {},
   "outputs": [
    {
     "name": "stdout",
     "output_type": "stream",
     "text": [
      "Сумма частот -0.9999999999999997, что не равно 1 из-за дискретности ЭВМ, поэтому выполняем нормализацию.\n",
      "Снова суммируем и получаем: 1.0\n"
     ]
    }
   ],
   "source": [
    "summary = sum(freq)\n",
    "\n",
    "print(f'Сумма частот -{summary}, что не равно 1 из-за дискретности ЭВМ, поэтому выполняем нормализацию.')\n",
    "\n",
    "freq_norm = list(map(lambda p: p / summary, freq))\n",
    "\n",
    "print(f'Снова суммируем и получаем: {sum(freq_norm)}')\n",
    "\n",
    "distribution = sps.rv_discrete(values = (variants, freq_norm))"
   ]
  },
  {
   "cell_type": "markdown",
   "metadata": {},
   "source": [
    "<i>Шаг 3.</i>\n",
    "\n",
    "Создайте выборку длины 100 для вашей случайной величины. Напечатайте массив частот и массив вариант"
   ]
  },
  {
   "cell_type": "code",
   "execution_count": 6,
   "metadata": {},
   "outputs": [],
   "source": [
    "size = 100\n",
    "sample = distribution.rvs(size = size)"
   ]
  },
  {
   "cell_type": "code",
   "execution_count": 7,
   "metadata": {},
   "outputs": [
    {
     "data": {
      "text/plain": [
       "array([ 4. , 30. ,  6. , 39.3, 42. , 31.9, 32. , 31.9, 39.1, 50. , 28. ,\n",
       "        7. , 12. , 39.1, 31.9, 39.1,  6. ,  7. , 28. , 40. , 32. , 30. ,\n",
       "       39.1, 27. ,  1. , 12. ,  4. , 12. , 12. , 42. , 39.1, 32. , 32. ,\n",
       "        7. ,  6. , 31.9, 39. , 42. , 39.1, 32. ,  6. , 32. , 39.1, 39. ,\n",
       "       27. , 32. , 39.1,  4. ,  7. , 39. , 30. , 31.9, 39.2,  6. , 39.1,\n",
       "        6. , 39.1,  4. , 32. ,  4. , 30. , 39.3, 40. , 50. ,  4. , 39.1,\n",
       "       12. , 39.1,  7. , 39. , 39.1, 29.5, 12. ,  7. , 29.5, 39. , 42. ,\n",
       "       29.5, 28. , 39.1, 29.5, 39.1, 28. , 39.1, 31.9, 39.1,  4. , 39.1,\n",
       "       39.1, 32. , 30. , 27. , 32. , 39.1, 12. , 32. , 42. , 27. , 28. ,\n",
       "       31.9])"
      ]
     },
     "execution_count": 7,
     "metadata": {},
     "output_type": "execute_result"
    }
   ],
   "source": [
    "sample"
   ]
  },
  {
   "cell_type": "code",
   "execution_count": 8,
   "metadata": {},
   "outputs": [
    {
     "data": {
      "text/plain": [
       "array([ 1. ,  4. ,  6. ,  7. , 12. , 27. , 28. , 29.5, 30. , 31.9, 32. ,\n",
       "       39. , 39.1, 39.2, 39.3, 39.4, 40. , 41. , 42. , 50. ])"
      ]
     },
     "execution_count": 8,
     "metadata": {},
     "output_type": "execute_result"
    }
   ],
   "source": [
    "variants"
   ]
  },
  {
   "cell_type": "markdown",
   "metadata": {},
   "source": [
    "<i>Шаг 4.</i>\n",
    "\n",
    "Опишите вашу выборку: объем, экстремальные статистики, медиана, мода, размах, среднее, дисперсия, эксцесс и асимметрия. Сравните с результатами калькуляции функциями из пакета Stats https://docs.scipy.org/doc/scipy/reference/stats.html"
   ]
  },
  {
   "cell_type": "code",
   "execution_count": 9,
   "metadata": {},
   "outputs": [],
   "source": [
    "from collections import Counter\n",
    "from collections import OrderedDict\n",
    "\n",
    "counter = Counter(sample)\n",
    "oredered = OrderedDict(sorted(counter.items(), key = lambda t: t[0]))\n",
    "\n",
    "variants = oredered.keys()\n",
    "freq = oredered.values()"
   ]
  },
  {
   "cell_type": "code",
   "execution_count": 10,
   "metadata": {},
   "outputs": [],
   "source": [
    "def find_median(array):\n",
    "    middle = len(array) / 2.\n",
    "    if (middle % 1 == 0):\n",
    "        return (array[int(middle) + 1] + array[int(middle)]) / 2\n",
    "    else:\n",
    "        return array[int(middle)]"
   ]
  },
  {
   "cell_type": "code",
   "execution_count": 11,
   "metadata": {},
   "outputs": [
    {
     "name": "stdout",
     "output_type": "stream",
     "text": [
      "Объем выборки: 100\n",
      "Минимум, максимум: (1.0, 50.0)\n",
      "Среднее: 27.67099999999999\n",
      "Дисперсия: 182.76430202020202\n",
      "Размах: 49.0\n",
      "Ассиметрия: -0.6934587342739759\n",
      "Эксцесс: -0.9281147837640646\n",
      "II момент: 180.936659\n",
      "III момент: -1687.7591562779933\n",
      "IV момент: 67829.53270978309\n",
      "Медиана: 30.95\n",
      "Мода: [39.1]\n"
     ]
    }
   ],
   "source": [
    "print('Объем выборки:', len(sample))\n",
    "print('Минимум, максимум:', (min(sample), max(sample)))\n",
    "\n",
    "avg = sum(sample) / size\n",
    "\n",
    "def moment(n, length = size):\n",
    "    return np.sum(list(map(lambda x: (x - avg) ** n, sample))) / length\n",
    "\n",
    "print('Среднее:', avg)\n",
    "print('Дисперсия:', moment(2, length = size - 1))\n",
    "print('Размах:', max(sample) - min(sample))\n",
    "\n",
    "print('Ассиметрия:', moment(3) / moment(2) ** (3 / 2))\n",
    "print('Эксцесс:', moment(4) / (moment(2) ** 2) - 3)\n",
    "\n",
    "print('II момент:', moment(2))\n",
    "print('III момент:', moment(3))\n",
    "print('IV момент:', moment(4))\n",
    "\n",
    "print('Медиана:', find_median(list(sample)))\n",
    "print('Мода:', multimode(list(sample)))"
   ]
  },
  {
   "cell_type": "markdown",
   "metadata": {},
   "source": [
    "Получаем значения через функции из пакета Stats"
   ]
  },
  {
   "cell_type": "code",
   "execution_count": 12,
   "metadata": {},
   "outputs": [
    {
     "name": "stdout",
     "output_type": "stream",
     "text": [
      "Объем выборки: 100\n",
      "Минимум, максимум: (1.0, 50.0)\n",
      "Среднее: 27.671000000000003\n",
      "Дисперсия: 182.76430202020208\n",
      "Ассиметрия: -0.6934587342739787\n",
      "Эксцесс: -0.9281147837640638\n",
      "II момент: 180.93665900000005\n",
      "III момент: -1687.7591562780012\n",
      "IV момент: 67829.53270978318\n",
      "Мода: 39.1 количество: 20\n"
     ]
    }
   ],
   "source": [
    "obj = sps.describe(sample)\n",
    "\n",
    "print('Объем выборки:', obj.nobs)\n",
    "print('Минимум, максимум:', obj.minmax)\n",
    "print('Среднее:', obj.mean)\n",
    "print('Дисперсия:', obj.variance)\n",
    "\n",
    "print('Ассиметрия:', obj.skewness)\n",
    "print('Эксцесс:', obj.kurtosis)\n",
    "\n",
    "print('II момент:', sps.moment(sample, moment = 2))\n",
    "print('III момент:', sps.moment(sample, moment = 3))\n",
    "print('IV момент:', sps.moment(sample, moment = 4))\n",
    "\n",
    "mode = sps.mode(sample, keepdims = False)\n",
    "\n",
    "print(f'Мода: {mode.mode} количество: {mode.count}')"
   ]
  },
  {
   "cell_type": "markdown",
   "metadata": {},
   "source": [
    "Как мы видим, все характеристики совпадают"
   ]
  },
  {
   "cell_type": "markdown",
   "metadata": {},
   "source": [
    "<i>Шаг 5.</i>\n",
    "\n",
    "Создайте полигон частот и гистограмму для каждой выборки\n"
   ]
  },
  {
   "cell_type": "markdown",
   "metadata": {},
   "source": [
    "Список количества каждой случайной величины в выборке"
   ]
  },
  {
   "cell_type": "code",
   "execution_count": 13,
   "metadata": {},
   "outputs": [
    {
     "data": {
      "text/plain": [
       "Counter({39.1: 20,\n",
       "         32.0: 11,\n",
       "         4.0: 7,\n",
       "         31.9: 7,\n",
       "         12.0: 7,\n",
       "         6.0: 6,\n",
       "         7.0: 6,\n",
       "         30.0: 5,\n",
       "         42.0: 5,\n",
       "         28.0: 5,\n",
       "         39.0: 5,\n",
       "         27.0: 4,\n",
       "         29.5: 4,\n",
       "         39.3: 2,\n",
       "         50.0: 2,\n",
       "         40.0: 2,\n",
       "         1.0: 1,\n",
       "         39.2: 1})"
      ]
     },
     "execution_count": 13,
     "metadata": {},
     "output_type": "execute_result"
    }
   ],
   "source": [
    "counter"
   ]
  },
  {
   "cell_type": "code",
   "execution_count": 14,
   "metadata": {},
   "outputs": [
    {
     "data": {
      "image/png": "[encoded data removed]",
      "text/plain": [
       "<Figure size 640x480 with 1 Axes>"
      ]
     },
     "metadata": {},
     "output_type": "display_data"
    }
   ],
   "source": [
    "plt.figure()\n",
    "plt.plot(variants, freq, color = 'blue', lw = 3, label = 'полигон частот')\n",
    "plt.hist(sample, 3 * size, color = 'red', label = 'гистограмма')\n",
    "plt.legend()\n",
    "\n",
    "plt.xlabel('Случайные величины')\n",
    "plt.ylabel('Частота')\n",
    "\n",
    "plt.show()"
   ]
  },
  {
   "cell_type": "markdown",
   "metadata": {},
   "source": [
    "**Задача.** Получение и визуализация выборки заданного <i><u>непрерывного</u></i> распределения."
   ]
  },
  {
   "cell_type": "markdown",
   "metadata": {},
   "source": [
    "<i>Шаг 1.</i> \n",
    "\n",
    "Из списка непрерывных случйных величин выберите с номером $N$. "
   ]
  },
  {
   "cell_type": "code",
   "execution_count": 15,
   "metadata": {
    "scrolled": true
   },
   "outputs": [
    {
     "name": "stdout",
     "output_type": "stream",
     "text": [
      "Номер в группе 14, X распределен по закону N(2, 5)\n"
     ]
    }
   ],
   "source": [
    "μ = 2\n",
    "σ_square = 5\n",
    "\n",
    "print(f'Номер в группе {N}, X распределен по закону N({μ}, {σ_square})')"
   ]
  },
  {
   "cell_type": "markdown",
   "metadata": {},
   "source": [
    "<i>Шаг 2.</i>\n",
    "\n",
    "Для данных случайных величин, создайте функцию распределения вашей случайной величины (если необходимо)."
   ]
  },
  {
   "cell_type": "code",
   "execution_count": 16,
   "metadata": {},
   "outputs": [
    {
     "name": "stdout",
     "output_type": "stream",
     "text": [
      "Первые 12 значений выборки:\n",
      " [-0.97309812  3.03263715  1.99012208  1.78647872 -0.19610678  4.26802697\n",
      " -1.15436934  1.18711202  1.49640897  2.60083862  4.89905732  1.84808816]\n"
     ]
    }
   ],
   "source": [
    "normal = sps.norm.rvs(size = size, loc = μ, scale = np.sqrt(σ_square))\n",
    "show_count = 12\n",
    "\n",
    "print(f'Первые {show_count} значений выборки:\\n', normal[:show_count])"
   ]
  },
  {
   "cell_type": "markdown",
   "metadata": {},
   "source": [
    "<i>Шаг 3.</i>\n",
    "\n",
    "Создайте выборку длины 100 для вашей случайной величины. Напечатайте массив частот и массив вариант"
   ]
  },
  {
   "cell_type": "code",
   "execution_count": 17,
   "metadata": {
    "scrolled": true
   },
   "outputs": [
    {
     "name": "stdout",
     "output_type": "stream",
     "text": [
      "Массив вариант: \n",
      "odict_keys([-3.320424264549257, -2.6694883602017514, -2.6463652209558273, -2.4829501668603005, -2.1736498584176944, -2.087585973940067, -1.7667854839034756, -1.5730552070240504, -1.1543693351599535, -1.1480713545263663, -0.9926672655355797, -0.9730981190059844, -0.3956331721647044, -0.24944265325011772, -0.20845795314843185, -0.19610678062475762, -0.11658211351540082, -0.016598285794718226, 0.07600228613719962, 0.0839560247921256, 0.09311209995384084, 0.21080881515790262, 0.2779956404292758, 0.29085885818893153, 0.4556419235107181, 0.5383319547142666, 0.7628225363031558, 0.8175104106025506, 0.8493066776698004, 0.9415642580885122, 0.963392968407534, 1.100873875880231, 1.1871120187554647, 1.3077300373104928, 1.431809737517311, 1.4373602042314246, 1.4964089692427063, 1.5074543215123655, 1.5174725472265542, 1.5295494905920417, 1.5542786716465393, 1.6005494665756477, 1.6085176982860796, 1.6319789685218271, 1.7549523815983092, 1.7582288418640175, 1.7803436243647714, 1.7864787196567236, 1.7943108474762626, 1.8259756115378758, 1.8393290236779256, 1.8480881562919316, 1.931363073514274, 1.9901220773259465, 1.9915221470056303, 2.2169728930796295, 2.293908068479081, 2.302784646912981, 2.341191697185699, 2.3769412415854045, 2.4081103808309536, 2.4402663168860697, 2.537783820321459, 2.6008386161996238, 2.7256764738163604, 2.964934145435532, 2.991883105165596, 3.0226394261622516, 3.0326371501823157, 3.0419685571444663, 3.0834211822330015, 3.1334244468151544, 3.1425507388126075, 3.2677604578342985, 3.372388880284384, 3.4361403956916416, 3.4461200172152435, 3.4464759682550428, 3.6654973764393324, 3.6853129562042986, 4.023261648161019, 4.071073467669377, 4.144061179628968, 4.228695257261461, 4.246639336512044, 4.255333833253516, 4.268026967301905, 4.351712006738733, 4.354786421760581, 4.3644503586777486, 4.427139744072789, 4.899057319429549, 5.099726481349268, 5.550449838422107, 5.947597048204848, 6.170806313715686, 6.839785499209651, 7.595723567970199, 8.092070716491605, 9.289645325296618]) \n",
      "\n",
      " Массив частот: \n",
      "odict_values([1, 1, 1, 1, 1, 1, 1, 1, 1, 1, 1, 1, 1, 1, 1, 1, 1, 1, 1, 1, 1, 1, 1, 1, 1, 1, 1, 1, 1, 1, 1, 1, 1, 1, 1, 1, 1, 1, 1, 1, 1, 1, 1, 1, 1, 1, 1, 1, 1, 1, 1, 1, 1, 1, 1, 1, 1, 1, 1, 1, 1, 1, 1, 1, 1, 1, 1, 1, 1, 1, 1, 1, 1, 1, 1, 1, 1, 1, 1, 1, 1, 1, 1, 1, 1, 1, 1, 1, 1, 1, 1, 1, 1, 1, 1, 1, 1, 1, 1, 1])\n"
     ]
    }
   ],
   "source": [
    "counter = Counter(normal)\n",
    "oredered = OrderedDict(sorted(counter.items(), key = lambda t: t[0]))\n",
    "\n",
    "variants = oredered.keys()\n",
    "freq = oredered.values()\n",
    "\n",
    "print(f'Массив вариант: \\n{variants}', '\\n\\n' , f'Массив частот: \\n{freq}')"
   ]
  },
  {
   "cell_type": "markdown",
   "metadata": {},
   "source": [
    "<i>Шаг 4.</i>\n",
    "\n",
    "Опишите вашу выборку: объем, экстремальные статистики, медиана, мода, размах, среднее, дисперсия, эксцесс и асимметрия. Сравните с результатами калькуляции функциями из пакета Stats https://docs.scipy.org/doc/scipy/reference/stats.html"
   ]
  },
  {
   "cell_type": "code",
   "execution_count": 18,
   "metadata": {
    "scrolled": false
   },
   "outputs": [
    {
     "name": "stdout",
     "output_type": "stream",
     "text": [
      "Объем выборки: 100\n",
      "Минимум, максимум: (-3.320424264549257, 9.289645325296618)\n",
      "Среднее: 2.005994546872898\n",
      "Дисперсия: 5.512967484312397\n",
      "Размах: 12.610069589845875\n",
      "Ассиметрия: 0.28883266033105115\n",
      "Эксцесс: 0.558499028049074\n",
      "II момент: 5.457837809469273\n",
      "III момент: 3.682792404604969\n",
      "IV момент: 106.00054611112196\n",
      "Медиана: 2.9811741802836274\n",
      "Мода (ограничение на 3 значения): [-0.9730981190059844, 3.0326371501823157, 1.9901220773259465]\n"
     ]
    }
   ],
   "source": [
    "print('Объем выборки:', len(normal))\n",
    "print('Минимум, максимум:', (min(normal), max(normal)))\n",
    "\n",
    "avg = sum(normal) / size\n",
    "\n",
    "def moment(n, length = size):\n",
    "    return np.sum(list(map(lambda x: (x - avg) ** n, normal))) / length\n",
    "\n",
    "print('Среднее:', avg)\n",
    "print('Дисперсия:', moment(2, length = size - 1))\n",
    "print('Размах:', max(normal) - min(normal))\n",
    "\n",
    "print('Ассиметрия:', moment(3) / moment(2) ** (3 / 2))\n",
    "print('Эксцесс:', moment(4) / (moment(2) ** 2) - 3)\n",
    "\n",
    "print('II момент:', moment(2))\n",
    "print('III момент:', moment(3))\n",
    "print('IV момент:', moment(4))\n",
    "\n",
    "print('Медиана:', find_median(list(normal)))\n",
    "print('Мода (ограничение на 3 значения):', multimode(list(normal))[:3])"
   ]
  },
  {
   "cell_type": "markdown",
   "metadata": {},
   "source": [
    "Получаем значения через функции из пакета Stats"
   ]
  },
  {
   "cell_type": "code",
   "execution_count": 19,
   "metadata": {},
   "outputs": [
    {
     "name": "stdout",
     "output_type": "stream",
     "text": [
      "Объем выборки: 100\n",
      "Минимум, максимум: (-3.320424264549257, 9.289645325296618)\n",
      "Среднее: 2.0059945468728984\n",
      "Дисперсия: 5.512967484312398\n",
      "Ассиметрия: 0.28883266033105054\n",
      "Эксцесс: 0.558499028049074\n",
      "II момент: 5.457837809469273\n",
      "III момент: 3.6827924046049616\n",
      "IV момент: 106.00054611112196\n",
      "Мода: -3.320424264549257 количество: 1\n"
     ]
    }
   ],
   "source": [
    "obj = sps.describe(normal)\n",
    "\n",
    "print('Объем выборки:', obj.nobs)\n",
    "print('Минимум, максимум:', obj.minmax)\n",
    "print('Среднее:', obj.mean)\n",
    "print('Дисперсия:', obj.variance)\n",
    "\n",
    "print('Ассиметрия:', obj.skewness)\n",
    "print('Эксцесс:', obj.kurtosis)\n",
    "\n",
    "print('II момент:', sps.moment(normal, moment = 2))\n",
    "print('III момент:', sps.moment(normal, moment = 3))\n",
    "print('IV момент:', sps.moment(normal, moment = 4))\n",
    "\n",
    "mode = sps.mode(normal, keepdims = False)\n",
    "\n",
    "print(f'Мода: {mode.mode} количество: {mode.count}')"
   ]
  },
  {
   "cell_type": "markdown",
   "metadata": {},
   "source": [
    "Как мы видим, все характеристики совпадают"
   ]
  },
  {
   "cell_type": "markdown",
   "metadata": {},
   "source": [
    "<i>Шаг 5.</i>\n",
    "\n",
    "Создайте полигон частот и гистограмму для каждой выборки\n"
   ]
  },
  {
   "cell_type": "markdown",
   "metadata": {},
   "source": [
    "Список количества каждой случайной величины в выборке"
   ]
  },
  {
   "cell_type": "code",
   "execution_count": 20,
   "metadata": {},
   "outputs": [
    {
     "data": {
      "text/plain": [
       "Counter({-0.9730981190059844: 1,\n",
       "         3.0326371501823157: 1,\n",
       "         1.9901220773259465: 1,\n",
       "         1.7864787196567236: 1,\n",
       "         -0.19610678062475762: 1,\n",
       "         4.268026967301905: 1,\n",
       "         -1.1543693351599535: 1,\n",
       "         1.1871120187554647: 1,\n",
       "         1.4964089692427063: 1,\n",
       "         2.6008386161996238: 1,\n",
       "         4.899057319429549: 1,\n",
       "         1.8480881562919316: 1,\n",
       "         4.246639336512044: 1,\n",
       "         -1.1480713545263663: 1,\n",
       "         3.0834211822330015: 1,\n",
       "         0.2779956404292758: 1,\n",
       "         1.7803436243647714: 1,\n",
       "         4.354786421760581: 1,\n",
       "         5.550449838422107: 1,\n",
       "         4.071073467669377: 1,\n",
       "         1.6319789685218271: 1,\n",
       "         9.289645325296618: 1,\n",
       "         0.0839560247921256: 1,\n",
       "         0.963392968407534: 1,\n",
       "         1.5074543215123655: 1,\n",
       "         1.5295494905920417: 1,\n",
       "         3.0419685571444663: 1,\n",
       "         -2.1736498584176944: 1,\n",
       "         2.964934145435532: 1,\n",
       "         2.4081103808309536: 1,\n",
       "         2.4402663168860697: 1,\n",
       "         2.2169728930796295: 1,\n",
       "         4.023261648161019: 1,\n",
       "         0.8493066776698004: 1,\n",
       "         -0.24944265325011772: 1,\n",
       "         1.8393290236779256: 1,\n",
       "         -0.9926672655355797: 1,\n",
       "         0.9415642580885122: 1,\n",
       "         2.991883105165596: 1,\n",
       "         0.7628225363031558: 1,\n",
       "         1.5174725472265542: 1,\n",
       "         2.341191697185699: 1,\n",
       "         2.537783820321459: 1,\n",
       "         -2.4829501668603005: 1,\n",
       "         4.255333833253516: 1,\n",
       "         5.947597048204848: 1,\n",
       "         4.351712006738733: 1,\n",
       "         2.302784646912981: 1,\n",
       "         -0.3956331721647044: 1,\n",
       "         5.099726481349268: 1,\n",
       "         6.170806313715686: 1,\n",
       "         -0.20845795314843185: 1,\n",
       "         3.4461200172152435: 1,\n",
       "         1.7943108474762626: 1,\n",
       "         0.07600228613719962: 1,\n",
       "         1.7549523815983092: 1,\n",
       "         3.1425507388126075: 1,\n",
       "         3.4361403956916416: 1,\n",
       "         6.839785499209651: 1,\n",
       "         1.4373602042314246: 1,\n",
       "         4.228695257261461: 1,\n",
       "         -0.11658211351540082: 1,\n",
       "         1.431809737517311: 1,\n",
       "         3.6654973764393324: 1,\n",
       "         -1.7667854839034756: 1,\n",
       "         7.595723567970199: 1,\n",
       "         0.29085885818893153: 1,\n",
       "         1.100873875880231: 1,\n",
       "         0.09311209995384084: 1,\n",
       "         1.6085176982860796: 1,\n",
       "         -3.320424264549257: 1,\n",
       "         3.1334244468151544: 1,\n",
       "         0.21080881515790262: 1,\n",
       "         3.372388880284384: 1,\n",
       "         -2.6694883602017514: 1,\n",
       "         1.3077300373104928: 1,\n",
       "         -2.6463652209558273: 1,\n",
       "         2.3769412415854045: 1,\n",
       "         8.092070716491605: 1,\n",
       "         0.4556419235107181: 1,\n",
       "         4.427139744072789: 1,\n",
       "         4.144061179628968: 1,\n",
       "         -0.016598285794718226: 1,\n",
       "         3.4464759682550428: 1,\n",
       "         0.8175104106025506: 1,\n",
       "         1.7582288418640175: 1,\n",
       "         4.3644503586777486: 1,\n",
       "         1.8259756115378758: 1,\n",
       "         1.9915221470056303: 1,\n",
       "         1.6005494665756477: 1,\n",
       "         3.2677604578342985: 1,\n",
       "         -1.5730552070240504: 1,\n",
       "         3.0226394261622516: 1,\n",
       "         3.6853129562042986: 1,\n",
       "         1.931363073514274: 1,\n",
       "         2.293908068479081: 1,\n",
       "         0.5383319547142666: 1,\n",
       "         1.5542786716465393: 1,\n",
       "         2.7256764738163604: 1,\n",
       "         -2.087585973940067: 1})"
      ]
     },
     "execution_count": 20,
     "metadata": {},
     "output_type": "execute_result"
    }
   ],
   "source": [
    "counter"
   ]
  },
  {
   "cell_type": "code",
   "execution_count": 21,
   "metadata": {
    "scrolled": true
   },
   "outputs": [
    {
     "data": {
      "image/png": "[encoded data removed]",
      "text/plain": [
       "<Figure size 640x480 with 1 Axes>"
      ]
     },
     "metadata": {},
     "output_type": "display_data"
    }
   ],
   "source": [
    "plt.figure()\n",
    "plt.plot(variants, freq, color = 'blue', lw = 3, label = 'полигон частот')\n",
    "plt.hist(normal, 10, color = 'yellow', label = 'гистограмма')\n",
    "plt.legend()\n",
    "plt.show()"
   ]
  }
 ],
 "metadata": {
  "kernelspec": {
   "display_name": "Python 3 (ipykernel)",
   "language": "python",
   "name": "python3"
  },
  "language_info": {
   "codemirror_mode": {
    "name": "ipython",
    "version": 3
   },
   "file_extension": ".py",
   "mimetype": "text/x-python",
   "name": "python",
   "nbconvert_exporter": "python",
   "pygments_lexer": "ipython3",
   "version": "3.11.3"
  }
 },
 "nbformat": 4,
 "nbformat_minor": 2
}
