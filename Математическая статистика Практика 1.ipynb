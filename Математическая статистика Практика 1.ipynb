{
 "cells": [
  {
   "cell_type": "markdown",
   "metadata": {},
   "source": [
    "# Математическая статистика"
   ]
  },
  {
   "cell_type": "code",
   "execution_count": 1,
   "metadata": {},
   "outputs": [],
   "source": [
    "from statistics import multimode\n",
    "\n",
    "import numpy as np\n",
    "import scipy.stats as sps\n",
    "import ipywidgets as widgets\n",
    "import matplotlib.pyplot as plt\n",
    "\n",
    "%matplotlib inline"
   ]
  },
  {
   "cell_type": "code",
   "execution_count": 2,
   "metadata": {},
   "outputs": [
    {
     "name": "stdout",
     "output_type": "stream",
     "text": [
      "Номер в группе 14\n"
     ]
    }
   ],
   "source": [
    "N = 14\n",
    "print(f'Номер в группе {N}')"
   ]
  },
  {
   "cell_type": "markdown",
   "metadata": {},
   "source": [
    "**Задача.** Получение и визуализация выборки заданного <i><u>дискретного</u></i> распределения "
   ]
  },
  {
   "cell_type": "markdown",
   "metadata": {},
   "source": [
    "<i>Шаг 1.</i> \n",
    "\n",
    "Из списка дискретных случайных величин выберите случайные величины с номером $N$. "
   ]
  },
  {
   "cell_type": "code",
   "execution_count": 3,
   "metadata": {},
   "outputs": [],
   "source": [
    "variants = np.array([\n",
    "    1, 4, 6, 7, 12, 27, 28, 29.5, 30, 31.9, 32, \n",
    "    39, 39.1, 39.2, 39.3, 39.4, 40, 41, 42, 50\n",
    "])\n",
    "freq = np.array([2, 3, 4, 5, 6, 7, 7, 5, 6, 7, 8, 10, 25, 1, 1, 1, 1, 1, 4, 1]) / 105"
   ]
  },
  {
   "cell_type": "markdown",
   "metadata": {},
   "source": [
    "Визуализируем входные данные для наглядности распределения:"
   ]
  },
  {
   "cell_type": "code",
   "execution_count": 4,
   "metadata": {},
   "outputs": [
    {
     "data": {
      "image/png": "[encoded data removed]",
      "text/plain": [
       "<Figure size 640x480 with 1 Axes>"
      ]
     },
     "metadata": {},
     "output_type": "display_data"
    },
    {
     "name": "stdout",
     "output_type": "stream",
     "text": [
      "Случайная величина: Вероятностная мера\n"
     ]
    },
    {
     "data": {
      "text/plain": [
       "{1.0: 0.01904761904761905,\n",
       " 4.0: 0.02857142857142857,\n",
       " 6.0: 0.0380952380952381,\n",
       " 7.0: 0.047619047619047616,\n",
       " 12.0: 0.05714285714285714,\n",
       " 27.0: 0.06666666666666667,\n",
       " 28.0: 0.06666666666666667,\n",
       " 29.5: 0.047619047619047616,\n",
       " 30.0: 0.05714285714285714,\n",
       " 31.9: 0.06666666666666667,\n",
       " 32.0: 0.0761904761904762,\n",
       " 39.0: 0.09523809523809523,\n",
       " 39.1: 0.23809523809523808,\n",
       " 39.2: 0.009523809523809525,\n",
       " 39.3: 0.009523809523809525,\n",
       " 39.4: 0.009523809523809525,\n",
       " 40.0: 0.009523809523809525,\n",
       " 41.0: 0.009523809523809525,\n",
       " 42.0: 0.0380952380952381,\n",
       " 50.0: 0.009523809523809525}"
      ]
     },
     "execution_count": 4,
     "metadata": {},
     "output_type": "execute_result"
    }
   ],
   "source": [
    "table = dict(zip(variants, freq))\n",
    "plt.plot(variants, freq, '-o')\n",
    "plt.show()\n",
    "\n",
    "print('Случайная величина: Вероятностная мера')\n",
    "table"
   ]
  },
  {
   "cell_type": "markdown",
   "metadata": {},
   "source": [
    "<i>Шаг 2.</i>\n",
    "\n",
    "Для данных случайных величин, создайте функцию распределения вашей случайной величины (если необходимо)."
   ]
  },
  {
   "cell_type": "code",
   "execution_count": 5,
   "metadata": {},
   "outputs": [
    {
     "name": "stdout",
     "output_type": "stream",
     "text": [
      "Сумма частот -0.9999999999999997, что не равно 1 из-за дискретности ЭВМ, поэтому выполняем нормализацию.\n",
      "Снова суммируем и получаем: 1.0\n"
     ]
    }
   ],
   "source": [
    "summary = sum(freq)\n",
    "\n",
    "print(f'Сумма частот -{summary}, что не равно 1 из-за дискретности ЭВМ, поэтому выполняем нормализацию.')\n",
    "\n",
    "freq_norm = list(map(lambda p: p / summary, freq))\n",
    "\n",
    "print(f'Снова суммируем и получаем: {sum(freq_norm)}')\n",
    "\n",
    "distribution = sps.rv_discrete(values = (variants, freq_norm))"
   ]
  },
  {
   "cell_type": "markdown",
   "metadata": {},
   "source": [
    "<i>Шаг 3.</i>\n",
    "\n",
    "Создайте выборку длины 100 для вашей случайной величины. Напечатайте массив частот и массив вариант"
   ]
  },
  {
   "cell_type": "code",
   "execution_count": 6,
   "metadata": {},
   "outputs": [],
   "source": [
    "size = 100\n",
    "sample = distribution.rvs(size = size)"
   ]
  },
  {
   "cell_type": "code",
   "execution_count": 7,
   "metadata": {},
   "outputs": [
    {
     "data": {
      "text/plain": [
       "array([32. , 39. , 39.1, 39.1, 39.4, 39.1, 27. , 28. , 32. , 39.2, 31.9,\n",
       "       42. ,  4. ,  7. , 28. , 32. , 30. , 27. , 32. , 39.1, 30. , 32. ,\n",
       "       42. , 30. , 39.1, 39.1, 27. , 39.1, 30. , 39.1,  7. , 39.4, 39.1,\n",
       "       31.9, 42. ,  6. ,  7. , 39.1, 42. , 32. , 42. , 12. , 39.1,  7. ,\n",
       "       30. , 27. ,  7. , 39.1, 39. , 31.9, 30. , 39.1,  6. , 27. , 27. ,\n",
       "        4. , 29.5, 32. , 31.9, 27. , 39.2, 12. , 39.1, 39.1, 42. , 30. ,\n",
       "       31.9,  1. , 39.1, 39.1, 39.4, 27. , 39.1, 28. ,  4. , 29.5, 39.1,\n",
       "       39. , 39. ,  7. , 32. , 39.1,  7. , 27. , 39.1, 39. , 28. , 39. ,\n",
       "       12. , 39.1, 39.1, 30. , 32. ,  6. , 32. , 30. , 39. , 32. , 32. ,\n",
       "       39.1])"
      ]
     },
     "execution_count": 7,
     "metadata": {},
     "output_type": "execute_result"
    }
   ],
   "source": [
    "sample"
   ]
  },
  {
   "cell_type": "code",
   "execution_count": 8,
   "metadata": {},
   "outputs": [
    {
     "data": {
      "text/plain": [
       "array([ 1. ,  4. ,  6. ,  7. , 12. , 27. , 28. , 29.5, 30. , 31.9, 32. ,\n",
       "       39. , 39.1, 39.2, 39.3, 39.4, 40. , 41. , 42. , 50. ])"
      ]
     },
     "execution_count": 8,
     "metadata": {},
     "output_type": "execute_result"
    }
   ],
   "source": [
    "variants"
   ]
  },
  {
   "cell_type": "markdown",
   "metadata": {},
   "source": [
    "<i>Шаг 4.</i>\n",
    "\n",
    "Опишите вашу выборку: объем, экстремальные статистики, медиана, мода, размах, среднее, дисперсия, эксцесс и асимметрия. Сравните с результатами калькуляции функциями из пакета Stats https://docs.scipy.org/doc/scipy/reference/stats.html"
   ]
  },
  {
   "cell_type": "code",
   "execution_count": 9,
   "metadata": {},
   "outputs": [],
   "source": [
    "from collections import Counter\n",
    "from collections import OrderedDict\n",
    "\n",
    "counter = Counter(sample)\n",
    "oredered = OrderedDict(sorted(counter.items(), key = lambda t: t[0]))\n",
    "\n",
    "variants = oredered.keys()\n",
    "freq = oredered.values()"
   ]
  },
  {
   "cell_type": "code",
   "execution_count": 10,
   "metadata": {},
   "outputs": [],
   "source": [
    "def find_median(array):\n",
    "    middle = len(array) / 2.\n",
    "    if (middle % 1 == 0):\n",
    "        return (array[int(middle) + 1] + array[int(middle)]) / 2\n",
    "    else:\n",
    "        return array[int(middle)]"
   ]
  },
  {
   "cell_type": "code",
   "execution_count": 11,
   "metadata": {},
   "outputs": [
    {
     "name": "stdout",
     "output_type": "stream",
     "text": [
      "Объем выборки: 100\n",
      "Минимум, максимум: (1.0, 42.0)\n",
      "Среднее: 30.03499999999999\n",
      "Дисперсия: 134.22452020202022\n",
      "Размах: 41.0\n",
      "Ассиметрия: -1.2089634647716445\n",
      "Эксцесс: 0.254616710283706\n",
      "II момент: 132.88227500000002\n",
      "III момент: -1851.8839117499954\n",
      "IV момент: 57469.04226042305\n",
      "Медиана: 34.55\n",
      "Мода: [39.1]\n"
     ]
    }
   ],
   "source": [
    "print('Объем выборки:', len(sample))\n",
    "print('Минимум, максимум:', (min(sample), max(sample)))\n",
    "\n",
    "avg = sum(sample) / size\n",
    "\n",
    "def moment(n, length = size, array = sample):\n",
    "    return np.sum(list(map(lambda x: (x - avg) ** n, array))) / length\n",
    "\n",
    "print('Среднее:', avg)\n",
    "print('Дисперсия:', moment(2, length = size - 1))\n",
    "print('Размах:', max(sample) - min(sample))\n",
    "\n",
    "print('Ассиметрия:', moment(3) / moment(2) ** (3 / 2))\n",
    "print('Эксцесс:', moment(4) / (moment(2) ** 2) - 3)\n",
    "\n",
    "print('II момент:', moment(2))\n",
    "print('III момент:', moment(3))\n",
    "print('IV момент:', moment(4))\n",
    "\n",
    "print('Медиана:', find_median(list(sample)))\n",
    "print('Мода:', multimode(list(sample)))"
   ]
  },
  {
   "cell_type": "markdown",
   "metadata": {},
   "source": [
    "Получаем значения через функции из пакета Stats"
   ]
  },
  {
   "cell_type": "code",
   "execution_count": 12,
   "metadata": {},
   "outputs": [
    {
     "name": "stdout",
     "output_type": "stream",
     "text": [
      "Объем выборки: 100\n",
      "Минимум, максимум: (1.0, 42.0)\n",
      "Среднее: 30.035\n",
      "Дисперсия: 134.22452020202027\n",
      "Ассиметрия: -1.208963464771647\n",
      "Эксцесс: 0.25461671028370914\n",
      "II момент: 132.88227500000005\n",
      "III момент: -1851.8839117499997\n",
      "IV момент: 57469.04226042313\n",
      "Мода: 39.1 количество: 24\n"
     ]
    }
   ],
   "source": [
    "obj = sps.describe(sample)\n",
    "\n",
    "print('Объем выборки:', obj.nobs)\n",
    "print('Минимум, максимум:', obj.minmax)\n",
    "print('Среднее:', obj.mean)\n",
    "print('Дисперсия:', obj.variance)\n",
    "\n",
    "print('Ассиметрия:', obj.skewness)\n",
    "print('Эксцесс:', obj.kurtosis)\n",
    "\n",
    "print('II момент:', sps.moment(sample, moment = 2))\n",
    "print('III момент:', sps.moment(sample, moment = 3))\n",
    "print('IV момент:', sps.moment(sample, moment = 4))\n",
    "\n",
    "mode = sps.mode(sample, keepdims = False)\n",
    "\n",
    "print(f'Мода: {mode.mode} количество: {mode.count}')"
   ]
  },
  {
   "cell_type": "markdown",
   "metadata": {},
   "source": [
    "Как мы видим, все характеристики совпадают"
   ]
  },
  {
   "cell_type": "markdown",
   "metadata": {},
   "source": [
    "<i>Шаг 5.</i>\n",
    "\n",
    "Создайте полигон частот и гистограмму для каждой выборки\n"
   ]
  },
  {
   "cell_type": "markdown",
   "metadata": {},
   "source": [
    "Список количества каждой случайной величины в выборке"
   ]
  },
  {
   "cell_type": "code",
   "execution_count": 13,
   "metadata": {},
   "outputs": [
    {
     "data": {
      "text/plain": [
       "Counter({39.1: 24,\n",
       "         32.0: 12,\n",
       "         27.0: 9,\n",
       "         30.0: 9,\n",
       "         39.0: 7,\n",
       "         7.0: 7,\n",
       "         42.0: 6,\n",
       "         31.9: 5,\n",
       "         28.0: 4,\n",
       "         39.4: 3,\n",
       "         4.0: 3,\n",
       "         6.0: 3,\n",
       "         12.0: 3,\n",
       "         39.2: 2,\n",
       "         29.5: 2,\n",
       "         1.0: 1})"
      ]
     },
     "execution_count": 13,
     "metadata": {},
     "output_type": "execute_result"
    }
   ],
   "source": [
    "counter"
   ]
  },
  {
   "cell_type": "code",
   "execution_count": 14,
   "metadata": {},
   "outputs": [
    {
     "data": {
      "image/png": "[encoded data removed]",
      "text/plain": [
       "<Figure size 640x480 with 1 Axes>"
      ]
     },
     "metadata": {},
     "output_type": "display_data"
    }
   ],
   "source": [
    "plt.figure()\n",
    "plt.plot(variants, freq, color = 'blue', lw = 3, label = 'полигон частот')\n",
    "plt.hist(sample, 3 * size, color = 'red', label = 'гистограмма')\n",
    "plt.legend()\n",
    "\n",
    "plt.xlabel('Случайные величины')\n",
    "plt.ylabel('Частота')\n",
    "\n",
    "plt.show()"
   ]
  },
  {
   "cell_type": "markdown",
   "metadata": {},
   "source": [
    "**Задача.** Получение и визуализация выборки заданного <i><u>непрерывного</u></i> распределения."
   ]
  },
  {
   "cell_type": "markdown",
   "metadata": {},
   "source": [
    "<i>Шаг 1.</i> \n",
    "\n",
    "Из списка непрерывных случйных величин выберите с номером $N$. "
   ]
  },
  {
   "cell_type": "code",
   "execution_count": 15,
   "metadata": {
    "scrolled": true
   },
   "outputs": [
    {
     "name": "stdout",
     "output_type": "stream",
     "text": [
      "Номер в группе 14, X распределен по закону N(2, 5)\n"
     ]
    }
   ],
   "source": [
    "μ = 2\n",
    "σ_square = 5\n",
    "\n",
    "print(f'Номер в группе {N}, X распределен по закону N({μ}, {σ_square})')"
   ]
  },
  {
   "cell_type": "markdown",
   "metadata": {},
   "source": [
    "<i>Шаг 2.</i>\n",
    "\n",
    "Для данных случайных величин, создайте функцию распределения вашей случайной величины (если необходимо)."
   ]
  },
  {
   "cell_type": "code",
   "execution_count": 16,
   "metadata": {},
   "outputs": [
    {
     "name": "stdout",
     "output_type": "stream",
     "text": [
      "Первые 12 значений выборки:\n",
      " [ 2.05416759  5.05358803  1.40445285 -3.09100995  1.27369291 -1.54830246\n",
      "  3.2161073   1.52380515  1.84553968  1.44641237  1.12232198 -0.28053103]\n"
     ]
    }
   ],
   "source": [
    "normal = sps.norm.rvs(size = size, loc = μ, scale = np.sqrt(σ_square))\n",
    "show_count = 12\n",
    "\n",
    "print(f'Первые {show_count} значений выборки:\\n', normal[:show_count])"
   ]
  },
  {
   "cell_type": "markdown",
   "metadata": {},
   "source": [
    "<i>Шаг 3.</i>\n",
    "\n",
    "Создайте выборку длины 100 для вашей случайной величины. Напечатайте массив частот и массив вариант"
   ]
  },
  {
   "cell_type": "code",
   "execution_count": 17,
   "metadata": {
    "scrolled": true
   },
   "outputs": [
    {
     "name": "stdout",
     "output_type": "stream",
     "text": [
      "Массив вариант: \n",
      "odict_keys([-3.2674001162539934, -3.0910099544975127, -2.4463823434712264, -2.0322049997677816, -1.9097957974823347, -1.6242337875922939, -1.5483024608502705, -1.23728108906618, -1.227306915649042, -1.2226765867047806, -1.1784140462814792, -1.15821389832176, -0.9453863216811689, -0.7809422851219106, -0.6218147927448308, -0.4128637902310599, -0.35688741241424715, -0.2805310282714868, -0.17778921109436663, -0.125423873596481, 0.09337521589974629, 0.33011355138450793, 0.34692279592228337, 0.43875453067056935, 0.4575147599730387, 0.6898729680581865, 0.8334936018258396, 0.91041192180828, 1.0199739948603055, 1.1223219809025724, 1.1778671705602735, 1.2736929060158118, 1.2919868710227478, 1.4044528493440485, 1.44641237281475, 1.5180056404132, 1.523805152745861, 1.6137106720762393, 1.6458815459211644, 1.688112871239292, 1.7773956528656025, 1.8455396817976826, 1.8538913933248435, 1.8779269384180834, 1.8958582723926867, 1.9312194699487868, 2.0541675888261772, 2.0868496292866237, 2.1678174274218414, 2.1934508442353513, 2.2141702029960277, 2.223166957945331, 2.238832484131478, 2.2693575225191807, 2.2843082063036473, 2.3160238231534467, 2.322013648727039, 2.343907958629613, 2.465053578862004, 2.531261012957005, 2.5527429285886236, 2.658249260613454, 2.709249903325254, 2.715570671367307, 2.809000717368726, 2.8130867487163167, 2.8368633672754684, 2.8916264582194344, 3.06689111982985, 3.072619536379622, 3.0729441842492005, 3.135786966577857, 3.14200218361865, 3.1582577954604485, 3.194189497018793, 3.199928192602146, 3.216107301511401, 3.220941271831917, 3.2855021745032933, 3.320485099495368, 3.4801056424331467, 3.4802984936905137, 3.7349075897095245, 3.778050337230332, 3.7939604458944562, 3.8651721040046745, 3.875076340179976, 3.932951796217613, 3.9378547825409256, 3.999449082066993, 4.132704324085798, 4.239249968361548, 4.306694695069689, 5.053588028340227, 5.4003923250891575, 6.047371515482784, 6.11906778465969, 6.510842061488076, 7.006723663125628, 7.403377624203818]) \n",
      "\n",
      " Массив частот: \n",
      "odict_values([1, 1, 1, 1, 1, 1, 1, 1, 1, 1, 1, 1, 1, 1, 1, 1, 1, 1, 1, 1, 1, 1, 1, 1, 1, 1, 1, 1, 1, 1, 1, 1, 1, 1, 1, 1, 1, 1, 1, 1, 1, 1, 1, 1, 1, 1, 1, 1, 1, 1, 1, 1, 1, 1, 1, 1, 1, 1, 1, 1, 1, 1, 1, 1, 1, 1, 1, 1, 1, 1, 1, 1, 1, 1, 1, 1, 1, 1, 1, 1, 1, 1, 1, 1, 1, 1, 1, 1, 1, 1, 1, 1, 1, 1, 1, 1, 1, 1, 1, 1])\n"
     ]
    }
   ],
   "source": [
    "counter = Counter(normal)\n",
    "oredered = OrderedDict(sorted(counter.items(), key = lambda t: t[0]))\n",
    "\n",
    "variants = oredered.keys()\n",
    "freq = oredered.values()\n",
    "\n",
    "print(f'Массив вариант: \\n{variants}', '\\n\\n' , f'Массив частот: \\n{freq}')"
   ]
  },
  {
   "cell_type": "markdown",
   "metadata": {},
   "source": [
    "<i>Шаг 4.</i>\n",
    "\n",
    "Опишите вашу выборку: объем, экстремальные статистики, медиана, мода, размах, среднее, дисперсия, эксцесс и асимметрия. Сравните с результатами калькуляции функциями из пакета Stats https://docs.scipy.org/doc/scipy/reference/stats.html"
   ]
  },
  {
   "cell_type": "code",
   "execution_count": 18,
   "metadata": {
    "scrolled": false
   },
   "outputs": [
    {
     "name": "stdout",
     "output_type": "stream",
     "text": [
      "Объем выборки: 100\n",
      "Минимум, максимум: (-3.2674001162539934, 7.403377624203818)\n",
      "Среднее: 1.9224391893953479\n",
      "Дисперсия: 4.568007385595462\n",
      "Размах: 10.670777740457812\n",
      "Ассиметрия: -0.10895440817308612\n",
      "Эксцесс: 0.12265364882048013\n",
      "II момент: 4.522327311739507\n",
      "III момент: -1.0478226789109542\n",
      "IV момент: 63.86277721233813\n",
      "Медиана: 2.0236711187800975\n",
      "Мода (ограничение на 3 значения): [2.0541675888261772, 5.053588028340227, 1.4044528493440485]\n"
     ]
    }
   ],
   "source": [
    "print('Объем выборки:', len(normal))\n",
    "print('Минимум, максимум:', (min(normal), max(normal)))\n",
    "\n",
    "avg = sum(normal) / size\n",
    "\n",
    "print('Среднее:', avg)\n",
    "print('Дисперсия:', moment(2, length = size - 1, array = normal))\n",
    "print('Размах:', max(normal) - min(normal))\n",
    "\n",
    "print('Ассиметрия:', moment(3, array = normal) / moment(2, array = normal) ** (3 / 2))\n",
    "print('Эксцесс:', moment(4, array = normal) / (moment(2, array = normal) ** 2) - 3)\n",
    "\n",
    "print('II момент:', moment(2, array = normal))\n",
    "print('III момент:', moment(3, array = normal))\n",
    "print('IV момент:', moment(4, array = normal))\n",
    "\n",
    "print('Медиана:', find_median(list(normal)))\n",
    "print('Мода (ограничение на 3 значения):', multimode(list(normal))[:3])"
   ]
  },
  {
   "cell_type": "markdown",
   "metadata": {},
   "source": [
    "Получаем значения через функции из пакета Stats"
   ]
  },
  {
   "cell_type": "code",
   "execution_count": 19,
   "metadata": {},
   "outputs": [
    {
     "name": "stdout",
     "output_type": "stream",
     "text": [
      "Объем выборки: 100\n",
      "Минимум, максимум: (-3.2674001162539934, 7.403377624203818)\n",
      "Среднее: 1.922439189395347\n",
      "Дисперсия: 4.568007385595463\n",
      "Ассиметрия: -0.10895440817308476\n",
      "Эксцесс: 0.1226536488204788\n",
      "II момент: 4.522327311739508\n",
      "III момент: -1.0478226789109413\n",
      "IV момент: 63.86277721233813\n",
      "Мода: -3.2674001162539934 количество: 1\n"
     ]
    }
   ],
   "source": [
    "obj = sps.describe(normal)\n",
    "\n",
    "print('Объем выборки:', obj.nobs)\n",
    "print('Минимум, максимум:', obj.minmax)\n",
    "print('Среднее:', obj.mean)\n",
    "print('Дисперсия:', obj.variance)\n",
    "\n",
    "print('Ассиметрия:', obj.skewness)\n",
    "print('Эксцесс:', obj.kurtosis)\n",
    "\n",
    "print('II момент:', sps.moment(normal, moment = 2))\n",
    "print('III момент:', sps.moment(normal, moment = 3))\n",
    "print('IV момент:', sps.moment(normal, moment = 4))\n",
    "\n",
    "mode = sps.mode(normal, keepdims = False)\n",
    "\n",
    "print(f'Мода: {mode.mode} количество: {mode.count}')"
   ]
  },
  {
   "cell_type": "markdown",
   "metadata": {},
   "source": [
    "Как мы видим, все характеристики совпадают"
   ]
  },
  {
   "cell_type": "markdown",
   "metadata": {},
   "source": [
    "<i>Шаг 5.</i>\n",
    "\n",
    "Создайте полигон частот и гистограмму для каждой выборки\n"
   ]
  },
  {
   "cell_type": "markdown",
   "metadata": {},
   "source": [
    "Список количества каждой случайной величины в выборке"
   ]
  },
  {
   "cell_type": "code",
   "execution_count": 20,
   "metadata": {},
   "outputs": [
    {
     "data": {
      "text/plain": [
       "Counter({2.0541675888261772: 1,\n",
       "         5.053588028340227: 1,\n",
       "         1.4044528493440485: 1,\n",
       "         -3.0910099544975127: 1,\n",
       "         1.2736929060158118: 1,\n",
       "         -1.5483024608502705: 1,\n",
       "         3.216107301511401: 1,\n",
       "         1.523805152745861: 1,\n",
       "         1.8455396817976826: 1,\n",
       "         1.44641237281475: 1,\n",
       "         1.1223219809025724: 1,\n",
       "         -0.2805310282714868: 1,\n",
       "         3.1582577954604485: 1,\n",
       "         3.999449082066993: 1,\n",
       "         2.715570671367307: 1,\n",
       "         0.4575147599730387: 1,\n",
       "         -1.1784140462814792: 1,\n",
       "         2.2843082063036473: 1,\n",
       "         4.132704324085798: 1,\n",
       "         1.9312194699487868: 1,\n",
       "         1.1778671705602735: 1,\n",
       "         2.809000717368726: 1,\n",
       "         0.8334936018258396: 1,\n",
       "         4.239249968361548: 1,\n",
       "         2.5527429285886236: 1,\n",
       "         0.91041192180828: 1,\n",
       "         3.4802984936905137: 1,\n",
       "         0.09337521589974629: 1,\n",
       "         0.43875453067056935: 1,\n",
       "         2.8130867487163167: 1,\n",
       "         2.223166957945331: 1,\n",
       "         1.8958582723926867: 1,\n",
       "         3.072619536379622: 1,\n",
       "         2.531261012957005: 1,\n",
       "         -2.0322049997677816: 1,\n",
       "         3.778050337230332: 1,\n",
       "         2.658249260613454: 1,\n",
       "         -1.15821389832176: 1,\n",
       "         6.047371515482784: 1,\n",
       "         1.6137106720762393: 1,\n",
       "         -2.4463823434712264: 1,\n",
       "         -1.9097957974823347: 1,\n",
       "         1.688112871239292: 1,\n",
       "         2.8368633672754684: 1,\n",
       "         2.465053578862004: 1,\n",
       "         1.8779269384180834: 1,\n",
       "         2.3160238231534467: 1,\n",
       "         1.0199739948603055: 1,\n",
       "         -0.125423873596481: 1,\n",
       "         1.7773956528656025: 1,\n",
       "         1.8538913933248435: 1,\n",
       "         2.1934508442353513: 1,\n",
       "         3.194189497018793: 1,\n",
       "         -0.7809422851219106: 1,\n",
       "         3.320485099495368: 1,\n",
       "         3.875076340179976: 1,\n",
       "         3.9378547825409256: 1,\n",
       "         7.006723663125628: 1,\n",
       "         5.4003923250891575: 1,\n",
       "         1.2919868710227478: 1,\n",
       "         3.220941271831917: 1,\n",
       "         6.11906778465969: 1,\n",
       "         2.238832484131478: 1,\n",
       "         2.2141702029960277: 1,\n",
       "         2.1678174274218414: 1,\n",
       "         2.8916264582194344: 1,\n",
       "         7.403377624203818: 1,\n",
       "         -1.2226765867047806: 1,\n",
       "         0.34692279592228337: 1,\n",
       "         3.4801056424331467: 1,\n",
       "         3.932951796217613: 1,\n",
       "         2.322013648727039: 1,\n",
       "         -1.23728108906618: 1,\n",
       "         1.6458815459211644: 1,\n",
       "         -0.17778921109436663: 1,\n",
       "         3.14200218361865: 1,\n",
       "         3.06689111982985: 1,\n",
       "         3.2855021745032933: 1,\n",
       "         3.8651721040046745: 1,\n",
       "         3.0729441842492005: 1,\n",
       "         4.306694695069689: 1,\n",
       "         -3.2674001162539934: 1,\n",
       "         2.709249903325254: 1,\n",
       "         6.510842061488076: 1,\n",
       "         2.2693575225191807: 1,\n",
       "         2.0868496292866237: 1,\n",
       "         0.6898729680581865: 1,\n",
       "         -0.6218147927448308: 1,\n",
       "         1.5180056404132: 1,\n",
       "         -0.35688741241424715: 1,\n",
       "         0.33011355138450793: 1,\n",
       "         -1.227306915649042: 1,\n",
       "         -0.4128637902310599: 1,\n",
       "         3.199928192602146: 1,\n",
       "         3.7939604458944562: 1,\n",
       "         2.343907958629613: 1,\n",
       "         3.7349075897095245: 1,\n",
       "         -1.6242337875922939: 1,\n",
       "         -0.9453863216811689: 1,\n",
       "         3.135786966577857: 1})"
      ]
     },
     "execution_count": 20,
     "metadata": {},
     "output_type": "execute_result"
    }
   ],
   "source": [
    "counter"
   ]
  },
  {
   "cell_type": "code",
   "execution_count": 21,
   "metadata": {
    "scrolled": true
   },
   "outputs": [
    {
     "data": {
      "image/png": "[encoded data removed]",
      "text/plain": [
       "<Figure size 640x480 with 1 Axes>"
      ]
     },
     "metadata": {},
     "output_type": "display_data"
    }
   ],
   "source": [
    "plt.figure()\n",
    "plt.plot(variants, freq, color = 'blue', lw = 3, label = 'полигон частот')\n",
    "plt.hist(normal, 10, color = 'yellow', label = 'гистограмма')\n",
    "plt.legend()\n",
    "plt.show()"
   ]
  }
 ],
 "metadata": {
  "kernelspec": {
   "display_name": "Python 3 (ipykernel)",
   "language": "python",
   "name": "python3"
  },
  "language_info": {
   "codemirror_mode": {
    "name": "ipython",
    "version": 3
   },
   "file_extension": ".py",
   "mimetype": "text/x-python",
   "name": "python",
   "nbconvert_exporter": "python",
   "pygments_lexer": "ipython3",
   "version": "3.11.3"
  }
 },
 "nbformat": 4,
 "nbformat_minor": 2
}
