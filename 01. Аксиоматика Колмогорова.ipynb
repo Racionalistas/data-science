{
 "cells": [
  {
   "cell_type": "markdown",
   "id": "0c481241",
   "metadata": {},
   "source": [
    "# Аксиоматика Колмогорова"
   ]
  },
  {
   "cell_type": "markdown",
   "id": "da41fdb0",
   "metadata": {},
   "source": [
    "Элементарная теория вероятностей — теория вероятностей с конечным количеством вероятностных событий.\n",
    "\n",
    "Ω — множество элементов (элементарные случайные события)\\\n",
    "F — множество подмножеств Ω (случайные события)\\\n",
    "P(x) — вероятность события x ∈ F\\\n",
    "\\\n",
    "\\\n",
    "<strong>Аксиома I (алгебра событий)</strong>\\\n",
    "F является алгеброй событий\n",
    "\n",
    "<strong>Аксиома II (существование вероятности событий)</strong>\\\n",
    "P(x) ≥ 0\n",
    "\n",
    "<strong>Аксиома III (нормировка вероятности)</strong>\\\n",
    "P(Ω) = 1\n",
    "\n",
    "<strong>Аксиома IV (аддитивность вероятности)</strong>\\\n",
    "Если события x, y не пересекаются, то P(x + y) = P(x) + P(y)\\\n",
    "\\\n",
    "\\\n",
    "Набор объектов (Ω, F, P) соблюдающий эти аксиомы это вероятностное пространство"
   ]
  }
 ],
 "metadata": {
  "kernelspec": {
   "display_name": "Python 3 (ipykernel)",
   "language": "python",
   "name": "python3"
  },
  "language_info": {
   "codemirror_mode": {
    "name": "ipython",
    "version": 3
   },
   "file_extension": ".py",
   "mimetype": "text/x-python",
   "name": "python",
   "nbconvert_exporter": "python",
   "pygments_lexer": "ipython3",
   "version": "3.8.2"
  }
 },
 "nbformat": 4,
 "nbformat_minor": 5
}
