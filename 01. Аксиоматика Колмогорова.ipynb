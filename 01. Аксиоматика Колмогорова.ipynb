{
 "cells": [
  {
   "cell_type": "markdown",
   "id": "0c481241",
   "metadata": {},
   "source": [
    "# Аксиоматика Колмогорова"
   ]
  },
  {
   "cell_type": "markdown",
   "id": "72882a68",
   "metadata": {},
   "source": [
    "Элементарная теория вероятностей — та часть теории вероятностей, в которой приходится иметь дело с вероятностями лишь конечного числа событий. \n",
    "\n",
    "Ω — множество элементов (элементарные случайные события)<br>\n",
    "F — множество подмножеств Ω (случайные события)<br>\n",
    "P(x) — вероятность события x ∈ F<br>\n",
    "<br>\n",
    "1. <strong>Аксиома I (алгебра событий)</strong><br>\n",
    "F является алгеброй событий\n",
    "\n",
    "2. <strong>Аксиома II (существование вероятности событий)</strong><br>\n",
    "P(x) ≥ 0\n",
    "\n",
    "3. <strong>Аксиома III (нормировка вероятности)</strong><br>\n",
    "P(Ω) = 1\n",
    "\n",
    "4. <strong>Аксиома IV (аддитивность вероятности)</strong><br>\n",
    "Если события x, y не пересекаются, то P(x + y) = P(x) + P(y)\n",
    "<br>\n",
    "\n",
    "Набор объектов (Ω, F, P) соблюдающий эти аксиомам это вероятностное пространство"
   ]
  }
 ],
 "metadata": {
  "kernelspec": {
   "display_name": "Python 3 (ipykernel)",
   "language": "python",
   "name": "python3"
  },
  "language_info": {
   "codemirror_mode": {
    "name": "ipython",
    "version": 3
   },
   "file_extension": ".py",
   "mimetype": "text/x-python",
   "name": "python",
   "nbconvert_exporter": "python",
   "pygments_lexer": "ipython3",
   "version": "3.8.2"
  }
 },
 "nbformat": 4,
 "nbformat_minor": 5
}
