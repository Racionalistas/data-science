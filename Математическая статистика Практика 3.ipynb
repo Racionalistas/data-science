{
 "cells": [
  {
   "cell_type": "markdown",
   "metadata": {},
   "source": [
    "# Математическая статистика\n",
    "## Практикум 3\n",
    "\n",
    "\n",
    "**Правила:**\n",
    "\n",
    "* Дедлайн ** 15 июня 2023 в 24:00**. После дедлайна работы не принимаются, кроме случаев наличия уважительной причины.\n",
    "* Выполненную работу нужно отправить на почту markasheva.va@gmail.ru, указав тему письма `\"Практикум 3[номер группы] Фамилия Имя\"`. Квадратные скобки обязательны.\n",
    "* Прислать нужно ноутбук и его pdf-версию (без архивов). Названия файлов должны быть такими: `N.ipynb` и `N.pdf`, где `N` - ваш  номер в журнале группы и ФИО(нумерация начинается с 01,02,03... и т.д.)\n",
    "* Решения, размещенные на каких-либо интернет-ресурсах не принимаются. Кроме того, публикация решения в открытом доступе может быть приравнена к предоставлению возможности списать.\n",
    "* Для выполнения задания используйте этот ноутбук в качествие основы, ничего не удаляя из него.\n",
    "* Никакой код из данного задания при проверке запускаться не будет.\n",
    "\n",
    "*НЕЛЬЗЯ ИСПОЛЬЗОВАТЬ ЦИКЛЫ, кроме самых отчаянных ситуаций.\n",
    "\n",
    "### Номер ВАШЕГО ВАРИАНТА есть номер вашей фамилии в списке группы. В дальнейшем будем обозначать его $N$\n",
    "\n"
   ]
  },
  {
   "cell_type": "code",
   "execution_count": 52,
   "metadata": {},
   "outputs": [],
   "source": [
    "import numpy as np\n",
    "import scipy.stats as sps\n",
    "import ipywidgets as widgets\n",
    "import matplotlib.pyplot as plt\n",
    "from tqdm.notebook import tqdm\n",
    "\n",
    "%matplotlib inline\n",
    "import pandas as pd"
   ]
  },
  {
   "cell_type": "markdown",
   "metadata": {},
   "source": [
    "**Задача 1**  \n",
    "Пусть $x_1,\\ldots,x_n$ — реализация из модели сдвига показательного закона\n",
    "\tс плотностью распределения \n",
    "\t$$\n",
    "\t\tf_\\theta(u) = e^{-\\lambda(u-\\theta)}\\cdot I_{\\{u\\geq\\theta\\}} \n",
    "\t\t= \n",
    "\t\t\\begin{cases}\n",
    "\t\t \te^{-\\lambda(u-\\theta)}, & u\\geq\\theta,\\\\\n",
    "\t\t\t0, & u<\\theta.\n",
    "\t\t\\end{cases}\n",
    "\t$$\t\n",
    "Оценить $\\theta$ с помощью метода моментов и метода максимального правдоподобия. Реализуйте эту задачу в Python:\n",
    "\n",
    "* сгенерируйте $\\theta$ из равномерного распределения на  $[1,N+1]$ и возьмите $\\lambda=|N-10|/N$, где `N` - ваш  номер в журнале группы и ФИО(нумерация начинается с 01,02,03... и т.д.)\n",
    "* сгенерируйте выборку из распределения с плотностью $f_\\theta(u)$ размера  $n=1\\,0000$; \n",
    "* постройте алгоритм нахождения оценки методом моментов и методом правдоподобия (мы такой пример решали на занятии), а потом найдите значения оценок метода моментов и метода максимального правдоподобия, которые генерируются автоматически Питоном."
   ]
  },
  {
   "cell_type": "code",
   "execution_count": 39,
   "metadata": {},
   "outputs": [],
   "source": [
    "np.random.seed(100) # зафиксируем seed"
   ]
  },
  {
   "cell_type": "markdown",
   "metadata": {},
   "source": [
    "### Seed"
   ]
  },
  {
   "cell_type": "markdown",
   "metadata": {},
   "source": [
    "Для того, чтобы каждый раз при использовании генератора псевдослучайных чисел получать идентичные последовательности, используется функция set.seed (от set - задать, установить, и seed - начальное число). Как следует из названия, эта функция фиксирует число, служащее начальной точкой для запуска алгоритма генерации псевдослучайных чисел. В качестве аргумента функции указывают любое целое число (не важно, какое именно). \n"
   ]
  },
  {
   "cell_type": "markdown",
   "metadata": {},
   "source": [
    "* **np.random.seed(<число>)** —\n",
    "настраивает генератор случайных чисел на новую последовательность. Если данная функция в программе не вызывается, по умолчанию используется системное время. "
   ]
  },
  {
   "cell_type": "markdown",
   "metadata": {},
   "source": [
    "В качестве примера приведем еще фукции для распределений, которые мы упоминали в курсе по теории вероятностей:\n",
    "* **np.random.binomial(n, p[, size])** — биномиальное распределение  \n",
    "* **np.random.exponential([scale, size])** — экспоненциальное распределение  \n",
    "* **np.random.poisson([lam, size])** — распределение Пуассона  \n",
    "* **np.random.standard_cauchy([size])** — распределение Коши  "
   ]
  },
  {
   "cell_type": "markdown",
   "metadata": {},
   "source": [
    "Обратите внимание на то, что в np.random.exponential параметр scale = 1/$\\lambda$."
   ]
  },
  {
   "cell_type": "code",
   "execution_count": 40,
   "metadata": {},
   "outputs": [
    {
     "data": {
      "text/plain": [
       "(14, 0.2857142857142857)"
      ]
     },
     "execution_count": 40,
     "metadata": {},
     "output_type": "execute_result"
    }
   ],
   "source": [
    "N = 14 # номер варианта\n",
    "𝜆 = np.abs(N - 10) / N\n",
    "\n",
    "N, 𝜆"
   ]
  },
  {
   "cell_type": "code",
   "execution_count": 41,
   "metadata": {},
   "outputs": [],
   "source": [
    "n = 10000 # размер выборки\n",
    "scale = 1 / 𝜆 # параметр показательного распределения (scale)\n",
    "drift = np.random.uniform(1, N + 1) # а это сдвиг, который нам неизвестен и который мы будем оценивать"
   ]
  },
  {
   "cell_type": "code",
   "execution_count": 42,
   "metadata": {},
   "outputs": [],
   "source": [
    "sample = drift + np.random.exponential(scale, size = n) # генерируем выборку размера n"
   ]
  },
  {
   "cell_type": "code",
   "execution_count": 43,
   "metadata": {},
   "outputs": [],
   "source": [
    "esimate_mme = np.mean(sample) - scale  # оценка метода моментов\n",
    "esimate_mle = np.min(sample) # оценка метода максимального правдоподобия"
   ]
  },
  {
   "cell_type": "code",
   "execution_count": 44,
   "metadata": {},
   "outputs": [
    {
     "name": "stdout",
     "output_type": "stream",
     "text": [
      "Истинное значение параметра:  8.607669185073515\n",
      "Оценка метода моментов:  8.59730674766141\n",
      "Оценка метода максимального правдоподобия:  8.607720350439438\n"
     ]
    }
   ],
   "source": [
    "print(\"Истинное значение параметра: \", drift)\n",
    "print(\"Оценка метода моментов: \", esimate_mme)\n",
    "print(\"Оценка метода максимального правдоподобия: \", esimate_mle)"
   ]
  },
  {
   "cell_type": "markdown",
   "metadata": {},
   "source": [
    "**Задача 2**  \n",
    "Мы нашли точечные оценки методом моментов и методом правдоподобия, теперь надо оценить используя соответствующий параметрическому случаю критерий согласия, согласуется ли полученные распределения с данной выборкой. Good-to-fit критерии или критерии согласия с простой гипотезой. Используйте любой критерий, который проверит является ли распределение экспоненциальным с заданным показателем. Научитесь подбирать подходящие критерии. Какие критерии бывают можно посмотреть в книжке Медведева, Ивченко."
   ]
  },
  {
   "cell_type": "markdown",
   "metadata": {},
   "source": [
    "**Задача 3** \n",
    "Сравнить на выборках размера 100 для $\\mathcal{N}(\\theta,4)$ доверительные интервалы:\n",
    "(1) теоретический, (2) на основе параметрического бутстрэпа, (3) на основе непараметрического бутстрэпа. Сам параметр $\\theta$ сгенерировать из равномерного распределения на $[-5,5]$. "
   ]
  },
  {
   "cell_type": "code",
   "execution_count": null,
   "metadata": {},
   "outputs": [],
   "source": [
    "# Фиксируем параметры задачи\n",
    "\n",
    "n = 100 # размер выборки \n",
    "alpha = ?? #уровень значимости\n",
    "\n",
    "theta = np.random.uniform(-5, 5) # неизвестное среднее нормального распределения\n",
    "sigma = ?? # известная sigma нормального распределения"
   ]
  },
  {
   "cell_type": "code",
   "execution_count": null,
   "metadata": {},
   "outputs": [],
   "source": [
    "# Сгенерируем выборку из нужного распределения\n",
    "sample = ??"
   ]
  },
  {
   "cell_type": "code",
   "execution_count": null,
   "metadata": {},
   "outputs": [],
   "source": [
    "print(\"Значение theta равно\", theta)"
   ]
  },
  {
   "cell_type": "markdown",
   "metadata": {},
   "source": [
    "### Теоретический доверительный интервал"
   ]
  },
  {
   "cell_type": "markdown",
   "metadata": {},
   "source": [
    "Напомним, что теоретический доверительный интервал вычисляется следующим образом: \n",
    "\n",
    "$$\n",
    "\\mathbb{P}\\left( \\bar{X} - \\frac{c_{1-\\alpha/2}\\sigma}{\\sqrt{n}} < \\mu < \\bar{X} + \\frac{c_{1-\\alpha/2}\\sigma}{\\sqrt{n}} \\right) = 1-\\alpha,\n",
    "$$\n",
    "где $c_{\\alpha}$ — квантиль распределения $\\mathcal{N}(0,1)$ уровня $\\alpha$."
   ]
  },
  {
   "cell_type": "markdown",
   "metadata": {},
   "source": [
    " Вычисляем теоретический доверительный интервал используя функции $stats.norm.ppf(1-alpha/2)$ для вычисления кваниля $c_{\\alpha}$.\n",
    "\n"
   ]
  },
  {
   "cell_type": "markdown",
   "metadata": {},
   "source": [
    "### Доверительный интервал на основе параметрического бутстрэпа"
   ]
  },
  {
   "cell_type": "code",
   "execution_count": 5,
   "metadata": {},
   "outputs": [],
   "source": [
    "# Параметры для бутстрэпа\n",
    "number_of_bootstrap_samples = 10 # количество бутстрэп-выборок\n",
    "size_of_bootstrap_samples = 20 # размер бутстрэп-выборок"
   ]
  },
  {
   "cell_type": "code",
   "execution_count": null,
   "metadata": {},
   "outputs": [],
   "source": [
    "# Оцениваем неизвестный параметр theta \n",
    "mean = np.mean(sample) "
   ]
  },
  {
   "cell_type": "code",
   "execution_count": null,
   "metadata": {},
   "outputs": [],
   "source": [
    "# Генерируем выборку из распределения N(sample_mean, sigma)\n",
    "bootstrap_samples = np.random.normal(mean,sigma,size = [number_of_bootstrap_samples,size_of_bootstrap_samples]) "
   ]
  },
  {
   "cell_type": "code",
   "execution_count": null,
   "metadata": {},
   "outputs": [],
   "source": [
    "# Считаем среднее для каждой выборки \n",
    "bootstrap_estimates = np.apply_along_axis(np.mean, 1, bootstrap_samples)"
   ]
  },
  {
   "cell_type": "code",
   "execution_count": null,
   "metadata": {},
   "outputs": [],
   "source": [
    "# Вычисляем параметрический бутстрэп доверительный интервал\n",
    "CI_Bootstrap_Parametric = [np.quantile(bootstrap_estimates,alpha / 2), np.quantile(bootstrap_estimates, 1 - alpha / 2)]"
   ]
  },
  {
   "cell_type": "markdown",
   "metadata": {},
   "source": [
    "### Доверительный интервал на основе непараметрического бутстрэпа"
   ]
  },
  {
   "cell_type": "code",
   "execution_count": null,
   "metadata": {},
   "outputs": [],
   "source": [
    "# Будем использовать те же параметры\n",
    "number_of_bootstrap_samples = 10 # количество бутстрэп-выборок\n",
    "size_of_bootstrap_samples = 20 # размер бутстрэп-выборок"
   ]
  },
  {
   "cell_type": "code",
   "execution_count": null,
   "metadata": {},
   "outputs": [],
   "source": [
    "# Генерируем выборку из распределения N(bootstrap_mean, sigma)\n",
    "bootstrap_samples = np.random.choice(sample,size = [number_of_bootstrap_samples,size_of_bootstrap_samples]) "
   ]
  },
  {
   "cell_type": "code",
   "execution_count": null,
   "metadata": {},
   "outputs": [],
   "source": [
    "# Считаем среднее для каждой выборки \n",
    "bootstrap_estimates = np.apply_along_axis(np.mean, 1, bootstrap_samples)"
   ]
  },
  {
   "cell_type": "code",
   "execution_count": null,
   "metadata": {},
   "outputs": [],
   "source": [
    "# Вычисляем непараметрический бутстрэп доверительный интервал\n",
    "CI_Bootstrap_Nonparametric = [np.quantile(bootstrap_estimates,alpha / 2), np.quantile(bootstrap_estimates, 1 - alpha / 2)]"
   ]
  },
  {
   "cell_type": "code",
   "execution_count": 6,
   "metadata": {},
   "outputs": [],
   "source": [
    "### Сделайте выводы: как сравнить полученные доверительные интервалы? как сравнить методы? какие лучше и почему?"
   ]
  }
 ],
 "metadata": {
  "kernelspec": {
   "display_name": "Python 3 (ipykernel)",
   "language": "python",
   "name": "python3"
  },
  "language_info": {
   "codemirror_mode": {
    "name": "ipython",
    "version": 3
   },
   "file_extension": ".py",
   "mimetype": "text/x-python",
   "name": "python",
   "nbconvert_exporter": "python",
   "pygments_lexer": "ipython3",
   "version": "3.8.2"
  }
 },
 "nbformat": 4,
 "nbformat_minor": 2
}
