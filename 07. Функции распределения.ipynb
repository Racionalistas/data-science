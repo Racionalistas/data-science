{
 "cells": [
  {
   "cell_type": "markdown",
   "id": "cfea55c0",
   "metadata": {},
   "source": [
    "8. Виды распределений случайной величины. Функция распределения\n",
    "и ее свойства.\n",
    "9. Виды абсолютно непрерывных распределений случайной величины.\n",
    "Плотность распределения."
   ]
  }
 ],
 "metadata": {
  "kernelspec": {
   "display_name": "Python 3 (ipykernel)",
   "language": "python",
   "name": "python3"
  },
  "language_info": {
   "codemirror_mode": {
    "name": "ipython",
    "version": 3
   },
   "file_extension": ".py",
   "mimetype": "text/x-python",
   "name": "python",
   "nbconvert_exporter": "python",
   "pygments_lexer": "ipython3",
   "version": "3.8.2"
  }
 },
 "nbformat": 4,
 "nbformat_minor": 5
}
