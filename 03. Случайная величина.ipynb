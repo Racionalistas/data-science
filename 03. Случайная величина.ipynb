{
 "cells": [
  {
   "cell_type": "code",
   "execution_count": 1,
   "id": "876650aa",
   "metadata": {},
   "outputs": [
    {
     "ename": "SyntaxError",
     "evalue": "invalid syntax (3606086539.py, line 1)",
     "output_type": "error",
     "traceback": [
      "\u001b[1;36m  Cell \u001b[1;32mIn[1], line 1\u001b[1;36m\u001b[0m\n\u001b[1;33m    6. Случайная величина одномерная. Борелевская сигма-алгебра. Примеры. Распределение случайной величины.\u001b[0m\n\u001b[1;37m       ^\u001b[0m\n\u001b[1;31mSyntaxError\u001b[0m\u001b[1;31m:\u001b[0m invalid syntax\n"
     ]
    }
   ],
   "source": [
    "6. Случайная величина одномерная. Борелевская сигма-алгебра. Примеры. Распределение случайной величины.\n",
    "7. Случайная величина. Фильтрация сигма-алгебр. Измеримость.\n",
    "8. Виды распределений случайной величины. Функция распределения и ее свойства.\n",
    "9. Виды абсолютно непрерывных распределений случайной величины. Плотность распределения.\n",
    "15.Последовательность случайных величин. Виды сходимости случайных величин. Примеры.\n",
    "17. Характеристическая функция случайной величины. Ее свойства.\n",
    "18. Моменты случайной величины. Их свойства."
   ]
  },
  {
   "cell_type": "code",
   "execution_count": null,
   "id": "320ae7fc",
   "metadata": {},
   "outputs": [],
   "source": []
  }
 ],
 "metadata": {
  "kernelspec": {
   "display_name": "Python 3 (ipykernel)",
   "language": "python",
   "name": "python3"
  },
  "language_info": {
   "codemirror_mode": {
    "name": "ipython",
    "version": 3
   },
   "file_extension": ".py",
   "mimetype": "text/x-python",
   "name": "python",
   "nbconvert_exporter": "python",
   "pygments_lexer": "ipython3",
   "version": "3.8.2"
  }
 },
 "nbformat": 4,
 "nbformat_minor": 5
}
