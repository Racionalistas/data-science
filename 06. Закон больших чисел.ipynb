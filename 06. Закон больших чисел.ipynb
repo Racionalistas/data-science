{
 "cells": [
  {
   "cell_type": "markdown",
   "id": "349e0b4e",
   "metadata": {},
   "source": [
    "# Закон больших чисел"
   ]
  },
  {
   "cell_type": "markdown",
   "id": "5f169da4",
   "metadata": {},
   "source": [
    "Закон больших чисел (ЗБЧ) в теории вероятностей — принцип, описывающий результат выполнения одного и того же эксперимента много раз. Согласно закону, среднее значение конечной выборки из фиксированного распределения близко к математическому ожиданию этого распределения.\n",
    "\n",
    "1. Построить пару примеров из реальной жизни\n",
    "2. Теорема Колмогорова\n",
    "3. Слабый закон и усиленный закон, чем отличаются"
   ]
  },
  {
   "cell_type": "markdown",
   "id": "27e92d89",
   "metadata": {},
   "source": [
    "### Игральная кость "
   ]
  },
  {
   "cell_type": "code",
   "execution_count": 1,
   "id": "b14e8e53",
   "metadata": {},
   "outputs": [],
   "source": [
    "import random\n",
    "import matplotlib.pyplot as plt"
   ]
  },
  {
   "cell_type": "markdown",
   "id": "441d0c89",
   "metadata": {},
   "source": [
    "Функция для генерации случайных величин от 1 до 6, словно число на верхней грани упавшей игральной кости"
   ]
  },
  {
   "cell_type": "code",
   "execution_count": 2,
   "id": "71f91a4a",
   "metadata": {},
   "outputs": [],
   "source": [
    "X = [1, 2, 3, 4, 5, 6] # случайные величины\n",
    "\n",
    "def roll_dice():\n",
    "    return random.choice(X)"
   ]
  },
  {
   "cell_type": "code",
   "execution_count": 3,
   "id": "69bb5641",
   "metadata": {},
   "outputs": [],
   "source": [
    "results = [] # случайные величины\n",
    "cumulative_sum = [] # средние значения случайной величины\n",
    "num_rolls = 100_000 # количество подбрасываний игральной кости\n",
    "current_sum = 0 # переменная для хранения текущей суммы результатов подбрасываний"
   ]
  },
  {
   "cell_type": "code",
   "execution_count": 4,
   "id": "31bb3a98",
   "metadata": {},
   "outputs": [],
   "source": [
    "# подбрасываем кость num_rolls раз и записываем результаты в список\n",
    "for i in range(1, num_rolls + 1):\n",
    "    number = roll_dice()\n",
    "    current_sum += number\n",
    "    \n",
    "    results.append(number)\n",
    "    cumulative_sum.append(current_sum / i)\n",
    "\n",
    "# вычисляем среднее значение результатов подбрасываний\n",
    "mean = current_sum / len(results)"
   ]
  },
  {
   "cell_type": "markdown",
   "id": "71dbabc5",
   "metadata": {},
   "source": [
    "Математическое ожидание дискретной случайной величины - это сумма произведений случайных величин на их вероятность. \n",
    "\n",
    "Для игральной кости распределение случайных величин равномерное:\n",
    "\n",
    "| i индекс               |  0  |  1  |  2  |  3  |  4  |  5  |\n",
    "| ---------------------- | --- | --- | --- | --- | --- | --- |\n",
    "| Xi случайная величина  |  1  |  2  |  3  |  4  |  5  |  6  |\n",
    "| Pi вероятность         | 1/6 | 1/6 | 1/6 | 1/6 | 1/6 | 1/6 |"
   ]
  },
  {
   "cell_type": "code",
   "execution_count": 5,
   "id": "2d810e10",
   "metadata": {},
   "outputs": [],
   "source": [
    "P = [1 / len(X)] * len(X)\n",
    "M = sum(x * y for x, y in zip(X, P))"
   ]
  },
  {
   "cell_type": "code",
   "execution_count": 6,
   "id": "7e6e749b",
   "metadata": {},
   "outputs": [
    {
     "name": "stdout",
     "output_type": "stream",
     "text": [
      "Математическое ожидание:  3.5\n",
      "Среднее значение:  3.49673\n",
      "Разница с мат. ожиданием:  0.003270000000000106\n"
     ]
    }
   ],
   "source": [
    "print(\"Математическое ожидание: \", M)\n",
    "print(\"Среднее значение: \", mean)\n",
    "print(\"Разница с мат. ожиданием: \", M - mean)"
   ]
  },
  {
   "cell_type": "markdown",
   "id": "17d5cc99",
   "metadata": {},
   "source": [
    "Строим график и видим как среднее значение случайных величин стримится к мат. ожиданию"
   ]
  },
  {
   "cell_type": "code",
   "execution_count": 7,
   "id": "d5d5738c",
   "metadata": {},
   "outputs": [
    {
     "data": {
      "image/png": "[encoded data removed]",
      "text/plain": [
       "<Figure size 640x480 with 1 Axes>"
      ]
     },
     "metadata": {},
     "output_type": "display_data"
    }
   ],
   "source": [
    "plt.plot(cumulative_sum)\n",
    "plt.axhline(y = mean, color = 'r', linestyle = '-')\n",
    "plt.show()"
   ]
  }
 ],
 "metadata": {
  "celltoolbar": "Edit Metadata",
  "kernelspec": {
   "display_name": "Python 3 (ipykernel)",
   "language": "python",
   "name": "python3"
  },
  "language_info": {
   "codemirror_mode": {
    "name": "ipython",
    "version": 3
   },
   "file_extension": ".py",
   "mimetype": "text/x-python",
   "name": "python",
   "nbconvert_exporter": "python",
   "pygments_lexer": "ipython3",
   "version": "3.8.2"
  }
 },
 "nbformat": 4,
 "nbformat_minor": 5
}
