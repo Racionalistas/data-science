{
 "cells": [
  {
   "cell_type": "markdown",
   "id": "f6b5d095",
   "metadata": {},
   "source": [
    "# Условная вероятность"
   ]
  },
  {
   "cell_type": "markdown",
   "id": "5727b947",
   "metadata": {},
   "source": [
    "<strong>Условная вероятность</strong> - вероятность наступления события A при условии, что событие B произошло.\n",
    "\n",
    "Пример:\n",
    "1. A - меня зовут Артём\n",
    "2. B - мой пол мужской\n",
    "\n",
    "Если событие B произошло, то вероятность события A, будет записано как P(A|B)\n",
    "\n",
    "<strong>Определение Колмогорова</strong>\n",
    "\n",
    "P(A|B) = "
   ]
  },
  {
   "cell_type": "markdown",
   "id": "a42232fc",
   "metadata": {},
   "source": [
    "3. Условная вероятность. Определение и свойства. Примеры. Формула\n",
    "полной вероятности.\n",
    "4. Условная вероятность. Определение и свойства. Примеры. Формула\n",
    "Байеса.\n",
    "5. Независимость событий. Независимость попарная, в совокупности.\n",
    "Пример Бернштейна."
   ]
  }
 ],
 "metadata": {
  "kernelspec": {
   "display_name": "Python 3 (ipykernel)",
   "language": "python",
   "name": "python3"
  },
  "language_info": {
   "codemirror_mode": {
    "name": "ipython",
    "version": 3
   },
   "file_extension": ".py",
   "mimetype": "text/x-python",
   "name": "python",
   "nbconvert_exporter": "python",
   "pygments_lexer": "ipython3",
   "version": "3.8.2"
  }
 },
 "nbformat": 4,
 "nbformat_minor": 5
}
