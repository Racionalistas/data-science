{
 "cells": [
  {
   "cell_type": "markdown",
   "id": "a42232fc",
   "metadata": {},
   "source": [
    "3. Условная вероятность. Определение и свойства. Примеры. Формула\n",
    "полной вероятности.\n",
    "4. Условная вероятность. Определение и свойства. Примеры. Формула\n",
    "Байеса.\n",
    "5. Независимость событий. Независимость попарная, в совокупности.\n",
    "Пример Бернштейна."
   ]
  }
 ],
 "metadata": {
  "kernelspec": {
   "display_name": "Python 3 (ipykernel)",
   "language": "python",
   "name": "python3"
  },
  "language_info": {
   "codemirror_mode": {
    "name": "ipython",
    "version": 3
   },
   "file_extension": ".py",
   "mimetype": "text/x-python",
   "name": "python",
   "nbconvert_exporter": "python",
   "pygments_lexer": "ipython3",
   "version": "3.8.2"
  }
 },
 "nbformat": 4,
 "nbformat_minor": 5
}
