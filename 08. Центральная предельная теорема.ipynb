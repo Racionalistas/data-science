{
 "cells": [
  {
   "cell_type": "markdown",
   "id": "3efc4088",
   "metadata": {},
   "source": [
    "# Центральная предельная теорема"
   ]
  },
  {
   "cell_type": "markdown",
   "id": "a14da94a",
   "metadata": {},
   "source": [
    "Центральные предельные теоремы (ЦПТ) — класс теорем в теории вероятностей, утверждающих, \n",
    "что сумма достаточно большого количества слабо зависимых случайных величин, имеющих примерно \n",
    "одинаковые масштабы (ни одно из слагаемых не доминирует, не вносит в сумму определяющего вклада), \n",
    "имеет распределение, близкое к нормальному."
   ]
  },
  {
   "cell_type": "markdown",
   "id": "d3bce4e8",
   "metadata": {},
   "source": [
    "# Пример "
   ]
  },
  {
   "cell_type": "code",
   "execution_count": 1,
   "id": "cd22096e",
   "metadata": {},
   "outputs": [],
   "source": [
    "from statistics import multimode\n",
    "\n",
    "import numpy as np\n",
    "import scipy.stats as sps\n",
    "import matplotlib.pyplot as plt\n",
    "import PyPDF2\n",
    "import re\n",
    "\n",
    "from collections import Counter\n",
    "from collections import OrderedDict\n",
    "\n",
    "%matplotlib inline"
   ]
  },
  {
   "cell_type": "markdown",
   "id": "23fedaba",
   "metadata": {},
   "source": [
    "Создаем функцию для извлечения информации из PDF файла с непрерывными случайными величинами. Далее будем действовать по методике Extract Load Transform (ETL)."
   ]
  },
  {
   "cell_type": "code",
   "execution_count": 2,
   "id": "752c1146",
   "metadata": {},
   "outputs": [],
   "source": [
    "def extract_from_pdf(variant):\n",
    "    \n",
    "    reader = PyPDF2.PdfReader('datasets/Непрерывные величны, практикум 1.pdf')\n",
    "    message = 'Вариант '\n",
    "    variant = f'Вариант {V}'\n",
    "    \n",
    "    for i in range(len(reader.pages)):\n",
    "    \n",
    "        text = reader.pages[i].extract_text()\n",
    "    \n",
    "        if variant in text:\n",
    "            \n",
    "            index = text.index(str(V))\n",
    "            end = index\n",
    "            \n",
    "            while not end == len(text) and not text[end] == 'В':\n",
    "                message += text[end]\n",
    "                end += 1\n",
    "                \n",
    "            return message"
   ]
  },
  {
   "cell_type": "markdown",
   "id": "9c57c8d2",
   "metadata": {},
   "source": [
    "Функция для загрузки параметров из текста, возвращает пару μ и σ_square"
   ]
  },
  {
   "cell_type": "code",
   "execution_count": 3,
   "id": "186a2595",
   "metadata": {},
   "outputs": [],
   "source": [
    "def load_parameters(message):\n",
    "    \n",
    "    parameters = re.findall(r'\\w+', message)\n",
    "    \n",
    "    μ = int(parameters[-2])\n",
    "    σ_square = int(parameters[-1])\n",
    "    \n",
    "    return (μ, np.sqrt(σ_square))"
   ]
  },
  {
   "cell_type": "markdown",
   "id": "3a77201c",
   "metadata": {},
   "source": [
    "Функция для трансформации μ и σ_square в нормальное распределение"
   ]
  },
  {
   "cell_type": "code",
   "execution_count": 4,
   "id": "74f6fe52",
   "metadata": {},
   "outputs": [],
   "source": [
    "def transform_to_distribution(μ, σ_square, size, bin_count):\n",
    "    \n",
    "    normal = sps.norm.rvs(size = size, loc = μ, scale = σ_square)\n",
    "\n",
    "    bins = np.linspace(min(normal), max(normal), num = bin_count)\n",
    "            \n",
    "    counter = Counter(np.digitize(normal, bins))\n",
    "    oredered = OrderedDict(sorted(counter.items(), key = lambda t: t[0]))\n",
    "        \n",
    "    data = dict.fromkeys(bins, 0)\n",
    "\n",
    "    for key, count in oredered.items():\n",
    "        data[bins[key - 1]] = count\n",
    "        \n",
    "    return data"
   ]
  },
  {
   "cell_type": "markdown",
   "id": "7c88fd9e",
   "metadata": {},
   "source": [
    "Задаем начальные параметры"
   ]
  },
  {
   "cell_type": "code",
   "execution_count": 5,
   "id": "beeded25",
   "metadata": {},
   "outputs": [],
   "source": [
    "V = 15 # номер варианта\n",
    "N = 1_000 # количество экспериментов\n",
    "bin_count = 100 # количество интервалов\n",
    "size = 1_000 # размер каждой выборки"
   ]
  },
  {
   "cell_type": "markdown",
   "id": "4a4ceeb2",
   "metadata": {},
   "source": [
    "Достаем текст по варианту, загружаем из текста параметры распределения, создаем N распределений и суммируем по кол-ву вхождений \n",
    "в интервалы"
   ]
  },
  {
   "cell_type": "code",
   "execution_count": 6,
   "id": "218ad51a",
   "metadata": {},
   "outputs": [
    {
     "name": "stdout",
     "output_type": "stream",
     "text": [
      "Вариант 15\n",
      "X распределен по закону N(2, 6)\n",
      "\n"
     ]
    }
   ],
   "source": [
    "message = extract_from_pdf(V)\n",
    "print(message)\n",
    "\n",
    "μ, σ = load_parameters(message)\n",
    "\n",
    "summary = {}\n",
    "\n",
    "for i in range(N):\n",
    "    \n",
    "    data = transform_to_distribution(μ, σ, size = size, bin_count = bin_count)\n",
    "    \n",
    "    for key in data.keys():\n",
    "        summary[key] = summary.get(key, 0) + data[key]\n",
    "\n",
    "oredered = OrderedDict(sorted(summary.items(), key = lambda t: t[0]))\n",
    "\n",
    "keys = np.array(list(oredered.keys()))\n",
    "values = np.array(list(oredered.values()))"
   ]
  },
  {
   "cell_type": "markdown",
   "id": "04707393",
   "metadata": {},
   "source": [
    "Выводим наше суммарное распределение и нормальное с теми же параметрами, не забываем разделить первое на сумму всех значений чтобы свести площадь к единице"
   ]
  },
  {
   "cell_type": "code",
   "execution_count": 7,
   "id": "7bc525d5",
   "metadata": {},
   "outputs": [
    {
     "data": {
      "image/png": "[encoded data removed]",
      "text/plain": [
       "<Figure size 640x480 with 1 Axes>"
      ]
     },
     "metadata": {},
     "output_type": "display_data"
    }
   ],
   "source": [
    "plt.figure()\n",
    "plt.plot(oredered.keys(), values, lw = 2)\n",
    "\n",
    "x_axis = np.arange(min(keys), max(keys), 0.1)\n",
    "\n",
    "norm = sps.norm.pdf(x_axis, μ, σ) * bin_count\n",
    "\n",
    "plt.plot(x_axis, norm)\n",
    "plt.show()"
   ]
  },
  {
   "cell_type": "markdown",
   "id": "b920fc35",
   "metadata": {},
   "source": [
    "Выполним двухвыборочный критерий Колмогорова-Смирнова на соответствие. Нулевая гипотеза состоит в том, что два распределения идентичны."
   ]
  },
  {
   "cell_type": "code",
   "execution_count": 8,
   "id": "897fac79",
   "metadata": {},
   "outputs": [
    {
     "data": {
      "text/plain": [
       "KstestResult(statistic=0.34192034482758615, pvalue=1.3018845351403906e-24, statistic_location=0.9873347540323603, statistic_sign=1)"
      ]
     },
     "execution_count": 8,
     "metadata": {},
     "output_type": "execute_result"
    }
   ],
   "source": [
    "sps.kstest(norm, values)"
   ]
  },
  {
   "cell_type": "markdown",
   "id": "5a8c2678",
   "metadata": {},
   "source": [
    "<strong>Вывод:</strong> как мы видим, два распределения очень похожи, и на больших объемах они все ближе и ближе."
   ]
  },
  {
   "cell_type": "markdown",
   "id": "cd27eee3",
   "metadata": {},
   "source": [
    "<strong>Доделать:</strong>\n",
    "1. Критерий Колмогорова-Смирнова должен выдавать значение > 0.05\n",
    "2. График не красивый\n",
    "3. Вывод слабый"
   ]
  }
 ],
 "metadata": {
  "kernelspec": {
   "display_name": "Python 3 (ipykernel)",
   "language": "python",
   "name": "python3"
  },
  "language_info": {
   "codemirror_mode": {
    "name": "ipython",
    "version": 3
   },
   "file_extension": ".py",
   "mimetype": "text/x-python",
   "name": "python",
   "nbconvert_exporter": "python",
   "pygments_lexer": "ipython3",
   "version": "3.8.2"
  }
 },
 "nbformat": 4,
 "nbformat_minor": 5
}
