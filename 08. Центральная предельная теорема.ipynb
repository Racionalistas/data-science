{
 "cells": [
  {
   "cell_type": "markdown",
   "id": "3efc4088",
   "metadata": {},
   "source": [
    "# Центральная предельная теорема"
   ]
  },
  {
   "cell_type": "markdown",
   "id": "a14da94a",
   "metadata": {},
   "source": [
    "Центральные предельные теоремы (ЦПТ) — класс теорем в теории вероятностей, утверждающих, \n",
    "что сумма достаточно большого количества слабо зависимых случайных величин, имеющих примерно \n",
    "одинаковые масштабы (ни одно из слагаемых не доминирует, не вносит в сумму определяющего вклада), \n",
    "имеет распределение, близкое к нормальному."
   ]
  }
 ],
 "metadata": {
  "kernelspec": {
   "display_name": "Python 3 (ipykernel)",
   "language": "python",
   "name": "python3"
  },
  "language_info": {
   "codemirror_mode": {
    "name": "ipython",
    "version": 3
   },
   "file_extension": ".py",
   "mimetype": "text/x-python",
   "name": "python",
   "nbconvert_exporter": "python",
   "pygments_lexer": "ipython3",
   "version": "3.8.2"
  }
 },
 "nbformat": 4,
 "nbformat_minor": 5
}
