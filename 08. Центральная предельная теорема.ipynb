{
 "cells": [
  {
   "cell_type": "markdown",
   "id": "3efc4088",
   "metadata": {},
   "source": [
    "# Центральная предельная теорема"
   ]
  },
  {
   "cell_type": "markdown",
   "id": "a14da94a",
   "metadata": {},
   "source": [
    "Центральные предельные теоремы (ЦПТ) — класс теорем в теории вероятностей, утверждающих, \n",
    "что сумма достаточно большого количества слабо зависимых случайных величин, имеющих примерно \n",
    "одинаковые масштабы (ни одно из слагаемых не доминирует, не вносит в сумму определяющего вклада), \n",
    "имеет распределение, близкое к нормальному."
   ]
  },
  {
   "cell_type": "code",
   "execution_count": 19,
   "id": "cd22096e",
   "metadata": {},
   "outputs": [],
   "source": [
    "from statistics import multimode\n",
    "\n",
    "import numpy as np\n",
    "import scipy.stats as sps\n",
    "import ipywidgets as widgets\n",
    "import matplotlib.pyplot as plt\n",
    "import PyPDF2\n",
    "import re\n",
    "\n",
    "from collections import Counter\n",
    "from collections import OrderedDict\n",
    "\n",
    "%matplotlib inline"
   ]
  },
  {
   "cell_type": "code",
   "execution_count": 44,
   "id": "752c1146",
   "metadata": {},
   "outputs": [],
   "source": [
    "def extract_from_pdf(variant):\n",
    "    \n",
    "    reader = PyPDF2.PdfReader('datasets/Непрерывные величны, практикум 1.pdf')\n",
    "    message = 'Вариант '\n",
    "    variant = f'Вариант {N}'\n",
    "    \n",
    "    for i in range(len(reader.pages)):\n",
    "    \n",
    "        text = reader.pages[i].extract_text()\n",
    "    \n",
    "        if variant in text:\n",
    "            \n",
    "            index = text.index(str(N))\n",
    "            end = index\n",
    "            \n",
    "            while not end == len(text) and not text[end] == 'В':\n",
    "                message += text[end]\n",
    "                end += 1\n",
    "                \n",
    "            return message"
   ]
  },
  {
   "cell_type": "code",
   "execution_count": 45,
   "id": "186a2595",
   "metadata": {},
   "outputs": [],
   "source": [
    "def load_parameters(message):\n",
    "    \n",
    "    parameters = re.findall(r'\\w+', message)\n",
    "    \n",
    "    μ = int(parameters[-2])\n",
    "    σ_square = int(parameters[-1])\n",
    "    \n",
    "    return (μ, np.sqrt(σ_square))"
   ]
  },
  {
   "cell_type": "code",
   "execution_count": 57,
   "id": "74f6fe52",
   "metadata": {},
   "outputs": [],
   "source": [
    "def transform_to_distribution(μ, σ_square, size = 100, bin_count = 15):\n",
    "    \n",
    "    normal = sps.norm.rvs(size = size, loc = μ, scale = σ_square)\n",
    "\n",
    "    bins = np.linspace(min(normal), max(normal), num = bin_count)\n",
    "            \n",
    "    counter = Counter(np.digitize(normal, bins))\n",
    "    oredered = OrderedDict(sorted(counter.items(), key = lambda t: t[0]))\n",
    "\n",
    "    data = dict.fromkeys(bins, 0)\n",
    "\n",
    "    for key, count in oredered.items():\n",
    "        data[bins[key - 1]] = count\n",
    "        \n",
    "    return (normal, data)"
   ]
  },
  {
   "cell_type": "code",
   "execution_count": 79,
   "id": "218ad51a",
   "metadata": {},
   "outputs": [
    {
     "name": "stdout",
     "output_type": "stream",
     "text": [
      "Вариант 14\n",
      "X распределен по закону N(2, 5)\n",
      "\n"
     ]
    },
    {
     "data": {
      "image/png": "[encoded data removed]",
      "text/plain": [
       "<Figure size 640x480 with 1 Axes>"
      ]
     },
     "metadata": {},
     "output_type": "display_data"
    }
   ],
   "source": [
    "N = 14\n",
    "bin_count = 20\n",
    "size = 100\n",
    "\n",
    "message = extract_from_pdf(N)\n",
    "print(message)\n",
    "\n",
    "μ, σ = load_parameters(message)\n",
    "\n",
    "summary = {}\n",
    "distribution = [0] * size\n",
    "\n",
    "for i in range(100, 1000):\n",
    "    \n",
    "    normal, data = transform_to_distribution(μ, σ, size = size, bin_count = bin_count)\n",
    "\n",
    "    distribution += normal\n",
    "    \n",
    "    for key, value in data.items():\n",
    "        summary[key] = data.get(key, 0) + value\n",
    "    \n",
    "\n",
    "plt.figure()\n",
    "plt.plot(summary.keys(), summary.values(), color = 'blue', lw = 3, label = 'полигон частот')\n",
    "plt.hist(summary, bin_count, color = 'yellow', label = 'гистограмма')\n",
    "plt.legend()\n",
    "plt.show()"
   ]
  },
  {
   "cell_type": "code",
   "execution_count": null,
   "id": "35f66af9",
   "metadata": {},
   "outputs": [],
   "source": []
  }
 ],
 "metadata": {
  "kernelspec": {
   "display_name": "Python 3 (ipykernel)",
   "language": "python",
   "name": "python3"
  },
  "language_info": {
   "codemirror_mode": {
    "name": "ipython",
    "version": 3
   },
   "file_extension": ".py",
   "mimetype": "text/x-python",
   "name": "python",
   "nbconvert_exporter": "python",
   "pygments_lexer": "ipython3",
   "version": "3.11.3"
  }
 },
 "nbformat": 4,
 "nbformat_minor": 5
}
