{
 "cells": [
  {
   "cell_type": "markdown",
   "id": "3efc4088",
   "metadata": {},
   "source": [
    "# Центральная предельная теорема"
   ]
  },
  {
   "cell_type": "markdown",
   "id": "a14da94a",
   "metadata": {},
   "source": [
    "Центральные предельные теоремы (ЦПТ) — класс теорем в теории вероятностей, утверждающих, \n",
    "что сумма достаточно большого количества слабо зависимых случайных величин, имеющих примерно \n",
    "одинаковые масштабы (ни одно из слагаемых не доминирует, не вносит в сумму определяющего вклада), \n",
    "имеет распределение, близкое к нормальному."
   ]
  },
  {
   "cell_type": "markdown",
   "id": "1d50dcfb",
   "metadata": {},
   "source": [
    "# Пример "
   ]
  },
  {
   "cell_type": "code",
   "execution_count": 1,
   "id": "cd22096e",
   "metadata": {},
   "outputs": [],
   "source": [
    "from statistics import multimode\n",
    "\n",
    "import numpy as np\n",
    "import scipy.stats as sps\n",
    "import matplotlib.pyplot as plt\n",
    "import PyPDF2\n",
    "import re\n",
    "\n",
    "from collections import Counter\n",
    "from collections import OrderedDict\n",
    "\n",
    "%matplotlib inline"
   ]
  },
  {
   "cell_type": "markdown",
   "id": "5f227cd9",
   "metadata": {},
   "source": [
    "Создаем функцию для извлечения информации из PDF файла с непрерывными случайными величинами. Далее будем действовать по методике Extract Load Transform (ETL)."
   ]
  },
  {
   "cell_type": "code",
   "execution_count": 2,
   "id": "752c1146",
   "metadata": {},
   "outputs": [],
   "source": [
    "def extract_from_pdf(variant):\n",
    "    \n",
    "    reader = PyPDF2.PdfReader('datasets/Непрерывные величны, практикум 1.pdf')\n",
    "    message = 'Вариант '\n",
    "    variant = f'Вариант {V}'\n",
    "    \n",
    "    for i in range(len(reader.pages)):\n",
    "    \n",
    "        text = reader.pages[i].extract_text()\n",
    "    \n",
    "        if variant in text:\n",
    "            \n",
    "            index = text.index(str(V))\n",
    "            end = index\n",
    "            \n",
    "            while not end == len(text) and not text[end] == 'В':\n",
    "                message += text[end]\n",
    "                end += 1\n",
    "                \n",
    "            return message"
   ]
  },
  {
   "cell_type": "markdown",
   "id": "6fa652eb",
   "metadata": {},
   "source": [
    "Функция для загрузки параметров из текста, возвращает пару μ и σ_square"
   ]
  },
  {
   "cell_type": "code",
   "execution_count": 3,
   "id": "186a2595",
   "metadata": {},
   "outputs": [],
   "source": [
    "def load_parameters(message):\n",
    "    \n",
    "    parameters = re.findall(r'\\w+', message)\n",
    "    \n",
    "    μ = int(parameters[-2])\n",
    "    σ_square = int(parameters[-1])\n",
    "    \n",
    "    return (μ, np.sqrt(σ_square))"
   ]
  },
  {
   "cell_type": "markdown",
   "id": "f717015c",
   "metadata": {},
   "source": [
    "Функция для трансформации μ и σ_square в нормальное распределение"
   ]
  },
  {
   "cell_type": "code",
   "execution_count": 4,
   "id": "74f6fe52",
   "metadata": {},
   "outputs": [],
   "source": [
    "def transform_to_distribution(μ, σ_square, size):\n",
    "    return sps.norm.rvs(size = size, loc = μ, scale = σ_square)\n",
    "\n",
    "def bins(distribution, bin_count):\n",
    "    \n",
    "    bins = np.linspace(min(distribution), max(distribution), num = bin_count)\n",
    "            \n",
    "    counter = Counter(np.digitize(distribution, bins))\n",
    "    oredered = OrderedDict(sorted(counter.items(), key = lambda t: t[0]))\n",
    "        \n",
    "    data = dict.fromkeys(bins, 0)\n",
    "\n",
    "    for key, count in oredered.items():\n",
    "        data[bins[key - 1]] = count\n",
    "        \n",
    "    return data"
   ]
  },
  {
   "cell_type": "markdown",
   "id": "630d5e72",
   "metadata": {},
   "source": [
    "Задаем начальные параметры"
   ]
  },
  {
   "cell_type": "code",
   "execution_count": 5,
   "id": "c477fc86",
   "metadata": {},
   "outputs": [],
   "source": [
    "V = 10 # номер варианта\n",
    "N = 1_000 # количество экспериментов\n",
    "bin_count = 100 # количество интервалов\n",
    "size = 100 # размер каждой выборки"
   ]
  },
  {
   "cell_type": "markdown",
   "id": "787ee619",
   "metadata": {},
   "source": [
    "Достаем текст по варианту, загружаем из текста параметры распределения, создаем N распределений и суммируем по кол-ву вхождений \n",
    "в интервалы"
   ]
  },
  {
   "cell_type": "code",
   "execution_count": 6,
   "id": "218ad51a",
   "metadata": {},
   "outputs": [
    {
     "name": "stdout",
     "output_type": "stream",
     "text": [
      "Вариант 10\n",
      "X распределен по закону N(2, 1)\n",
      "\n"
     ]
    }
   ],
   "source": [
    "message = extract_from_pdf(V)\n",
    "print(message)\n",
    "\n",
    "μ, σ = load_parameters(message)\n",
    "\n",
    "def culc(variant, N, bin_count, size):\n",
    "    \n",
    "    summary = []\n",
    "\n",
    "    for i in range(N):\n",
    "        data = transform_to_distribution(μ, σ, size = size)\n",
    "        summary.extend(list(data))\n",
    "\n",
    "    data = bins(summary, bin_count)\n",
    "\n",
    "    keys = data.keys()\n",
    "    values = np.array(list(data.values()))\n",
    "    values = values / values.sum() * bin_count / (max(keys) - min(keys))\n",
    "    \n",
    "    return keys, values\n",
    "    \n",
    "keys, values = culc(V, N, bin_count, size)"
   ]
  },
  {
   "cell_type": "markdown",
   "id": "73df14d1",
   "metadata": {},
   "source": [
    "Выводим наше суммарное распределение и нормальное с теми же параметрами, не забываем разделить первое на сумму всех значений чтобы свести площадь к единице"
   ]
  },
  {
   "cell_type": "code",
   "execution_count": 7,
   "id": "e241b805",
   "metadata": {},
   "outputs": [
    {
     "data": {
      "image/png": "[encoded data removed]",
      "text/plain": [
       "<Figure size 640x480 with 1 Axes>"
      ]
     },
     "metadata": {},
     "output_type": "display_data"
    }
   ],
   "source": [
    "x_axis = np.linspace(min(keys), max(keys), bin_count)\n",
    "\n",
    "norm = sps.norm.pdf(x_axis, μ, σ)\n",
    "\n",
    "plt.figure()\n",
    "plt.plot(keys, norm, color = 'blue')\n",
    "\n",
    "plt.plot(x_axis, values, color = 'red')\n",
    "plt.show()"
   ]
  },
  {
   "cell_type": "markdown",
   "id": "eb68bcf1",
   "metadata": {},
   "source": [
    "Выполним двухвыборочный критерий Колмогорова-Смирнова на соответствие. Нулевая гипотеза состоит в том, что два распределения идентичны."
   ]
  },
  {
   "cell_type": "code",
   "execution_count": 8,
   "id": "5b8ae209",
   "metadata": {},
   "outputs": [
    {
     "name": "stdout",
     "output_type": "stream",
     "text": [
      "KstestResult(statistic=0.12, pvalue=0.469506448503778, statistic_location=0.0, statistic_sign=-1)\n",
      "KstestResult(statistic=0.09, pvalue=0.8154147124661313, statistic_location=0.0, statistic_sign=-1)\n",
      "KstestResult(statistic=0.06, pvalue=0.9942356257694902, statistic_location=3.700908135862478e-05, statistic_sign=-1)\n",
      "KstestResult(statistic=0.1, pvalue=0.7020569828664881, statistic_location=5.2940121376994994e-05, statistic_sign=-1)\n",
      "KstestResult(statistic=0.1, pvalue=0.7020569828664881, statistic_location=6.392012645425924e-05, statistic_sign=-1)\n"
     ]
    }
   ],
   "source": [
    "for i in range(1, 6):\n",
    "    \n",
    "    experimental = culc(V, N * i, bin_count, size)[1]\n",
    "    print(sps.kstest(norm, experimental))"
   ]
  },
  {
   "cell_type": "markdown",
   "id": "fddd88e7",
   "metadata": {},
   "source": [
    "<strong>Вывод:</strong> как мы видим, два распределения очень похожи, и на больших объемах они все ближе и ближе. P-value > 0.05, значит что мы имеем вероятность 5-95% того, что эти распределения идентичны."
   ]
  }
 ],
 "metadata": {
  "kernelspec": {
   "display_name": "Python 3 (ipykernel)",
   "language": "python",
   "name": "python3"
  },
  "language_info": {
   "codemirror_mode": {
    "name": "ipython",
    "version": 3
   },
   "file_extension": ".py",
   "mimetype": "text/x-python",
   "name": "python",
   "nbconvert_exporter": "python",
   "pygments_lexer": "ipython3",
   "version": "3.8.2"
  }
 },
 "nbformat": 4,
 "nbformat_minor": 5
}
