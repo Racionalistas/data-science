{
 "cells": [
  {
   "cell_type": "markdown",
   "id": "0d4a2141-c59a-4b42-ac8c-5a70747d3f9d",
   "metadata": {},
   "source": [
    "Устанавливаем необходимые утилиты"
   ]
  },
  {
   "cell_type": "code",
   "execution_count": 1,
   "id": "1f34cd54-a565-4818-bf86-9b4a08b7aba1",
   "metadata": {},
   "outputs": [],
   "source": [
    "!pip install -q nbconvert nbconvert[webpdf] pyppeteer"
   ]
  },
  {
   "cell_type": "markdown",
   "id": "eb1792b6-acd3-4be2-afed-5243dffa635d",
   "metadata": {},
   "source": [
    "Указываем интересующую нас папку и берем из нее все .IPYNB файлы"
   ]
  },
  {
   "cell_type": "code",
   "execution_count": 2,
   "id": "85f43372-59b5-4262-a3b4-d039c22765fa",
   "metadata": {},
   "outputs": [
    {
     "name": "stdout",
     "output_type": "stream",
     "text": [
      "Файлов затронуто: 6\n"
     ]
    }
   ],
   "source": [
    "import glob\n",
    "import os\n",
    "\n",
    "path = [\n",
    "    'mathematical-modeling-and-data-analysis',\n",
    "    'Блоки 6-7 - Дифференциальные модели'\n",
    "]\n",
    "mask = os.path.join(os.getcwd(), *path, '*.ipynb')\n",
    "files = glob.glob(mask)\n",
    "\n",
    "print(f'Файлов затронуто: {len(files)}')"
   ]
  },
  {
   "cell_type": "markdown",
   "id": "148eb505-880e-40a9-800a-c6b31d93a9a5",
   "metadata": {},
   "source": [
    "Конвенртируем все файлы в .PDF"
   ]
  },
  {
   "cell_type": "code",
   "execution_count": 3,
   "id": "eebddb52-b4dc-4fe3-a0fa-0200c1c9481f",
   "metadata": {},
   "outputs": [],
   "source": [
    "for file in files:\n",
    "    !jupyter nbconvert --log-level ERROR --to webpdf --allow-chromium-download \"{file}\""
   ]
  }
 ],
 "metadata": {
  "kernelspec": {
   "display_name": "Python 3 (ipykernel)",
   "language": "python",
   "name": "python3"
  },
  "language_info": {
   "codemirror_mode": {
    "name": "ipython",
    "version": 3
   },
   "file_extension": ".py",
   "mimetype": "text/x-python",
   "name": "python",
   "nbconvert_exporter": "python",
   "pygments_lexer": "ipython3",
   "version": "3.11.0"
  }
 },
 "nbformat": 4,
 "nbformat_minor": 5
}
